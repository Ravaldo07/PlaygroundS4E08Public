{
 "cells": [
  {
   "cell_type": "code",
   "execution_count": 1,
   "id": "98e2961e",
   "metadata": {
    "execution": {
     "iopub.execute_input": "2024-08-10T08:07:41.961698Z",
     "iopub.status.busy": "2024-08-10T08:07:41.961297Z",
     "iopub.status.idle": "2024-08-10T08:09:09.367039Z",
     "shell.execute_reply": "2024-08-10T08:09:09.365044Z"
    },
    "papermill": {
     "duration": 87.478266,
     "end_time": "2024-08-10T08:09:09.435360",
     "exception": false,
     "start_time": "2024-08-10T08:07:41.957094",
     "status": "completed"
    },
    "tags": []
   },
   "outputs": [
    {
     "name": "stdout",
     "output_type": "stream",
     "text": [
      "\n",
      "CPU times: user 1.7 s, sys: 332 ms, total: 2.04 s\n",
      "Wall time: 1min 27s\n"
     ]
    }
   ],
   "source": [
    "%%time \n",
    "\n",
    "import os\n",
    "\n",
    "try:\n",
    "    os.mkdir(\"/kaggle/working/LAMA038\");\n",
    "except:\n",
    "    pass;\n",
    "\n",
    "!pip -q download lightautoml -d \"/kaggle/working/LAMA038\"\n",
    "\n",
    "try:\n",
    "    os.mkdir(\"/kaggle/working/Polars121\");\n",
    "except:\n",
    "    pass;\n",
    "!pip -q download polars==1.2.1 -d \"/kaggle/working/Polars121\"\n",
    "\n",
    "print()"
   ]
  },
  {
   "cell_type": "code",
   "execution_count": 2,
   "id": "2bc37841",
   "metadata": {
    "execution": {
     "iopub.execute_input": "2024-08-10T08:09:09.555071Z",
     "iopub.status.busy": "2024-08-10T08:09:09.553515Z",
     "iopub.status.idle": "2024-08-10T08:09:09.564609Z",
     "shell.execute_reply": "2024-08-10T08:09:09.563221Z"
    },
    "papermill": {
     "duration": 0.019592,
     "end_time": "2024-08-10T08:09:09.567365",
     "exception": false,
     "start_time": "2024-08-10T08:09:09.547773",
     "status": "completed"
    },
    "tags": []
   },
   "outputs": [
    {
     "name": "stdout",
     "output_type": "stream",
     "text": [
      "Writing requirements.txt\n"
     ]
    }
   ],
   "source": [
    "%%writefile requirements.txt\n",
    "lightgbm==4.5.0\n",
    "numpy==1.26.4\n",
    "scipy==1.11.4"
   ]
  },
  {
   "cell_type": "code",
   "execution_count": 3,
   "id": "fd99ef38",
   "metadata": {
    "execution": {
     "iopub.execute_input": "2024-08-10T08:09:09.663465Z",
     "iopub.status.busy": "2024-08-10T08:09:09.662145Z",
     "iopub.status.idle": "2024-08-10T08:09:14.295178Z",
     "shell.execute_reply": "2024-08-10T08:09:14.293598Z"
    },
    "papermill": {
     "duration": 4.641896,
     "end_time": "2024-08-10T08:09:14.298121",
     "exception": false,
     "start_time": "2024-08-10T08:09:09.656225",
     "status": "completed"
    },
    "tags": []
   },
   "outputs": [],
   "source": [
    "try:\n",
    "    os.mkdir(\"/kaggle/working/LGBM450\");\n",
    "except:\n",
    "    pass;\n",
    "!pip -q download -r requirements.txt -d \"/kaggle/working/LGBM450\"\n"
   ]
  }
 ],
 "metadata": {
  "kaggle": {
   "accelerator": "none",
   "dataSources": [
    {
     "databundleVersionId": 9094797,
     "sourceId": 63056,
     "sourceType": "competition"
    }
   ],
   "dockerImageVersionId": 30746,
   "isGpuEnabled": false,
   "isInternetEnabled": true,
   "language": "python",
   "sourceType": "notebook"
  },
  "kernelspec": {
   "display_name": "Python 3",
   "language": "python",
   "name": "python3"
  },
  "language_info": {
   "codemirror_mode": {
    "name": "ipython",
    "version": 3
   },
   "file_extension": ".py",
   "mimetype": "text/x-python",
   "name": "python",
   "nbconvert_exporter": "python",
   "pygments_lexer": "ipython3",
   "version": "3.10.13"
  },
  "papermill": {
   "default_parameters": {},
   "duration": 95.965936,
   "end_time": "2024-08-10T08:09:14.723607",
   "environment_variables": {},
   "exception": null,
   "input_path": "__notebook__.ipynb",
   "output_path": "__notebook__.ipynb",
   "parameters": {},
   "start_time": "2024-08-10T08:07:38.757671",
   "version": "2.5.0"
  }
 },
 "nbformat": 4,
 "nbformat_minor": 5
}
