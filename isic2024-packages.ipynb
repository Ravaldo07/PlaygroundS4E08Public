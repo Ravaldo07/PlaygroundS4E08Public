{
 "cells": [
  {
   "cell_type": "code",
   "execution_count": 1,
   "id": "cfcdddcc",
   "metadata": {
    "execution": {
     "iopub.execute_input": "2024-08-10T07:50:16.314613Z",
     "iopub.status.busy": "2024-08-10T07:50:16.314197Z",
     "iopub.status.idle": "2024-08-10T07:51:49.319770Z",
     "shell.execute_reply": "2024-08-10T07:51:49.318163Z"
    },
    "papermill": {
     "duration": 93.013218,
     "end_time": "2024-08-10T07:51:49.323232",
     "exception": false,
     "start_time": "2024-08-10T07:50:16.310014",
     "status": "completed"
    },
    "tags": []
   },
   "outputs": [
    {
     "name": "stdout",
     "output_type": "stream",
     "text": [
      "\n",
      "CPU times: user 1.81 s, sys: 364 ms, total: 2.17 s\n",
      "Wall time: 1min 32s\n"
     ]
    }
   ],
   "source": [
    "%%time \n",
    "\n",
    "import os\n",
    "\n",
    "try:\n",
    "    os.mkdir(\"/kaggle/working/LAMA038\");\n",
    "except:\n",
    "    pass;\n",
    "\n",
    "!pip -q download lightautoml -d \"/kaggle/working/LAMA038\"\n",
    "\n",
    "try:\n",
    "    os.mkdir(\"/kaggle/working/Polars121\");\n",
    "except:\n",
    "    pass;\n",
    "!pip -q download polars==1.2.1 -d \"/kaggle/working/Polars121\"\n",
    "\n",
    "print()"
   ]
  },
  {
   "cell_type": "code",
   "execution_count": 2,
   "id": "8a700f03",
   "metadata": {
    "execution": {
     "iopub.execute_input": "2024-08-10T07:51:49.330335Z",
     "iopub.status.busy": "2024-08-10T07:51:49.329299Z",
     "iopub.status.idle": "2024-08-10T07:51:49.338130Z",
     "shell.execute_reply": "2024-08-10T07:51:49.336844Z"
    },
    "papermill": {
     "duration": 0.015321,
     "end_time": "2024-08-10T07:51:49.340821",
     "exception": false,
     "start_time": "2024-08-10T07:51:49.325500",
     "status": "completed"
    },
    "tags": []
   },
   "outputs": [
    {
     "name": "stdout",
     "output_type": "stream",
     "text": [
      "Writing requirements.txt\n"
     ]
    }
   ],
   "source": [
    "%%writefile requirements.txt\n",
    "lightgbm==4.5.0\n",
    "numpy==1.26.4\n",
    "scipy==1.11.4"
   ]
  },
  {
   "cell_type": "code",
   "execution_count": 3,
   "id": "bc49f2ee",
   "metadata": {
    "execution": {
     "iopub.execute_input": "2024-08-10T07:51:49.348817Z",
     "iopub.status.busy": "2024-08-10T07:51:49.347809Z",
     "iopub.status.idle": "2024-08-10T07:51:53.509028Z",
     "shell.execute_reply": "2024-08-10T07:51:53.507714Z"
    },
    "papermill": {
     "duration": 4.168157,
     "end_time": "2024-08-10T07:51:53.511949",
     "exception": false,
     "start_time": "2024-08-10T07:51:49.343792",
     "status": "completed"
    },
    "tags": []
   },
   "outputs": [],
   "source": [
    "try:\n",
    "    os.mkdir(\"/kaggle/working/LGBM450\");\n",
    "except:\n",
    "    pass;\n",
    "!pip -q download -r requirements.txt -d \"/kaggle/working/LGBM450\"\n"
   ]
  }
 ],
 "metadata": {
  "kaggle": {
   "accelerator": "none",
   "dataSources": [
    {
     "databundleVersionId": 9094797,
     "sourceId": 63056,
     "sourceType": "competition"
    }
   ],
   "dockerImageVersionId": 30746,
   "isGpuEnabled": false,
   "isInternetEnabled": true,
   "language": "python",
   "sourceType": "notebook"
  },
  "kernelspec": {
   "display_name": "Python 3",
   "language": "python",
   "name": "python3"
  },
  "language_info": {
   "codemirror_mode": {
    "name": "ipython",
    "version": 3
   },
   "file_extension": ".py",
   "mimetype": "text/x-python",
   "name": "python",
   "nbconvert_exporter": "python",
   "pygments_lexer": "ipython3",
   "version": "3.10.13"
  },
  "papermill": {
   "default_parameters": {},
   "duration": 100.55735,
   "end_time": "2024-08-10T07:51:53.936915",
   "environment_variables": {},
   "exception": null,
   "input_path": "__notebook__.ipynb",
   "output_path": "__notebook__.ipynb",
   "parameters": {},
   "start_time": "2024-08-10T07:50:13.379565",
   "version": "2.5.0"
  }
 },
 "nbformat": 4,
 "nbformat_minor": 5
}
