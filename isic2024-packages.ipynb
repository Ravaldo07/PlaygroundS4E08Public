{
 "cells": [
  {
   "cell_type": "code",
   "execution_count": 1,
   "id": "3171b65b",
   "metadata": {
    "execution": {
     "iopub.execute_input": "2024-08-10T07:56:38.697681Z",
     "iopub.status.busy": "2024-08-10T07:56:38.697254Z",
     "iopub.status.idle": "2024-08-10T07:57:58.906546Z",
     "shell.execute_reply": "2024-08-10T07:57:58.904171Z"
    },
    "papermill": {
     "duration": 80.222939,
     "end_time": "2024-08-10T07:57:58.916089",
     "exception": false,
     "start_time": "2024-08-10T07:56:38.693150",
     "status": "completed"
    },
    "tags": []
   },
   "outputs": [
    {
     "name": "stdout",
     "output_type": "stream",
     "text": [
      "\n",
      "CPU times: user 1.6 s, sys: 311 ms, total: 1.92 s\n",
      "Wall time: 1min 20s\n"
     ]
    }
   ],
   "source": [
    "%%time \n",
    "\n",
    "import os\n",
    "\n",
    "try:\n",
    "    os.mkdir(\"/kaggle/working/LAMA038\");\n",
    "except:\n",
    "    pass;\n",
    "\n",
    "!pip -q download lightautoml -d \"/kaggle/working/LAMA038\"\n",
    "\n",
    "try:\n",
    "    os.mkdir(\"/kaggle/working/Polars121\");\n",
    "except:\n",
    "    pass;\n",
    "!pip -q download polars==1.2.1 -d \"/kaggle/working/Polars121\"\n",
    "\n",
    "print()"
   ]
  },
  {
   "cell_type": "code",
   "execution_count": 2,
   "id": "bfcea4ee",
   "metadata": {
    "execution": {
     "iopub.execute_input": "2024-08-10T07:57:58.926470Z",
     "iopub.status.busy": "2024-08-10T07:57:58.925809Z",
     "iopub.status.idle": "2024-08-10T07:57:58.940220Z",
     "shell.execute_reply": "2024-08-10T07:57:58.938574Z"
    },
    "papermill": {
     "duration": 0.023994,
     "end_time": "2024-08-10T07:57:58.943757",
     "exception": false,
     "start_time": "2024-08-10T07:57:58.919763",
     "status": "completed"
    },
    "tags": []
   },
   "outputs": [
    {
     "name": "stdout",
     "output_type": "stream",
     "text": [
      "Writing requirements.txt\n"
     ]
    }
   ],
   "source": [
    "%%writefile requirements.txt\n",
    "lightgbm==4.5.0\n",
    "numpy==1.26.4\n",
    "scipy==1.11.4"
   ]
  },
  {
   "cell_type": "code",
   "execution_count": 3,
   "id": "bad12cb6",
   "metadata": {
    "execution": {
     "iopub.execute_input": "2024-08-10T07:57:58.951159Z",
     "iopub.status.busy": "2024-08-10T07:57:58.950699Z",
     "iopub.status.idle": "2024-08-10T07:58:04.320412Z",
     "shell.execute_reply": "2024-08-10T07:58:04.318772Z"
    },
    "papermill": {
     "duration": 5.377168,
     "end_time": "2024-08-10T07:58:04.323692",
     "exception": false,
     "start_time": "2024-08-10T07:57:58.946524",
     "status": "completed"
    },
    "tags": []
   },
   "outputs": [],
   "source": [
    "try:\n",
    "    os.mkdir(\"/kaggle/working/LGBM450\");\n",
    "except:\n",
    "    pass;\n",
    "!pip -q download -r requirements.txt -d \"/kaggle/working/LGBM450\"\n"
   ]
  }
 ],
 "metadata": {
  "kaggle": {
   "accelerator": "none",
   "dataSources": [
    {
     "databundleVersionId": 9094797,
     "sourceId": 63056,
     "sourceType": "competition"
    }
   ],
   "dockerImageVersionId": 30746,
   "isGpuEnabled": false,
   "isInternetEnabled": true,
   "language": "python",
   "sourceType": "notebook"
  },
  "kernelspec": {
   "display_name": "Python 3",
   "language": "python",
   "name": "python3"
  },
  "language_info": {
   "codemirror_mode": {
    "name": "ipython",
    "version": 3
   },
   "file_extension": ".py",
   "mimetype": "text/x-python",
   "name": "python",
   "nbconvert_exporter": "python",
   "pygments_lexer": "ipython3",
   "version": "3.10.13"
  },
  "papermill": {
   "default_parameters": {},
   "duration": 89.911781,
   "end_time": "2024-08-10T07:58:05.370582",
   "environment_variables": {},
   "exception": null,
   "input_path": "__notebook__.ipynb",
   "output_path": "__notebook__.ipynb",
   "parameters": {},
   "start_time": "2024-08-10T07:56:35.458801",
   "version": "2.5.0"
  }
 },
 "nbformat": 4,
 "nbformat_minor": 5
}
