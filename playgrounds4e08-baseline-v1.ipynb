{
 "cells": [
  {
   "cell_type": "code",
   "execution_count": null,
   "id": "d8fb1864",
   "metadata": {
    "jupyter": {
     "source_hidden": true
    },
    "papermill": {
     "duration": 0.005838,
     "end_time": "2024-08-03T12:45:09.282843",
     "exception": false,
     "start_time": "2024-08-03T12:45:09.277005",
     "status": "completed"
    },
    "tags": []
   },
   "outputs": [],
   "source": []
  },
  {
   "cell_type": "markdown",
   "id": "8719c178",
   "metadata": {
    "papermill": {
     "duration": 0.004921,
     "end_time": "2024-08-03T12:45:09.293219",
     "exception": false,
     "start_time": "2024-08-03T12:45:09.288298",
     "status": "completed"
    },
    "tags": []
   },
   "source": [
    "# **IMPORTS AND INSTALLATIONS**"
   ]
  },
  {
   "cell_type": "code",
   "execution_count": 1,
   "id": "1440501a",
   "metadata": {
    "_kg_hide-input": true,
    "_kg_hide-output": true,
    "execution": {
     "iopub.execute_input": "2024-08-03T12:45:09.305511Z",
     "iopub.status.busy": "2024-08-03T12:45:09.305126Z",
     "iopub.status.idle": "2024-08-03T12:45:57.163691Z",
     "shell.execute_reply": "2024-08-03T12:45:57.162825Z"
    },
    "jupyter": {
     "source_hidden": true
    },
    "papermill": {
     "duration": 47.867745,
     "end_time": "2024-08-03T12:45:57.166265",
     "exception": false,
     "start_time": "2024-08-03T12:45:09.298520",
     "status": "completed"
    },
    "tags": []
   },
   "outputs": [
    {
     "name": "stdout",
     "output_type": "stream",
     "text": [
      "Collecting lightgbm==4.5.0\n",
      "  Downloading lightgbm-4.5.0-py3-none-manylinux_2_28_x86_64.whl.metadata (17 kB)\n",
      "Requirement already satisfied: numpy>=1.17.0 in /opt/conda/lib/python3.10/site-packages (from lightgbm==4.5.0) (1.26.4)\n",
      "Requirement already satisfied: scipy in /opt/conda/lib/python3.10/site-packages (from lightgbm==4.5.0) (1.11.4)\n",
      "Downloading lightgbm-4.5.0-py3-none-manylinux_2_28_x86_64.whl (3.6 MB)\n",
      "\u001b[2K   \u001b[90m━━━━━━━━━━━━━━━━━━━━━━━━━━━━━━━━━━━━━━━━\u001b[0m \u001b[32m3.6/3.6 MB\u001b[0m \u001b[31m44.3 MB/s\u001b[0m eta \u001b[36m0:00:00\u001b[0m\n",
      "\u001b[?25hInstalling collected packages: lightgbm\n",
      "  Attempting uninstall: lightgbm\n",
      "    Found existing installation: lightgbm 4.2.0\n",
      "    Uninstalling lightgbm-4.2.0:\n",
      "      Successfully uninstalled lightgbm-4.2.0\n",
      "Successfully installed lightgbm-4.5.0\n",
      "Collecting polars==1.2.1\n",
      "  Downloading polars-1.2.1-cp38-abi3-manylinux_2_17_x86_64.manylinux2014_x86_64.whl.metadata (14 kB)\n",
      "Downloading polars-1.2.1-cp38-abi3-manylinux_2_17_x86_64.manylinux2014_x86_64.whl (30.9 MB)\n",
      "\u001b[2K   \u001b[90m━━━━━━━━━━━━━━━━━━━━━━━━━━━━━━━━━━━━━━━━\u001b[0m \u001b[32m30.9/30.9 MB\u001b[0m \u001b[31m47.6 MB/s\u001b[0m eta \u001b[36m0:00:00\u001b[0m\n",
      "\u001b[?25hInstalling collected packages: polars\n",
      "  Attempting uninstall: polars\n",
      "    Found existing installation: polars 1.1.0\n",
      "    Uninstalling polars-1.1.0:\n",
      "      Successfully uninstalled polars-1.1.0\n",
      "Successfully installed polars-1.2.1\n",
      "Collecting ucimlrepo\n",
      "  Downloading ucimlrepo-0.0.7-py3-none-any.whl.metadata (5.5 kB)\n",
      "Requirement already satisfied: pandas>=1.0.0 in /opt/conda/lib/python3.10/site-packages (from ucimlrepo) (2.2.2)\n",
      "Requirement already satisfied: certifi>=2020.12.5 in /opt/conda/lib/python3.10/site-packages (from ucimlrepo) (2024.7.4)\n",
      "Requirement already satisfied: numpy>=1.22.4 in /opt/conda/lib/python3.10/site-packages (from pandas>=1.0.0->ucimlrepo) (1.26.4)\n",
      "Requirement already satisfied: python-dateutil>=2.8.2 in /opt/conda/lib/python3.10/site-packages (from pandas>=1.0.0->ucimlrepo) (2.9.0.post0)\n",
      "Requirement already satisfied: pytz>=2020.1 in /opt/conda/lib/python3.10/site-packages (from pandas>=1.0.0->ucimlrepo) (2023.3.post1)\n",
      "Requirement already satisfied: tzdata>=2022.7 in /opt/conda/lib/python3.10/site-packages (from pandas>=1.0.0->ucimlrepo) (2023.4)\n",
      "Requirement already satisfied: six>=1.5 in /opt/conda/lib/python3.10/site-packages (from python-dateutil>=2.8.2->pandas>=1.0.0->ucimlrepo) (1.16.0)\n",
      "Downloading ucimlrepo-0.0.7-py3-none-any.whl (8.0 kB)\n",
      "Installing collected packages: ucimlrepo\n",
      "Successfully installed ucimlrepo-0.0.7\n"
     ]
    }
   ],
   "source": [
    "%%capture \n",
    "\n",
    "!cp /kaggle/usr/lib/regularimports/playgrounds4e08_regularimports.py myimports.py\n",
    "from myimports import *"
   ]
  },
  {
   "cell_type": "markdown",
   "id": "3b4be198",
   "metadata": {
    "papermill": {
     "duration": 0.006397,
     "end_time": "2024-08-03T12:45:57.179079",
     "exception": false,
     "start_time": "2024-08-03T12:45:57.172682",
     "status": "completed"
    },
    "tags": []
   },
   "source": [
    "# **FOREWORD**"
   ]
  },
  {
   "cell_type": "markdown",
   "id": "85387f98",
   "metadata": {
    "papermill": {
     "duration": 0.006087,
     "end_time": "2024-08-03T12:45:57.191558",
     "exception": false,
     "start_time": "2024-08-03T12:45:57.185471",
     "status": "completed"
    },
    "tags": []
   },
   "source": [
    "This kernel starts with the datasets created in the [Data-Store](https://www.kaggle.com/code/ravi20076/playgrounds4e08-datastore) kernel. I do this to prevent multiple data creation endeavors across my experiments as I move along my model pipeline. <br>\n",
    "\n",
    "In this kernel, we start off with a simple LightGBM baseline model and assess the efficiacy of adding the tertiary original data to the model data. <br>\n",
    "Note that the tertiary data is created from the associated GitHub repository but it does not have the GAN-noise component in the competition dataset. We need to factor this in our model endeavors in this assignment. "
   ]
  },
  {
   "cell_type": "markdown",
   "id": "c8e79cba",
   "metadata": {
    "papermill": {
     "duration": 0.006292,
     "end_time": "2024-08-03T12:45:57.204441",
     "exception": false,
     "start_time": "2024-08-03T12:45:57.198149",
     "status": "completed"
    },
    "tags": []
   },
   "source": [
    "# **CONFIGURATION**"
   ]
  },
  {
   "cell_type": "code",
   "execution_count": 2,
   "id": "1ddf9c83",
   "metadata": {
    "execution": {
     "iopub.execute_input": "2024-08-03T12:45:57.219695Z",
     "iopub.status.busy": "2024-08-03T12:45:57.218604Z",
     "iopub.status.idle": "2024-08-03T12:45:57.225813Z",
     "shell.execute_reply": "2024-08-03T12:45:57.224846Z"
    },
    "papermill": {
     "duration": 0.017128,
     "end_time": "2024-08-03T12:45:57.228193",
     "exception": false,
     "start_time": "2024-08-03T12:45:57.211065",
     "status": "completed"
    },
    "tags": []
   },
   "outputs": [
    {
     "name": "stdout",
     "output_type": "stream",
     "text": [
      "CPU times: user 6 µs, sys: 0 ns, total: 6 µs\n",
      "Wall time: 9.3 µs\n"
     ]
    }
   ],
   "source": [
    "%%time \n",
    "\n",
    "target      = \"class\"\n",
    "test_req    = False\n",
    "\n",
    "model_label = \"LGBM\"\n",
    "version_nb  = 1\n",
    "model_group = 2\n",
    "device      = \"cpu\"\n",
    "\n",
    "op_path    = f\"/kaggle/working\"\n",
    "ip_path    = f\"/kaggle/input/playgrounds4e08-datastore\"\n",
    "\n",
    "orig_req   = True\n",
    "nsamples   = 100_000\n",
    "\n",
    "n_splits     = 5\n",
    "state        = 42\n",
    "ftre_imp_req = True\n",
    "cutoff       = 0.50"
   ]
  },
  {
   "cell_type": "markdown",
   "id": "10d303d1",
   "metadata": {
    "papermill": {
     "duration": 0.006603,
     "end_time": "2024-08-03T12:45:57.241419",
     "exception": false,
     "start_time": "2024-08-03T12:45:57.234816",
     "status": "completed"
    },
    "tags": []
   },
   "source": [
    "# **DATA LOADS**"
   ]
  },
  {
   "cell_type": "code",
   "execution_count": 3,
   "id": "24363d28",
   "metadata": {
    "execution": {
     "iopub.execute_input": "2024-08-03T12:45:57.257261Z",
     "iopub.status.busy": "2024-08-03T12:45:57.256597Z",
     "iopub.status.idle": "2024-08-03T12:46:17.248533Z",
     "shell.execute_reply": "2024-08-03T12:46:17.247190Z"
    },
    "jupyter": {
     "source_hidden": true
    },
    "papermill": {
     "duration": 20.002887,
     "end_time": "2024-08-03T12:46:17.251055",
     "exception": false,
     "start_time": "2024-08-03T12:45:57.248168",
     "status": "completed"
    },
    "tags": []
   },
   "outputs": [
    {
     "name": "stdout",
     "output_type": "stream",
     "text": [
      "\u001b[1m\u001b[34m---> Shapes = (4201981, 22) | (2077964, 21)\u001b[0m\n",
      "\u001b[1m\u001b[34m\n",
      "---> We need the original data for model training\u001b[0m\n",
      "\u001b[1m\u001b[31m---> Syntax check is not needed\u001b[0m\n",
      "\u001b[1m\u001b[34m---> Shapes = (3316945, 21) | (3316945,) | (2077964, 21)\u001b[0m\n",
      "\n",
      "CPU times: user 19.8 s, sys: 3.1 s, total: 22.9 s\n",
      "Wall time: 20 s\n"
     ]
    }
   ],
   "source": [
    "%%time \n",
    "\n",
    "X      = pd.read_parquet(os.path.join(ip_path, \"train.parquet\"))\n",
    "test   = pd.read_parquet(os.path.join(ip_path, \"test.parquet\"))\n",
    "sub_fl = pd.read_parquet(os.path.join(ip_path, \"sample_submission.parquet\"))\n",
    "\n",
    "cat_cols = \\\n",
    "['capshape', 'capsurface', 'capcolor', 'doesbruiseorbleed',\n",
    " 'gillattachment', 'gillspacing', 'gillcolor', 'stemroot', 'stemsurface',\n",
    " 'stemcolor', 'veiltype', 'veilcolor', 'hasring', 'ringtype',\n",
    " 'sporeprintcolor', 'habitat', 'season'\n",
    " ]\n",
    "\n",
    "X[cat_cols]     = X[cat_cols].astype(\"category\")\n",
    "test[cat_cols]  = test[cat_cols].astype(\"category\")\n",
    "\n",
    "PrintColor(f\"---> Shapes = {X.shape} | {test.shape}\")\n",
    "\n",
    "if orig_req:\n",
    "    PrintColor(f\"\\n---> We need the original data for model training\")\n",
    "    \n",
    "    if isinstance(nsamples, int):\n",
    "        original = X.loc[X.Source == 'Original'].groupby(target).sample(n = nsamples)\n",
    "        X = X.loc[X.Source == 'Competition']\n",
    "        X = pd.concat([X, original], axis=0, ignore_index = True)\n",
    "        X.index = range(len(X))\n",
    "        del original\n",
    "        \n",
    "    elif nsamples == 1.0:\n",
    "        PrintColor(f\"---> Full original data is used\")     \n",
    "else:\n",
    "    X = X.loc[X.Source == 'Competition']\n",
    "    PrintColor(f\"---> Shapes = {X.shape} | {test.shape} | without original data\", \n",
    "               color = Fore.RED\n",
    "              )\n",
    "\n",
    "# Sampling for testing purposes\n",
    "if test_req:\n",
    "    X       = X.groupby([target, \"Source\"]).head(1000)\n",
    "    X.index = range(len(X))\n",
    "    test    = test.iloc[0:100]\n",
    "    sub_fl  = sub_fl.iloc[0:100]\n",
    "    \n",
    "    PrintColor(f\"---> Shapes = {X.shape} | {test.shape}\")\n",
    "else:\n",
    "    PrintColor(f\"---> Syntax check is not needed\", color = Fore.RED)\n",
    "    \n",
    "y = X[target]\n",
    "X = X.drop(target, axis=1)\n",
    "\n",
    "PrintColor(f\"---> Shapes = {X.shape} | {y.shape} | {test.shape}\")\n",
    "    \n",
    "print();\n",
    "collect();"
   ]
  },
  {
   "cell_type": "markdown",
   "id": "d012f7e4",
   "metadata": {
    "papermill": {
     "duration": 0.006897,
     "end_time": "2024-08-03T12:46:17.265391",
     "exception": false,
     "start_time": "2024-08-03T12:46:17.258494",
     "status": "completed"
    },
    "tags": []
   },
   "source": [
    "# **MODEL TRAINING**"
   ]
  },
  {
   "cell_type": "markdown",
   "id": "f15b62a9",
   "metadata": {
    "papermill": {
     "duration": 0.006961,
     "end_time": "2024-08-03T12:46:17.279551",
     "exception": false,
     "start_time": "2024-08-03T12:46:17.272590",
     "status": "completed"
    },
    "tags": []
   },
   "source": [
    "|Version Label| Kernel version | Model| Description| OOF CV score| LB score|\n",
    "|:-:| :-: | :-:| --------| :-:| :-:|\n",
    "1  | 2    | LGBM | * Excluded original data completely | | | \n",
    "2  | 3    | LGBM | * Included 100_000 original data samples | | |\n",
    "3  | 4    | LGBM | * Included complete original data samples | | |"
   ]
  },
  {
   "cell_type": "code",
   "execution_count": 4,
   "id": "a4779153",
   "metadata": {
    "_kg_hide-input": true,
    "execution": {
     "iopub.execute_input": "2024-08-03T12:46:17.295893Z",
     "iopub.status.busy": "2024-08-03T12:46:17.295512Z",
     "iopub.status.idle": "2024-08-03T15:58:53.075345Z",
     "shell.execute_reply": "2024-08-03T15:58:53.074078Z"
    },
    "jupyter": {
     "source_hidden": true
    },
    "papermill": {
     "duration": 11555.791333,
     "end_time": "2024-08-03T15:58:53.078050",
     "exception": false,
     "start_time": "2024-08-03T12:46:17.286717",
     "status": "completed"
    },
    "tags": []
   },
   "outputs": [
    {
     "name": "stdout",
     "output_type": "stream",
     "text": [
      "\u001b[1m\u001b[34m\n",
      "-------- LGBM MODEL TRAINING --------\n",
      "\u001b[0m\n"
     ]
    },
    {
     "data": {
      "application/vnd.jupyter.widget-view+json": {
       "model_id": "ee15f14693d541d1a8a3ec945b178982",
       "version_major": 2,
       "version_minor": 0
      },
      "text/plain": [
       "0it [00:00, ?it/s]"
      ]
     },
     "metadata": {},
     "output_type": "display_data"
    },
    {
     "name": "stdout",
     "output_type": "stream",
     "text": [
      "---> OOF score [Logloss | MCC] = 0.036311 | 0.984658 | Fold0\n",
      "---> OOF score [Logloss | MCC] = 0.035452 | 0.984891 | Fold1\n",
      "---> OOF score [Logloss | MCC] = 0.036292 | 0.984412 | Fold2\n",
      "---> OOF score [Logloss | MCC] = 0.036270 | 0.984692 | Fold3\n",
      "---> OOF score [Logloss | MCC] = 0.036055 | 0.984519 | Fold4\n",
      "\u001b[1m\u001b[36m\n",
      "\n",
      "---> OOF MCC score: 0.984635 +- 0.000163 \n",
      "\u001b[0m\n",
      "\n"
     ]
    },
    {
     "data": {
      "text/html": [
       "<style type=\"text/css\">\n",
       "#T_50a31_row0_col0 {\n",
       "  text-align: center;\n",
       "  background-color: #faebdd;\n",
       "  color: #000000;\n",
       "}\n",
       "#T_50a31_row0_col1 {\n",
       "  text-align: center;\n",
       "  background-color: #f9e5d4;\n",
       "  color: #000000;\n",
       "}\n",
       "#T_50a31_row0_col2 {\n",
       "  text-align: center;\n",
       "  background-color: #f8d1b8;\n",
       "  color: #000000;\n",
       "}\n",
       "#T_50a31_row0_col3 {\n",
       "  text-align: center;\n",
       "  background-color: #c71951;\n",
       "  color: #f1f1f1;\n",
       "}\n",
       "#T_50a31_row0_col4 {\n",
       "  text-align: center;\n",
       "  background-color: #9e1a5b;\n",
       "  color: #f1f1f1;\n",
       "}\n",
       "#T_50a31_row0_col5 {\n",
       "  text-align: center;\n",
       "  background-color: #9a1b5b;\n",
       "  color: #f1f1f1;\n",
       "}\n",
       "#T_50a31_row0_col6 {\n",
       "  text-align: center;\n",
       "  background-color: #661f54;\n",
       "  color: #f1f1f1;\n",
       "}\n",
       "#T_50a31_row0_col7 {\n",
       "  text-align: center;\n",
       "  background-color: #631f53;\n",
       "  color: #f1f1f1;\n",
       "}\n",
       "#T_50a31_row0_col8 {\n",
       "  text-align: center;\n",
       "  background-color: #561e4f;\n",
       "  color: #f1f1f1;\n",
       "}\n",
       "#T_50a31_row0_col9 {\n",
       "  text-align: center;\n",
       "  background-color: #3f1b43;\n",
       "  color: #f1f1f1;\n",
       "}\n",
       "#T_50a31_row0_col10 {\n",
       "  text-align: center;\n",
       "  background-color: #3c1a42;\n",
       "  color: #f1f1f1;\n",
       "}\n",
       "#T_50a31_row0_col11 {\n",
       "  text-align: center;\n",
       "  background-color: #34193d;\n",
       "  color: #f1f1f1;\n",
       "}\n",
       "#T_50a31_row0_col12 {\n",
       "  text-align: center;\n",
       "  background-color: #33183c;\n",
       "  color: #f1f1f1;\n",
       "}\n",
       "#T_50a31_row0_col13 {\n",
       "  text-align: center;\n",
       "  background-color: #2d1738;\n",
       "  color: #f1f1f1;\n",
       "}\n",
       "#T_50a31_row0_col14 {\n",
       "  text-align: center;\n",
       "  background-color: #180f29;\n",
       "  color: #f1f1f1;\n",
       "}\n",
       "#T_50a31_row0_col15 {\n",
       "  text-align: center;\n",
       "  background-color: #130d25;\n",
       "  color: #f1f1f1;\n",
       "}\n",
       "#T_50a31_row0_col16 {\n",
       "  text-align: center;\n",
       "  background-color: #0d0a21;\n",
       "  color: #f1f1f1;\n",
       "}\n",
       "#T_50a31_row0_col17 {\n",
       "  text-align: center;\n",
       "  background-color: #0b0920;\n",
       "  color: #f1f1f1;\n",
       "}\n",
       "#T_50a31_row0_col18 {\n",
       "  text-align: center;\n",
       "  background-color: #07071d;\n",
       "  color: #f1f1f1;\n",
       "}\n",
       "#T_50a31_row0_col19 {\n",
       "  text-align: center;\n",
       "  background-color: #03051a;\n",
       "  color: #f1f1f1;\n",
       "}\n",
       "</style>\n",
       "<table id=\"T_50a31\">\n",
       "  <caption>Feature Importances</caption>\n",
       "  <thead>\n",
       "    <tr>\n",
       "      <th class=\"blank level0\" >&nbsp;</th>\n",
       "      <th id=\"T_50a31_level0_col0\" class=\"col_heading level0 col0\" >stemwidth</th>\n",
       "      <th id=\"T_50a31_level0_col1\" class=\"col_heading level0 col1\" >stemheight</th>\n",
       "      <th id=\"T_50a31_level0_col2\" class=\"col_heading level0 col2\" >capdiameter</th>\n",
       "      <th id=\"T_50a31_level0_col3\" class=\"col_heading level0 col3\" >capsurface</th>\n",
       "      <th id=\"T_50a31_level0_col4\" class=\"col_heading level0 col4\" >gillcolor</th>\n",
       "      <th id=\"T_50a31_level0_col5\" class=\"col_heading level0 col5\" >capcolor</th>\n",
       "      <th id=\"T_50a31_level0_col6\" class=\"col_heading level0 col6\" >gillattachment</th>\n",
       "      <th id=\"T_50a31_level0_col7\" class=\"col_heading level0 col7\" >stemcolor</th>\n",
       "      <th id=\"T_50a31_level0_col8\" class=\"col_heading level0 col8\" >capshape</th>\n",
       "      <th id=\"T_50a31_level0_col9\" class=\"col_heading level0 col9\" >stemsurface</th>\n",
       "      <th id=\"T_50a31_level0_col10\" class=\"col_heading level0 col10\" >season</th>\n",
       "      <th id=\"T_50a31_level0_col11\" class=\"col_heading level0 col11\" >gillspacing</th>\n",
       "      <th id=\"T_50a31_level0_col12\" class=\"col_heading level0 col12\" >habitat</th>\n",
       "      <th id=\"T_50a31_level0_col13\" class=\"col_heading level0 col13\" >ringtype</th>\n",
       "      <th id=\"T_50a31_level0_col14\" class=\"col_heading level0 col14\" >stemroot</th>\n",
       "      <th id=\"T_50a31_level0_col15\" class=\"col_heading level0 col15\" >doesbruiseorbleed</th>\n",
       "      <th id=\"T_50a31_level0_col16\" class=\"col_heading level0 col16\" >sporeprintcolor</th>\n",
       "      <th id=\"T_50a31_level0_col17\" class=\"col_heading level0 col17\" >veilcolor</th>\n",
       "      <th id=\"T_50a31_level0_col18\" class=\"col_heading level0 col18\" >hasring</th>\n",
       "      <th id=\"T_50a31_level0_col19\" class=\"col_heading level0 col19\" >veiltype</th>\n",
       "    </tr>\n",
       "  </thead>\n",
       "  <tbody>\n",
       "    <tr>\n",
       "      <th id=\"T_50a31_level0_row0\" class=\"row_heading level0 row0\" >FtreImp</th>\n",
       "      <td id=\"T_50a31_row0_col0\" class=\"data row0 col0\" >72,872.00</td>\n",
       "      <td id=\"T_50a31_row0_col1\" class=\"data row0 col1\" >71,707.00</td>\n",
       "      <td id=\"T_50a31_row0_col2\" class=\"data row0 col2\" >68,042.00</td>\n",
       "      <td id=\"T_50a31_row0_col3\" class=\"data row0 col3\" >35,990.00</td>\n",
       "      <td id=\"T_50a31_row0_col4\" class=\"data row0 col4\" >28,937.00</td>\n",
       "      <td id=\"T_50a31_row0_col5\" class=\"data row0 col5\" >28,557.00</td>\n",
       "      <td id=\"T_50a31_row0_col6\" class=\"data row0 col6\" >19,919.00</td>\n",
       "      <td id=\"T_50a31_row0_col7\" class=\"data row0 col7\" >19,238.00</td>\n",
       "      <td id=\"T_50a31_row0_col8\" class=\"data row0 col8\" >16,913.00</td>\n",
       "      <td id=\"T_50a31_row0_col9\" class=\"data row0 col9\" >12,760.00</td>\n",
       "      <td id=\"T_50a31_row0_col10\" class=\"data row0 col10\" >12,143.00</td>\n",
       "      <td id=\"T_50a31_row0_col11\" class=\"data row0 col11\" >10,866.00</td>\n",
       "      <td id=\"T_50a31_row0_col12\" class=\"data row0 col12\" >10,588.00</td>\n",
       "      <td id=\"T_50a31_row0_col13\" class=\"data row0 col13\" >9,388.00</td>\n",
       "      <td id=\"T_50a31_row0_col14\" class=\"data row0 col14\" >5,372.00</td>\n",
       "      <td id=\"T_50a31_row0_col15\" class=\"data row0 col15\" >4,224.00</td>\n",
       "      <td id=\"T_50a31_row0_col16\" class=\"data row0 col16\" >3,083.00</td>\n",
       "      <td id=\"T_50a31_row0_col17\" class=\"data row0 col17\" >2,829.00</td>\n",
       "      <td id=\"T_50a31_row0_col18\" class=\"data row0 col18\" >1,905.00</td>\n",
       "      <td id=\"T_50a31_row0_col19\" class=\"data row0 col19\" >773.00</td>\n",
       "    </tr>\n",
       "  </tbody>\n",
       "</table>\n"
      ],
      "text/plain": [
       "<pandas.io.formats.style.Styler at 0x7eced3587970>"
      ]
     },
     "metadata": {},
     "output_type": "display_data"
    },
    {
     "name": "stdout",
     "output_type": "stream",
     "text": [
      "CPU times: user 3h 24min 32s, sys: 12.2 s, total: 3h 24min 44s\n",
      "Wall time: 3h 12min 35s\n"
     ]
    }
   ],
   "source": [
    "%%time \n",
    "\n",
    "cv         = SKF(n_splits= n_splits, shuffle= True, random_state = state)\n",
    "test_preds = 0\n",
    "scores     = []\n",
    "drop_cols  = [\"Source\", \"id\", target]\n",
    "ftre_imp   = 0\n",
    "sel_cols   = X.drop(columns = drop_cols, errors = \"ignore\").columns\n",
    "\n",
    "OOF_Preds = pd.DataFrame(X.loc[X.Source == 'Competition'].index, \n",
    "                         columns = [f\"{model_label}V{version_nb}_{model_group}\"],\n",
    "                         dtype = np.float32,\n",
    "                        )\n",
    "\n",
    "PrintColor(f\"\\n-------- {model_label} MODEL TRAINING --------\\n\")\n",
    "for fold_nb, (train_idx, dev_idx) in tqdm(enumerate(cv.split(X, y))):\n",
    "\n",
    "    Xtr  = X.iloc[train_idx][sel_cols]\n",
    "    ytr  = y.iloc[train_idx]\n",
    "    Xdev = X.iloc[dev_idx].query(\"Source == 'Competition'\")[sel_cols]\n",
    "    ydev = y.loc[Xdev.index]\n",
    "    \n",
    "    model = LGBMC(objective     = \"binary\",\n",
    "                  eval_metric   = \"logloss\",\n",
    "                  device        = device,\n",
    "                  n_estimators  = 3000,\n",
    "                  max_depth     = 9,\n",
    "                  learning_rate = 0.06, \n",
    "                  random_state  = state,\n",
    "                  max_bin       = 1024,\n",
    "                  colsample_bytree = 0.7,\n",
    "                  reg_lambda    = 80,\n",
    "                  verbosity     = -1,\n",
    "                 )\n",
    "\n",
    "    model.fit(Xtr, ytr,\n",
    "              eval_set  = [(Xdev, ydev)],\n",
    "              eval_names = [(\"Dev\")],\n",
    "              callbacks = [log_evaluation(0), early_stopping(100)],\n",
    "              )\n",
    "\n",
    "    if ftre_imp_req:\n",
    "        ftre_imp  = ftre_imp + model.feature_importances_\n",
    "\n",
    "    score1    = model.best_score_['Dev']['binary_logloss']\n",
    "    dev_preds = model.predict_proba(Xdev)[:,1]\n",
    "    score2    = matthews_corrcoef(ydev, np.where(dev_preds >= cutoff, 1, 0))\n",
    "\n",
    "    print(f\"---> OOF score [Logloss | MCC] = {score1:.6f} | {score2 :.6f} | Fold{fold_nb}\")\n",
    "    scores.append(score2)\n",
    "\n",
    "    test_preds = test_preds + (model.predict_proba(test[sel_cols])[:, 1]/n_splits)                          \n",
    "    OOF_Preds.loc[Xdev.index, f\"{model_label}V{version_nb}_{model_group}\"] = dev_preds;\n",
    "    del Xtr, Xdev, ytr, ydev, score1, score2, model;\n",
    "    collect();\n",
    "\n",
    "PrintColor(f'\\n\\n---> OOF MCC score: {np.mean(scores) :.6f} +- {np.std(scores) :.6f} \\n',\n",
    "          color = Fore.CYAN\n",
    "          )\n",
    "collect();\n",
    "print();\n",
    "\n",
    "if ftre_imp_req:\n",
    "    display(pd.DataFrame(ftre_imp, index = sel_cols, columns = [\"FtreImp\"]).\\\n",
    "            sort_values([\"FtreImp\"], ascending = False).\\\n",
    "            transpose().\\\n",
    "            style.format(formatter = \"{:,.2f}\").\\\n",
    "            set_caption(f\"Feature Importances\").\\\n",
    "            set_properties(**{\"text-align\": \"center\"}).\\\n",
    "            background_gradient(subset = sel_cols,\n",
    "                                cmap = \"rocket\", \n",
    "                                axis=1\n",
    "                               )\n",
    "            )\n"
   ]
  },
  {
   "cell_type": "markdown",
   "id": "b54b8431",
   "metadata": {
    "papermill": {
     "duration": 0.008447,
     "end_time": "2024-08-03T15:58:53.095264",
     "exception": false,
     "start_time": "2024-08-03T15:58:53.086817",
     "status": "completed"
    },
    "tags": []
   },
   "source": [
    "# **CLOSURE**"
   ]
  },
  {
   "cell_type": "code",
   "execution_count": 5,
   "id": "8fbc82b1",
   "metadata": {
    "_kg_hide-input": true,
    "execution": {
     "iopub.execute_input": "2024-08-03T15:58:53.114978Z",
     "iopub.status.busy": "2024-08-03T15:58:53.113827Z",
     "iopub.status.idle": "2024-08-03T15:58:53.121039Z",
     "shell.execute_reply": "2024-08-03T15:58:53.120034Z"
    },
    "jupyter": {
     "source_hidden": true
    },
    "papermill": {
     "duration": 0.019464,
     "end_time": "2024-08-03T15:58:53.123404",
     "exception": false,
     "start_time": "2024-08-03T15:58:53.103940",
     "status": "completed"
    },
    "tags": []
   },
   "outputs": [],
   "source": [
    "def PostProcessPreds(sub_fl: pd.DataFrame, target: str = target):\n",
    "    \"This function post-processes the predictions using saved predictions and targets\"\n",
    "    \n",
    "    try:\n",
    "        sub_fl = sub_fl.set_index(\"id\")\n",
    "    except:\n",
    "        print(f\"---> Submission file index is intact\")\n",
    "\n",
    "    sub_fl.loc[3640058, target] = \"e\"\n",
    "    sub_fl.loc[sub_fl.index.isin([3600675, 4057201, 4729429, 4929268, 4985595]), target] = \"p\"\n",
    "    return sub_fl;"
   ]
  },
  {
   "cell_type": "code",
   "execution_count": 6,
   "id": "b2633a37",
   "metadata": {
    "_kg_hide-input": true,
    "execution": {
     "iopub.execute_input": "2024-08-03T15:58:53.142996Z",
     "iopub.status.busy": "2024-08-03T15:58:53.142590Z",
     "iopub.status.idle": "2024-08-03T15:58:54.789715Z",
     "shell.execute_reply": "2024-08-03T15:58:54.788569Z"
    },
    "jupyter": {
     "source_hidden": true
    },
    "papermill": {
     "duration": 1.65989,
     "end_time": "2024-08-03T15:58:54.792198",
     "exception": false,
     "start_time": "2024-08-03T15:58:53.132308",
     "status": "completed"
    },
    "tags": []
   },
   "outputs": [
    {
     "name": "stdout",
     "output_type": "stream",
     "text": [
      "\n",
      "\n",
      "\n",
      "---> Submission file index is intact\n",
      "\n",
      "\n",
      "\n"
     ]
    },
    {
     "data": {
      "text/html": [
       "<style type=\"text/css\">\n",
       "</style>\n",
       "<table id=\"T_fc2a5\">\n",
       "  <caption>Submission file predictions</caption>\n",
       "  <thead>\n",
       "    <tr>\n",
       "      <th class=\"blank level0\" >&nbsp;</th>\n",
       "      <th id=\"T_fc2a5_level0_col0\" class=\"col_heading level0 col0\" >LGBMV1_2</th>\n",
       "    </tr>\n",
       "  </thead>\n",
       "  <tbody>\n",
       "    <tr>\n",
       "      <th id=\"T_fc2a5_level0_row0\" class=\"row_heading level0 row0\" >0</th>\n",
       "      <td id=\"T_fc2a5_row0_col0\" class=\"data row0 col0\" >0.001961</td>\n",
       "    </tr>\n",
       "    <tr>\n",
       "      <th id=\"T_fc2a5_level0_row1\" class=\"row_heading level0 row1\" >1</th>\n",
       "      <td id=\"T_fc2a5_row1_col0\" class=\"data row1 col0\" >0.998058</td>\n",
       "    </tr>\n",
       "    <tr>\n",
       "      <th id=\"T_fc2a5_level0_row2\" class=\"row_heading level0 row2\" >2</th>\n",
       "      <td id=\"T_fc2a5_row2_col0\" class=\"data row2 col0\" >0.993239</td>\n",
       "    </tr>\n",
       "    <tr>\n",
       "      <th id=\"T_fc2a5_level0_row3\" class=\"row_heading level0 row3\" >3</th>\n",
       "      <td id=\"T_fc2a5_row3_col0\" class=\"data row3 col0\" >0.994868</td>\n",
       "    </tr>\n",
       "    <tr>\n",
       "      <th id=\"T_fc2a5_level0_row4\" class=\"row_heading level0 row4\" >4</th>\n",
       "      <td id=\"T_fc2a5_row4_col0\" class=\"data row4 col0\" >0.001779</td>\n",
       "    </tr>\n",
       "    <tr>\n",
       "      <th id=\"T_fc2a5_level0_row5\" class=\"row_heading level0 row5\" >5</th>\n",
       "      <td id=\"T_fc2a5_row5_col0\" class=\"data row5 col0\" >0.008034</td>\n",
       "    </tr>\n",
       "    <tr>\n",
       "      <th id=\"T_fc2a5_level0_row6\" class=\"row_heading level0 row6\" >6</th>\n",
       "      <td id=\"T_fc2a5_row6_col0\" class=\"data row6 col0\" >0.002135</td>\n",
       "    </tr>\n",
       "    <tr>\n",
       "      <th id=\"T_fc2a5_level0_row7\" class=\"row_heading level0 row7\" >7</th>\n",
       "      <td id=\"T_fc2a5_row7_col0\" class=\"data row7 col0\" >0.999462</td>\n",
       "    </tr>\n",
       "    <tr>\n",
       "      <th id=\"T_fc2a5_level0_row8\" class=\"row_heading level0 row8\" >8</th>\n",
       "      <td id=\"T_fc2a5_row8_col0\" class=\"data row8 col0\" >0.996359</td>\n",
       "    </tr>\n",
       "    <tr>\n",
       "      <th id=\"T_fc2a5_level0_row9\" class=\"row_heading level0 row9\" >9</th>\n",
       "      <td id=\"T_fc2a5_row9_col0\" class=\"data row9 col0\" >0.001130</td>\n",
       "    </tr>\n",
       "  </tbody>\n",
       "</table>\n"
      ],
      "text/plain": [
       "<pandas.io.formats.style.Styler at 0x7ecef314fd90>"
      ]
     },
     "metadata": {},
     "output_type": "display_data"
    },
    {
     "name": "stdout",
     "output_type": "stream",
     "text": [
      "\n",
      "\n",
      "\n"
     ]
    },
    {
     "data": {
      "text/html": [
       "<style type=\"text/css\">\n",
       "</style>\n",
       "<table id=\"T_cbe34\">\n",
       "  <caption>Submission file labels</caption>\n",
       "  <thead>\n",
       "    <tr>\n",
       "      <th class=\"blank level0\" >&nbsp;</th>\n",
       "      <th id=\"T_cbe34_level0_col0\" class=\"col_heading level0 col0\" >class</th>\n",
       "    </tr>\n",
       "    <tr>\n",
       "      <th class=\"index_name level0\" >id</th>\n",
       "      <th class=\"blank col0\" >&nbsp;</th>\n",
       "    </tr>\n",
       "  </thead>\n",
       "  <tbody>\n",
       "    <tr>\n",
       "      <th id=\"T_cbe34_level0_row0\" class=\"row_heading level0 row0\" >3116945</th>\n",
       "      <td id=\"T_cbe34_row0_col0\" class=\"data row0 col0\" >e</td>\n",
       "    </tr>\n",
       "    <tr>\n",
       "      <th id=\"T_cbe34_level0_row1\" class=\"row_heading level0 row1\" >3116946</th>\n",
       "      <td id=\"T_cbe34_row1_col0\" class=\"data row1 col0\" >p</td>\n",
       "    </tr>\n",
       "    <tr>\n",
       "      <th id=\"T_cbe34_level0_row2\" class=\"row_heading level0 row2\" >3116947</th>\n",
       "      <td id=\"T_cbe34_row2_col0\" class=\"data row2 col0\" >p</td>\n",
       "    </tr>\n",
       "    <tr>\n",
       "      <th id=\"T_cbe34_level0_row3\" class=\"row_heading level0 row3\" >3116948</th>\n",
       "      <td id=\"T_cbe34_row3_col0\" class=\"data row3 col0\" >p</td>\n",
       "    </tr>\n",
       "    <tr>\n",
       "      <th id=\"T_cbe34_level0_row4\" class=\"row_heading level0 row4\" >3116949</th>\n",
       "      <td id=\"T_cbe34_row4_col0\" class=\"data row4 col0\" >e</td>\n",
       "    </tr>\n",
       "    <tr>\n",
       "      <th id=\"T_cbe34_level0_row5\" class=\"row_heading level0 row5\" >3116950</th>\n",
       "      <td id=\"T_cbe34_row5_col0\" class=\"data row5 col0\" >e</td>\n",
       "    </tr>\n",
       "    <tr>\n",
       "      <th id=\"T_cbe34_level0_row6\" class=\"row_heading level0 row6\" >3116951</th>\n",
       "      <td id=\"T_cbe34_row6_col0\" class=\"data row6 col0\" >e</td>\n",
       "    </tr>\n",
       "    <tr>\n",
       "      <th id=\"T_cbe34_level0_row7\" class=\"row_heading level0 row7\" >3116952</th>\n",
       "      <td id=\"T_cbe34_row7_col0\" class=\"data row7 col0\" >p</td>\n",
       "    </tr>\n",
       "    <tr>\n",
       "      <th id=\"T_cbe34_level0_row8\" class=\"row_heading level0 row8\" >3116953</th>\n",
       "      <td id=\"T_cbe34_row8_col0\" class=\"data row8 col0\" >p</td>\n",
       "    </tr>\n",
       "    <tr>\n",
       "      <th id=\"T_cbe34_level0_row9\" class=\"row_heading level0 row9\" >3116954</th>\n",
       "      <td id=\"T_cbe34_row9_col0\" class=\"data row9 col0\" >e</td>\n",
       "    </tr>\n",
       "  </tbody>\n",
       "</table>\n"
      ],
      "text/plain": [
       "<pandas.io.formats.style.Styler at 0x7ecef314fc40>"
      ]
     },
     "metadata": {},
     "output_type": "display_data"
    },
    {
     "name": "stdout",
     "output_type": "stream",
     "text": [
      "\n",
      "\n",
      "\n",
      "CPU times: user 1.39 s, sys: 239 ms, total: 1.63 s\n",
      "Wall time: 1.64 s\n"
     ]
    }
   ],
   "source": [
    "%%time \n",
    "\n",
    "print(\"\\n\\n\")\n",
    "sub_fl[target] = np.where(test_preds >= cutoff, \"p\", \"e\")\n",
    "sub_fl = PostProcessPreds(sub_fl)\n",
    "\n",
    "test_preds = \\\n",
    "pd.DataFrame(test_preds,index = range(len(test)),\n",
    "             columns = [f\"{model_label}V{version_nb}_{model_group}\"],\n",
    "             dtype = np.float32,\n",
    "            )\n",
    "\n",
    "print(\"\\n\\n\")\n",
    "display(test_preds.head(10).style.set_caption(f\"Submission file predictions\"))\n",
    "print(\"\\n\\n\")\n",
    "display(sub_fl.head(10).style.set_caption(f\"Submission file labels\"))\n",
    "print(\"\\n\\n\")\n",
    "\n",
    "OOF_Preds.index.name = \"id\"\n",
    "OOF_Preds.sort_index().reset_index().\\\n",
    "to_parquet(os.path.join(op_path, f'OOF_Preds_{model_label}V{version_nb}_{model_group}.parquet'))\n",
    "\n",
    "test_preds.\\\n",
    "to_parquet(os.path.join(op_path, f'Mdl_Preds_{model_label}V{version_nb}_{model_group}.parquet'))\n",
    "\n",
    "sub_fl.\\\n",
    "to_parquet(os.path.join(op_path, f'Submission_{model_label}V{version_nb}_{model_group}.parquet'),\n",
    "           index= True\n",
    "          )\n",
    "\n",
    "%reset -f"
   ]
  }
 ],
 "metadata": {
  "kaggle": {
   "accelerator": "none",
   "dataSources": [
    {
     "databundleVersionId": 9045607,
     "sourceId": 76727,
     "sourceType": "competition"
    },
    {
     "sourceId": 190672036,
     "sourceType": "kernelVersion"
    },
    {
     "sourceId": 191020336,
     "sourceType": "kernelVersion"
    },
    {
     "sourceId": 191018477,
     "sourceType": "kernelVersion"
    }
   ],
   "dockerImageVersionId": 30746,
   "isGpuEnabled": false,
   "isInternetEnabled": true,
   "language": "python",
   "sourceType": "notebook"
  },
  "kernelspec": {
   "display_name": "Python 3",
   "language": "python",
   "name": "python3"
  },
  "language_info": {
   "codemirror_mode": {
    "name": "ipython",
    "version": 3
   },
   "file_extension": ".py",
   "mimetype": "text/x-python",
   "name": "python",
   "nbconvert_exporter": "python",
   "pygments_lexer": "ipython3",
   "version": "3.10.13"
  },
  "papermill": {
   "default_parameters": {},
   "duration": 11629.093396,
   "end_time": "2024-08-03T15:58:55.551651",
   "environment_variables": {},
   "exception": null,
   "input_path": "__notebook__.ipynb",
   "output_path": "__notebook__.ipynb",
   "parameters": {},
   "start_time": "2024-08-03T12:45:06.458255",
   "version": "2.5.0"
  },
  "widgets": {
   "application/vnd.jupyter.widget-state+json": {
    "state": {
     "20b91728880e4c9d8a7d08144a4c3a94": {
      "model_module": "@jupyter-widgets/base",
      "model_module_version": "1.2.0",
      "model_name": "LayoutModel",
      "state": {
       "_model_module": "@jupyter-widgets/base",
       "_model_module_version": "1.2.0",
       "_model_name": "LayoutModel",
       "_view_count": null,
       "_view_module": "@jupyter-widgets/base",
       "_view_module_version": "1.2.0",
       "_view_name": "LayoutView",
       "align_content": null,
       "align_items": null,
       "align_self": null,
       "border": null,
       "bottom": null,
       "display": null,
       "flex": null,
       "flex_flow": null,
       "grid_area": null,
       "grid_auto_columns": null,
       "grid_auto_flow": null,
       "grid_auto_rows": null,
       "grid_column": null,
       "grid_gap": null,
       "grid_row": null,
       "grid_template_areas": null,
       "grid_template_columns": null,
       "grid_template_rows": null,
       "height": null,
       "justify_content": null,
       "justify_items": null,
       "left": null,
       "margin": null,
       "max_height": null,
       "max_width": null,
       "min_height": null,
       "min_width": null,
       "object_fit": null,
       "object_position": null,
       "order": null,
       "overflow": null,
       "overflow_x": null,
       "overflow_y": null,
       "padding": null,
       "right": null,
       "top": null,
       "visibility": null,
       "width": null
      }
     },
     "2bd1b72fdd5148448bccacf239775a1b": {
      "model_module": "@jupyter-widgets/controls",
      "model_module_version": "1.5.0",
      "model_name": "HTMLModel",
      "state": {
       "_dom_classes": [],
       "_model_module": "@jupyter-widgets/controls",
       "_model_module_version": "1.5.0",
       "_model_name": "HTMLModel",
       "_view_count": null,
       "_view_module": "@jupyter-widgets/controls",
       "_view_module_version": "1.5.0",
       "_view_name": "HTMLView",
       "description": "",
       "description_tooltip": null,
       "layout": "IPY_MODEL_a0bffd7a762d415f96ffd0d3ad99ea82",
       "placeholder": "​",
       "style": "IPY_MODEL_faf6cf0b5f434ada8a122d0317d53d2b",
       "value": " 5/? [3:12:34&lt;00:00, 2348.86s/it]"
      }
     },
     "4541c2857bc84470b2d24f9426dfcd11": {
      "model_module": "@jupyter-widgets/controls",
      "model_module_version": "1.5.0",
      "model_name": "ProgressStyleModel",
      "state": {
       "_model_module": "@jupyter-widgets/controls",
       "_model_module_version": "1.5.0",
       "_model_name": "ProgressStyleModel",
       "_view_count": null,
       "_view_module": "@jupyter-widgets/base",
       "_view_module_version": "1.2.0",
       "_view_name": "StyleView",
       "bar_color": null,
       "description_width": ""
      }
     },
     "a0bffd7a762d415f96ffd0d3ad99ea82": {
      "model_module": "@jupyter-widgets/base",
      "model_module_version": "1.2.0",
      "model_name": "LayoutModel",
      "state": {
       "_model_module": "@jupyter-widgets/base",
       "_model_module_version": "1.2.0",
       "_model_name": "LayoutModel",
       "_view_count": null,
       "_view_module": "@jupyter-widgets/base",
       "_view_module_version": "1.2.0",
       "_view_name": "LayoutView",
       "align_content": null,
       "align_items": null,
       "align_self": null,
       "border": null,
       "bottom": null,
       "display": null,
       "flex": null,
       "flex_flow": null,
       "grid_area": null,
       "grid_auto_columns": null,
       "grid_auto_flow": null,
       "grid_auto_rows": null,
       "grid_column": null,
       "grid_gap": null,
       "grid_row": null,
       "grid_template_areas": null,
       "grid_template_columns": null,
       "grid_template_rows": null,
       "height": null,
       "justify_content": null,
       "justify_items": null,
       "left": null,
       "margin": null,
       "max_height": null,
       "max_width": null,
       "min_height": null,
       "min_width": null,
       "object_fit": null,
       "object_position": null,
       "order": null,
       "overflow": null,
       "overflow_x": null,
       "overflow_y": null,
       "padding": null,
       "right": null,
       "top": null,
       "visibility": null,
       "width": null
      }
     },
     "c889b2068da549298ec1a19429bf2be4": {
      "model_module": "@jupyter-widgets/base",
      "model_module_version": "1.2.0",
      "model_name": "LayoutModel",
      "state": {
       "_model_module": "@jupyter-widgets/base",
       "_model_module_version": "1.2.0",
       "_model_name": "LayoutModel",
       "_view_count": null,
       "_view_module": "@jupyter-widgets/base",
       "_view_module_version": "1.2.0",
       "_view_name": "LayoutView",
       "align_content": null,
       "align_items": null,
       "align_self": null,
       "border": null,
       "bottom": null,
       "display": null,
       "flex": null,
       "flex_flow": null,
       "grid_area": null,
       "grid_auto_columns": null,
       "grid_auto_flow": null,
       "grid_auto_rows": null,
       "grid_column": null,
       "grid_gap": null,
       "grid_row": null,
       "grid_template_areas": null,
       "grid_template_columns": null,
       "grid_template_rows": null,
       "height": null,
       "justify_content": null,
       "justify_items": null,
       "left": null,
       "margin": null,
       "max_height": null,
       "max_width": null,
       "min_height": null,
       "min_width": null,
       "object_fit": null,
       "object_position": null,
       "order": null,
       "overflow": null,
       "overflow_x": null,
       "overflow_y": null,
       "padding": null,
       "right": null,
       "top": null,
       "visibility": null,
       "width": null
      }
     },
     "ccf1ff9b7491449c9e9c92514de80b3d": {
      "model_module": "@jupyter-widgets/controls",
      "model_module_version": "1.5.0",
      "model_name": "DescriptionStyleModel",
      "state": {
       "_model_module": "@jupyter-widgets/controls",
       "_model_module_version": "1.5.0",
       "_model_name": "DescriptionStyleModel",
       "_view_count": null,
       "_view_module": "@jupyter-widgets/base",
       "_view_module_version": "1.2.0",
       "_view_name": "StyleView",
       "description_width": ""
      }
     },
     "cd26d05f7939474fa9e06148532a4d38": {
      "model_module": "@jupyter-widgets/base",
      "model_module_version": "1.2.0",
      "model_name": "LayoutModel",
      "state": {
       "_model_module": "@jupyter-widgets/base",
       "_model_module_version": "1.2.0",
       "_model_name": "LayoutModel",
       "_view_count": null,
       "_view_module": "@jupyter-widgets/base",
       "_view_module_version": "1.2.0",
       "_view_name": "LayoutView",
       "align_content": null,
       "align_items": null,
       "align_self": null,
       "border": null,
       "bottom": null,
       "display": null,
       "flex": null,
       "flex_flow": null,
       "grid_area": null,
       "grid_auto_columns": null,
       "grid_auto_flow": null,
       "grid_auto_rows": null,
       "grid_column": null,
       "grid_gap": null,
       "grid_row": null,
       "grid_template_areas": null,
       "grid_template_columns": null,
       "grid_template_rows": null,
       "height": null,
       "justify_content": null,
       "justify_items": null,
       "left": null,
       "margin": null,
       "max_height": null,
       "max_width": null,
       "min_height": null,
       "min_width": null,
       "object_fit": null,
       "object_position": null,
       "order": null,
       "overflow": null,
       "overflow_x": null,
       "overflow_y": null,
       "padding": null,
       "right": null,
       "top": null,
       "visibility": null,
       "width": "20px"
      }
     },
     "dfab951fb99b4965964a873bdfd5b7ea": {
      "model_module": "@jupyter-widgets/controls",
      "model_module_version": "1.5.0",
      "model_name": "FloatProgressModel",
      "state": {
       "_dom_classes": [],
       "_model_module": "@jupyter-widgets/controls",
       "_model_module_version": "1.5.0",
       "_model_name": "FloatProgressModel",
       "_view_count": null,
       "_view_module": "@jupyter-widgets/controls",
       "_view_module_version": "1.5.0",
       "_view_name": "ProgressView",
       "bar_style": "success",
       "description": "",
       "description_tooltip": null,
       "layout": "IPY_MODEL_cd26d05f7939474fa9e06148532a4d38",
       "max": 1.0,
       "min": 0.0,
       "orientation": "horizontal",
       "style": "IPY_MODEL_4541c2857bc84470b2d24f9426dfcd11",
       "value": 1.0
      }
     },
     "e9fc6f2a969149a58518302970c0a946": {
      "model_module": "@jupyter-widgets/controls",
      "model_module_version": "1.5.0",
      "model_name": "HTMLModel",
      "state": {
       "_dom_classes": [],
       "_model_module": "@jupyter-widgets/controls",
       "_model_module_version": "1.5.0",
       "_model_name": "HTMLModel",
       "_view_count": null,
       "_view_module": "@jupyter-widgets/controls",
       "_view_module_version": "1.5.0",
       "_view_name": "HTMLView",
       "description": "",
       "description_tooltip": null,
       "layout": "IPY_MODEL_c889b2068da549298ec1a19429bf2be4",
       "placeholder": "​",
       "style": "IPY_MODEL_ccf1ff9b7491449c9e9c92514de80b3d",
       "value": ""
      }
     },
     "ee15f14693d541d1a8a3ec945b178982": {
      "model_module": "@jupyter-widgets/controls",
      "model_module_version": "1.5.0",
      "model_name": "HBoxModel",
      "state": {
       "_dom_classes": [],
       "_model_module": "@jupyter-widgets/controls",
       "_model_module_version": "1.5.0",
       "_model_name": "HBoxModel",
       "_view_count": null,
       "_view_module": "@jupyter-widgets/controls",
       "_view_module_version": "1.5.0",
       "_view_name": "HBoxView",
       "box_style": "",
       "children": [
        "IPY_MODEL_e9fc6f2a969149a58518302970c0a946",
        "IPY_MODEL_dfab951fb99b4965964a873bdfd5b7ea",
        "IPY_MODEL_2bd1b72fdd5148448bccacf239775a1b"
       ],
       "layout": "IPY_MODEL_20b91728880e4c9d8a7d08144a4c3a94"
      }
     },
     "faf6cf0b5f434ada8a122d0317d53d2b": {
      "model_module": "@jupyter-widgets/controls",
      "model_module_version": "1.5.0",
      "model_name": "DescriptionStyleModel",
      "state": {
       "_model_module": "@jupyter-widgets/controls",
       "_model_module_version": "1.5.0",
       "_model_name": "DescriptionStyleModel",
       "_view_count": null,
       "_view_module": "@jupyter-widgets/base",
       "_view_module_version": "1.2.0",
       "_view_name": "StyleView",
       "description_width": ""
      }
     }
    },
    "version_major": 2,
    "version_minor": 0
   }
  }
 },
 "nbformat": 4,
 "nbformat_minor": 5
}
