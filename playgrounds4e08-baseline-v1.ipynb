{
 "cells": [
  {
   "cell_type": "code",
   "execution_count": null,
   "id": "f08cae45",
   "metadata": {
    "jupyter": {
     "source_hidden": true
    },
    "papermill": {
     "duration": 0.00606,
     "end_time": "2024-08-03T15:12:12.516364",
     "exception": false,
     "start_time": "2024-08-03T15:12:12.510304",
     "status": "completed"
    },
    "tags": []
   },
   "outputs": [],
   "source": []
  },
  {
   "cell_type": "markdown",
   "id": "9aec4831",
   "metadata": {
    "papermill": {
     "duration": 0.00556,
     "end_time": "2024-08-03T15:12:12.528064",
     "exception": false,
     "start_time": "2024-08-03T15:12:12.522504",
     "status": "completed"
    },
    "tags": []
   },
   "source": [
    "# **IMPORTS AND INSTALLATIONS**"
   ]
  },
  {
   "cell_type": "code",
   "execution_count": 1,
   "id": "f6cc294f",
   "metadata": {
    "_kg_hide-input": true,
    "_kg_hide-output": true,
    "execution": {
     "iopub.execute_input": "2024-08-03T15:12:12.540635Z",
     "iopub.status.busy": "2024-08-03T15:12:12.540234Z",
     "iopub.status.idle": "2024-08-03T15:13:03.795020Z",
     "shell.execute_reply": "2024-08-03T15:13:03.793762Z"
    },
    "jupyter": {
     "source_hidden": true
    },
    "papermill": {
     "duration": 51.264529,
     "end_time": "2024-08-03T15:13:03.798044",
     "exception": false,
     "start_time": "2024-08-03T15:12:12.533515",
     "status": "completed"
    },
    "tags": []
   },
   "outputs": [
    {
     "name": "stdout",
     "output_type": "stream",
     "text": [
      "Collecting lightgbm==4.5.0\n",
      "  Downloading lightgbm-4.5.0-py3-none-manylinux_2_28_x86_64.whl.metadata (17 kB)\n",
      "Requirement already satisfied: numpy>=1.17.0 in /opt/conda/lib/python3.10/site-packages (from lightgbm==4.5.0) (1.26.4)\n",
      "Requirement already satisfied: scipy in /opt/conda/lib/python3.10/site-packages (from lightgbm==4.5.0) (1.11.4)\n",
      "Downloading lightgbm-4.5.0-py3-none-manylinux_2_28_x86_64.whl (3.6 MB)\n",
      "\u001b[2K   \u001b[90m━━━━━━━━━━━━━━━━━━━━━━━━━━━━━━━━━━━━━━━━\u001b[0m \u001b[32m3.6/3.6 MB\u001b[0m \u001b[31m30.5 MB/s\u001b[0m eta \u001b[36m0:00:00\u001b[0m\n",
      "\u001b[?25hInstalling collected packages: lightgbm\n",
      "  Attempting uninstall: lightgbm\n",
      "    Found existing installation: lightgbm 4.2.0\n",
      "    Uninstalling lightgbm-4.2.0:\n",
      "      Successfully uninstalled lightgbm-4.2.0\n",
      "Successfully installed lightgbm-4.5.0\n",
      "Collecting polars==1.2.1\n",
      "  Downloading polars-1.2.1-cp38-abi3-manylinux_2_17_x86_64.manylinux2014_x86_64.whl.metadata (14 kB)\n",
      "Downloading polars-1.2.1-cp38-abi3-manylinux_2_17_x86_64.manylinux2014_x86_64.whl (30.9 MB)\n",
      "\u001b[2K   \u001b[90m━━━━━━━━━━━━━━━━━━━━━━━━━━━━━━━━━━━━━━━━\u001b[0m \u001b[32m30.9/30.9 MB\u001b[0m \u001b[31m44.9 MB/s\u001b[0m eta \u001b[36m0:00:00\u001b[0m\n",
      "\u001b[?25hInstalling collected packages: polars\n",
      "  Attempting uninstall: polars\n",
      "    Found existing installation: polars 1.1.0\n",
      "    Uninstalling polars-1.1.0:\n",
      "      Successfully uninstalled polars-1.1.0\n",
      "Successfully installed polars-1.2.1\n",
      "Collecting ucimlrepo\n",
      "  Downloading ucimlrepo-0.0.7-py3-none-any.whl.metadata (5.5 kB)\n",
      "Requirement already satisfied: pandas>=1.0.0 in /opt/conda/lib/python3.10/site-packages (from ucimlrepo) (2.2.2)\n",
      "Requirement already satisfied: certifi>=2020.12.5 in /opt/conda/lib/python3.10/site-packages (from ucimlrepo) (2024.7.4)\n",
      "Requirement already satisfied: numpy>=1.22.4 in /opt/conda/lib/python3.10/site-packages (from pandas>=1.0.0->ucimlrepo) (1.26.4)\n",
      "Requirement already satisfied: python-dateutil>=2.8.2 in /opt/conda/lib/python3.10/site-packages (from pandas>=1.0.0->ucimlrepo) (2.9.0.post0)\n",
      "Requirement already satisfied: pytz>=2020.1 in /opt/conda/lib/python3.10/site-packages (from pandas>=1.0.0->ucimlrepo) (2023.3.post1)\n",
      "Requirement already satisfied: tzdata>=2022.7 in /opt/conda/lib/python3.10/site-packages (from pandas>=1.0.0->ucimlrepo) (2023.4)\n",
      "Requirement already satisfied: six>=1.5 in /opt/conda/lib/python3.10/site-packages (from python-dateutil>=2.8.2->pandas>=1.0.0->ucimlrepo) (1.16.0)\n",
      "Downloading ucimlrepo-0.0.7-py3-none-any.whl (8.0 kB)\n",
      "Installing collected packages: ucimlrepo\n",
      "Successfully installed ucimlrepo-0.0.7\n"
     ]
    }
   ],
   "source": [
    "%%capture \n",
    "\n",
    "!cp /kaggle/usr/lib/regularimports/playgrounds4e08_regularimports.py myimports.py\n",
    "from myimports import *"
   ]
  },
  {
   "cell_type": "markdown",
   "id": "8a3c9779",
   "metadata": {
    "papermill": {
     "duration": 0.006644,
     "end_time": "2024-08-03T15:13:03.811798",
     "exception": false,
     "start_time": "2024-08-03T15:13:03.805154",
     "status": "completed"
    },
    "tags": []
   },
   "source": [
    "# **FOREWORD**"
   ]
  },
  {
   "cell_type": "markdown",
   "id": "353e4f00",
   "metadata": {
    "papermill": {
     "duration": 0.006533,
     "end_time": "2024-08-03T15:13:03.825108",
     "exception": false,
     "start_time": "2024-08-03T15:13:03.818575",
     "status": "completed"
    },
    "tags": []
   },
   "source": [
    "This kernel starts with the datasets created in the [Data-Store](https://www.kaggle.com/code/ravi20076/playgrounds4e08-datastore) kernel. I do this to prevent multiple data creation endeavors across my experiments as I move along my model pipeline. <br>\n",
    "\n",
    "In this kernel, we start off with a simple LightGBM baseline model and assess the efficiacy of adding the tertiary original data to the model data. <br>\n",
    "Note that the tertiary data is created from the associated GitHub repository but it does not have the GAN-noise component in the competition dataset. We need to factor this in our model endeavors in this assignment. "
   ]
  },
  {
   "cell_type": "markdown",
   "id": "6b641ad1",
   "metadata": {
    "papermill": {
     "duration": 0.006577,
     "end_time": "2024-08-03T15:13:03.838497",
     "exception": false,
     "start_time": "2024-08-03T15:13:03.831920",
     "status": "completed"
    },
    "tags": []
   },
   "source": [
    "# **CONFIGURATION**"
   ]
  },
  {
   "cell_type": "code",
   "execution_count": 2,
   "id": "83969ad9",
   "metadata": {
    "execution": {
     "iopub.execute_input": "2024-08-03T15:13:03.854158Z",
     "iopub.status.busy": "2024-08-03T15:13:03.853497Z",
     "iopub.status.idle": "2024-08-03T15:13:03.861334Z",
     "shell.execute_reply": "2024-08-03T15:13:03.860135Z"
    },
    "papermill": {
     "duration": 0.018329,
     "end_time": "2024-08-03T15:13:03.863642",
     "exception": false,
     "start_time": "2024-08-03T15:13:03.845313",
     "status": "completed"
    },
    "tags": []
   },
   "outputs": [
    {
     "name": "stdout",
     "output_type": "stream",
     "text": [
      "CPU times: user 5 µs, sys: 1 µs, total: 6 µs\n",
      "Wall time: 10.7 µs\n"
     ]
    }
   ],
   "source": [
    "%%time \n",
    "\n",
    "target      = \"class\"\n",
    "test_req    = False\n",
    "\n",
    "model_label = \"LGBM\"\n",
    "version_nb  = 1\n",
    "model_group = 5\n",
    "device      = \"cpu\"\n",
    "\n",
    "op_path    = f\"/kaggle/working\"\n",
    "ip_path    = f\"/kaggle/input/playgrounds4e08-datastore\"\n",
    "\n",
    "orig_req   = True\n",
    "nsamples   = 50_000\n",
    "\n",
    "n_splits     = 5\n",
    "state        = 42\n",
    "ftre_imp_req = True\n",
    "cutoff       = 0.50"
   ]
  },
  {
   "cell_type": "markdown",
   "id": "cbaabc16",
   "metadata": {
    "papermill": {
     "duration": 0.006997,
     "end_time": "2024-08-03T15:13:03.877637",
     "exception": false,
     "start_time": "2024-08-03T15:13:03.870640",
     "status": "completed"
    },
    "tags": []
   },
   "source": [
    "# **DATA LOADS**"
   ]
  },
  {
   "cell_type": "code",
   "execution_count": 3,
   "id": "9938fd6a",
   "metadata": {
    "execution": {
     "iopub.execute_input": "2024-08-03T15:13:03.893469Z",
     "iopub.status.busy": "2024-08-03T15:13:03.893093Z",
     "iopub.status.idle": "2024-08-03T15:13:24.009241Z",
     "shell.execute_reply": "2024-08-03T15:13:24.007930Z"
    },
    "jupyter": {
     "source_hidden": true
    },
    "papermill": {
     "duration": 20.127188,
     "end_time": "2024-08-03T15:13:24.011871",
     "exception": false,
     "start_time": "2024-08-03T15:13:03.884683",
     "status": "completed"
    },
    "tags": []
   },
   "outputs": [
    {
     "name": "stdout",
     "output_type": "stream",
     "text": [
      "\u001b[1m\u001b[34m---> Shapes = (4201981, 22) | (2077964, 21)\u001b[0m\n",
      "\u001b[1m\u001b[34m\n",
      "---> We need the original data for model training\u001b[0m\n",
      "\u001b[1m\u001b[31m---> Syntax check is not needed\u001b[0m\n",
      "\u001b[1m\u001b[34m---> Shapes = (3216945, 21) | (3216945,) | (2077964, 21)\u001b[0m\n",
      "\n",
      "CPU times: user 20.3 s, sys: 3.17 s, total: 23.5 s\n",
      "Wall time: 20.1 s\n"
     ]
    }
   ],
   "source": [
    "%%time \n",
    "\n",
    "X      = pd.read_parquet(os.path.join(ip_path, \"train.parquet\"))\n",
    "test   = pd.read_parquet(os.path.join(ip_path, \"test.parquet\"))\n",
    "sub_fl = pd.read_parquet(os.path.join(ip_path, \"sample_submission.parquet\"))\n",
    "\n",
    "cat_cols = \\\n",
    "['capshape', 'capsurface', 'capcolor', 'doesbruiseorbleed',\n",
    " 'gillattachment', 'gillspacing', 'gillcolor', 'stemroot', 'stemsurface',\n",
    " 'stemcolor', 'veiltype', 'veilcolor', 'hasring', 'ringtype',\n",
    " 'sporeprintcolor', 'habitat', 'season'\n",
    " ]\n",
    "\n",
    "X[cat_cols]     = X[cat_cols].astype(\"category\")\n",
    "test[cat_cols]  = test[cat_cols].astype(\"category\")\n",
    "\n",
    "PrintColor(f\"---> Shapes = {X.shape} | {test.shape}\")\n",
    "\n",
    "if orig_req:\n",
    "    PrintColor(f\"\\n---> We need the original data for model training\")\n",
    "    \n",
    "    if isinstance(nsamples, int):\n",
    "        original = X.loc[X.Source == 'Original'].groupby(target).sample(n = nsamples)\n",
    "        X = X.loc[X.Source == 'Competition']\n",
    "        X = pd.concat([X, original], axis=0, ignore_index = True)\n",
    "        X.index = range(len(X))\n",
    "        del original\n",
    "        \n",
    "    elif nsamples == 1.0:\n",
    "        PrintColor(f\"---> Full original data is used\")     \n",
    "else:\n",
    "    X = X.loc[X.Source == 'Competition']\n",
    "    PrintColor(f\"---> Shapes = {X.shape} | {test.shape} | without original data\", \n",
    "               color = Fore.RED\n",
    "              )\n",
    "\n",
    "# Sampling for testing purposes\n",
    "if test_req:\n",
    "    X       = X.groupby([target, \"Source\"]).head(1000)\n",
    "    X.index = range(len(X))\n",
    "    test    = test.iloc[0:100]\n",
    "    sub_fl  = sub_fl.iloc[0:100]\n",
    "    \n",
    "    PrintColor(f\"---> Shapes = {X.shape} | {test.shape}\")\n",
    "else:\n",
    "    PrintColor(f\"---> Syntax check is not needed\", color = Fore.RED)\n",
    "    \n",
    "y = X[target]\n",
    "X = X.drop(target, axis=1)\n",
    "\n",
    "PrintColor(f\"---> Shapes = {X.shape} | {y.shape} | {test.shape}\")\n",
    "    \n",
    "print();\n",
    "collect();"
   ]
  },
  {
   "cell_type": "markdown",
   "id": "c4c92953",
   "metadata": {
    "papermill": {
     "duration": 0.007364,
     "end_time": "2024-08-03T15:13:24.027027",
     "exception": false,
     "start_time": "2024-08-03T15:13:24.019663",
     "status": "completed"
    },
    "tags": []
   },
   "source": [
    "# **MODEL TRAINING**"
   ]
  },
  {
   "cell_type": "markdown",
   "id": "12ff03b6",
   "metadata": {
    "papermill": {
     "duration": 0.006964,
     "end_time": "2024-08-03T15:13:24.041219",
     "exception": false,
     "start_time": "2024-08-03T15:13:24.034255",
     "status": "completed"
    },
    "tags": []
   },
   "source": [
    "|Version Label| Kernel version | Model| Description| OOF CV score| LB score|\n",
    "|:-:| :-: | :-:| --------| :-:| :-:|\n",
    "1  | 2    | LGBM | * Excluded original data completely | | | \n",
    "2  | 3    | LGBM | * Included 100_000 grouped original data samples | | |\n",
    "3  | 4    | LGBM | * Included complete original data samples | | |\n",
    "4  | 5    | LGBM | * Included 250_000 grouped original data samples | | |\n",
    "5  | 8    | LGBM | * Included 50_000 grouped original data samples | | |"
   ]
  },
  {
   "cell_type": "code",
   "execution_count": 4,
   "id": "155d3973",
   "metadata": {
    "_kg_hide-input": true,
    "execution": {
     "iopub.execute_input": "2024-08-03T15:13:24.057898Z",
     "iopub.status.busy": "2024-08-03T15:13:24.057450Z",
     "iopub.status.idle": "2024-08-03T18:25:18.991274Z",
     "shell.execute_reply": "2024-08-03T18:25:18.989644Z"
    },
    "jupyter": {
     "source_hidden": true
    },
    "papermill": {
     "duration": 11514.945377,
     "end_time": "2024-08-03T18:25:18.993934",
     "exception": false,
     "start_time": "2024-08-03T15:13:24.048557",
     "status": "completed"
    },
    "tags": []
   },
   "outputs": [
    {
     "name": "stdout",
     "output_type": "stream",
     "text": [
      "\u001b[1m\u001b[34m\n",
      "-------- LGBM MODEL TRAINING --------\n",
      "\u001b[0m\n"
     ]
    },
    {
     "data": {
      "application/vnd.jupyter.widget-view+json": {
       "model_id": "035df6df9fea449fa934c1edc3bd1ea0",
       "version_major": 2,
       "version_minor": 0
      },
      "text/plain": [
       "0it [00:00, ?it/s]"
      ]
     },
     "metadata": {},
     "output_type": "display_data"
    },
    {
     "name": "stdout",
     "output_type": "stream",
     "text": [
      "---> OOF score [Logloss | MCC] = 0.036362 | 0.984557 | Fold0\n",
      "---> OOF score [Logloss | MCC] = 0.036156 | 0.984471 | Fold1\n",
      "---> OOF score [Logloss | MCC] = 0.036087 | 0.984822 | Fold2\n",
      "---> OOF score [Logloss | MCC] = 0.035902 | 0.984678 | Fold3\n",
      "---> OOF score [Logloss | MCC] = 0.035809 | 0.984775 | Fold4\n",
      "\u001b[1m\u001b[36m\n",
      "\n",
      "---> OOF MCC score: 0.984661 +- 0.000131 \n",
      "\u001b[0m\n",
      "\n"
     ]
    },
    {
     "data": {
      "text/html": [
       "<style type=\"text/css\">\n",
       "#T_40734_row0_col0, #T_40734_row0_col1 {\n",
       "  text-align: center;\n",
       "  background-color: #faebdd;\n",
       "  color: #000000;\n",
       "}\n",
       "#T_40734_row0_col2 {\n",
       "  text-align: center;\n",
       "  background-color: #f7d0b5;\n",
       "  color: #000000;\n",
       "}\n",
       "#T_40734_row0_col3 {\n",
       "  text-align: center;\n",
       "  background-color: #c51852;\n",
       "  color: #f1f1f1;\n",
       "}\n",
       "#T_40734_row0_col4 {\n",
       "  text-align: center;\n",
       "  background-color: #9c1b5b;\n",
       "  color: #f1f1f1;\n",
       "}\n",
       "#T_40734_row0_col5 {\n",
       "  text-align: center;\n",
       "  background-color: #951c5b;\n",
       "  color: #f1f1f1;\n",
       "}\n",
       "#T_40734_row0_col6 {\n",
       "  text-align: center;\n",
       "  background-color: #681f55;\n",
       "  color: #f1f1f1;\n",
       "}\n",
       "#T_40734_row0_col7 {\n",
       "  text-align: center;\n",
       "  background-color: #611f53;\n",
       "  color: #f1f1f1;\n",
       "}\n",
       "#T_40734_row0_col8 {\n",
       "  text-align: center;\n",
       "  background-color: #541e4e;\n",
       "  color: #f1f1f1;\n",
       "}\n",
       "#T_40734_row0_col9 {\n",
       "  text-align: center;\n",
       "  background-color: #3d1a42;\n",
       "  color: #f1f1f1;\n",
       "}\n",
       "#T_40734_row0_col10 {\n",
       "  text-align: center;\n",
       "  background-color: #3c1a42;\n",
       "  color: #f1f1f1;\n",
       "}\n",
       "#T_40734_row0_col11 {\n",
       "  text-align: center;\n",
       "  background-color: #35193e;\n",
       "  color: #f1f1f1;\n",
       "}\n",
       "#T_40734_row0_col12 {\n",
       "  text-align: center;\n",
       "  background-color: #34193d;\n",
       "  color: #f1f1f1;\n",
       "}\n",
       "#T_40734_row0_col13 {\n",
       "  text-align: center;\n",
       "  background-color: #2b1637;\n",
       "  color: #f1f1f1;\n",
       "}\n",
       "#T_40734_row0_col14 {\n",
       "  text-align: center;\n",
       "  background-color: #180f29;\n",
       "  color: #f1f1f1;\n",
       "}\n",
       "#T_40734_row0_col15 {\n",
       "  text-align: center;\n",
       "  background-color: #130d25;\n",
       "  color: #f1f1f1;\n",
       "}\n",
       "#T_40734_row0_col16 {\n",
       "  text-align: center;\n",
       "  background-color: #0d0a21;\n",
       "  color: #f1f1f1;\n",
       "}\n",
       "#T_40734_row0_col17 {\n",
       "  text-align: center;\n",
       "  background-color: #0b0920;\n",
       "  color: #f1f1f1;\n",
       "}\n",
       "#T_40734_row0_col18 {\n",
       "  text-align: center;\n",
       "  background-color: #06071c;\n",
       "  color: #f1f1f1;\n",
       "}\n",
       "#T_40734_row0_col19 {\n",
       "  text-align: center;\n",
       "  background-color: #03051a;\n",
       "  color: #f1f1f1;\n",
       "}\n",
       "</style>\n",
       "<table id=\"T_40734\">\n",
       "  <caption>Feature Importances</caption>\n",
       "  <thead>\n",
       "    <tr>\n",
       "      <th class=\"blank level0\" >&nbsp;</th>\n",
       "      <th id=\"T_40734_level0_col0\" class=\"col_heading level0 col0\" >stemheight</th>\n",
       "      <th id=\"T_40734_level0_col1\" class=\"col_heading level0 col1\" >stemwidth</th>\n",
       "      <th id=\"T_40734_level0_col2\" class=\"col_heading level0 col2\" >capdiameter</th>\n",
       "      <th id=\"T_40734_level0_col3\" class=\"col_heading level0 col3\" >capsurface</th>\n",
       "      <th id=\"T_40734_level0_col4\" class=\"col_heading level0 col4\" >gillcolor</th>\n",
       "      <th id=\"T_40734_level0_col5\" class=\"col_heading level0 col5\" >capcolor</th>\n",
       "      <th id=\"T_40734_level0_col6\" class=\"col_heading level0 col6\" >gillattachment</th>\n",
       "      <th id=\"T_40734_level0_col7\" class=\"col_heading level0 col7\" >stemcolor</th>\n",
       "      <th id=\"T_40734_level0_col8\" class=\"col_heading level0 col8\" >capshape</th>\n",
       "      <th id=\"T_40734_level0_col9\" class=\"col_heading level0 col9\" >stemsurface</th>\n",
       "      <th id=\"T_40734_level0_col10\" class=\"col_heading level0 col10\" >season</th>\n",
       "      <th id=\"T_40734_level0_col11\" class=\"col_heading level0 col11\" >gillspacing</th>\n",
       "      <th id=\"T_40734_level0_col12\" class=\"col_heading level0 col12\" >habitat</th>\n",
       "      <th id=\"T_40734_level0_col13\" class=\"col_heading level0 col13\" >ringtype</th>\n",
       "      <th id=\"T_40734_level0_col14\" class=\"col_heading level0 col14\" >stemroot</th>\n",
       "      <th id=\"T_40734_level0_col15\" class=\"col_heading level0 col15\" >doesbruiseorbleed</th>\n",
       "      <th id=\"T_40734_level0_col16\" class=\"col_heading level0 col16\" >sporeprintcolor</th>\n",
       "      <th id=\"T_40734_level0_col17\" class=\"col_heading level0 col17\" >veilcolor</th>\n",
       "      <th id=\"T_40734_level0_col18\" class=\"col_heading level0 col18\" >hasring</th>\n",
       "      <th id=\"T_40734_level0_col19\" class=\"col_heading level0 col19\" >veiltype</th>\n",
       "    </tr>\n",
       "  </thead>\n",
       "  <tbody>\n",
       "    <tr>\n",
       "      <th id=\"T_40734_level0_row0\" class=\"row_heading level0 row0\" >FtreImp</th>\n",
       "      <td id=\"T_40734_row0_col0\" class=\"data row0 col0\" >75,366.00</td>\n",
       "      <td id=\"T_40734_row0_col1\" class=\"data row0 col1\" >75,088.00</td>\n",
       "      <td id=\"T_40734_row0_col2\" class=\"data row0 col2\" >69,964.00</td>\n",
       "      <td id=\"T_40734_row0_col3\" class=\"data row0 col3\" >37,172.00</td>\n",
       "      <td id=\"T_40734_row0_col4\" class=\"data row0 col4\" >29,773.00</td>\n",
       "      <td id=\"T_40734_row0_col5\" class=\"data row0 col5\" >28,612.00</td>\n",
       "      <td id=\"T_40734_row0_col6\" class=\"data row0 col6\" >20,682.00</td>\n",
       "      <td id=\"T_40734_row0_col7\" class=\"data row0 col7\" >19,658.00</td>\n",
       "      <td id=\"T_40734_row0_col8\" class=\"data row0 col8\" >17,343.00</td>\n",
       "      <td id=\"T_40734_row0_col9\" class=\"data row0 col9\" >12,932.00</td>\n",
       "      <td id=\"T_40734_row0_col10\" class=\"data row0 col10\" >12,563.00</td>\n",
       "      <td id=\"T_40734_row0_col11\" class=\"data row0 col11\" >11,451.00</td>\n",
       "      <td id=\"T_40734_row0_col12\" class=\"data row0 col12\" >11,019.00</td>\n",
       "      <td id=\"T_40734_row0_col13\" class=\"data row0 col13\" >9,463.00</td>\n",
       "      <td id=\"T_40734_row0_col14\" class=\"data row0 col14\" >5,603.00</td>\n",
       "      <td id=\"T_40734_row0_col15\" class=\"data row0 col15\" >4,293.00</td>\n",
       "      <td id=\"T_40734_row0_col16\" class=\"data row0 col16\" >3,324.00</td>\n",
       "      <td id=\"T_40734_row0_col17\" class=\"data row0 col17\" >2,855.00</td>\n",
       "      <td id=\"T_40734_row0_col18\" class=\"data row0 col18\" >1,904.00</td>\n",
       "      <td id=\"T_40734_row0_col19\" class=\"data row0 col19\" >795.00</td>\n",
       "    </tr>\n",
       "  </tbody>\n",
       "</table>\n"
      ],
      "text/plain": [
       "<pandas.io.formats.style.Styler at 0x7ac4db803f70>"
      ]
     },
     "metadata": {},
     "output_type": "display_data"
    },
    {
     "name": "stdout",
     "output_type": "stream",
     "text": [
      "CPU times: user 3h 23min 21s, sys: 11.6 s, total: 3h 23min 33s\n",
      "Wall time: 3h 11min 54s\n"
     ]
    }
   ],
   "source": [
    "%%time \n",
    "\n",
    "cv         = SKF(n_splits= n_splits, shuffle= True, random_state = state)\n",
    "test_preds = 0\n",
    "scores     = []\n",
    "drop_cols  = [\"Source\", \"id\", target]\n",
    "ftre_imp   = 0\n",
    "sel_cols   = X.drop(columns = drop_cols, errors = \"ignore\").columns\n",
    "\n",
    "OOF_Preds = pd.DataFrame(X.loc[X.Source == 'Competition'].index, \n",
    "                         columns = [f\"{model_label}V{version_nb}_{model_group}\"],\n",
    "                         dtype = np.float32,\n",
    "                        )\n",
    "\n",
    "PrintColor(f\"\\n-------- {model_label} MODEL TRAINING --------\\n\")\n",
    "for fold_nb, (train_idx, dev_idx) in tqdm(enumerate(cv.split(X, y))):\n",
    "\n",
    "    Xtr  = X.iloc[train_idx][sel_cols]\n",
    "    ytr  = y.iloc[train_idx]\n",
    "    Xdev = X.iloc[dev_idx].query(\"Source == 'Competition'\")[sel_cols]\n",
    "    ydev = y.loc[Xdev.index]\n",
    "    \n",
    "    model = LGBMC(objective     = \"binary\",\n",
    "                  eval_metric   = \"logloss\",\n",
    "                  device        = device,\n",
    "                  n_estimators  = 3000,\n",
    "                  max_depth     = 9,\n",
    "                  learning_rate = 0.06, \n",
    "                  random_state  = state,\n",
    "                  max_bin       = 1024,\n",
    "                  colsample_bytree = 0.7,\n",
    "                  reg_lambda    = 80,\n",
    "                  verbosity     = -1,\n",
    "                 )\n",
    "\n",
    "    model.fit(Xtr, ytr,\n",
    "              eval_set  = [(Xdev, ydev)],\n",
    "              eval_names = [(\"Dev\")],\n",
    "              callbacks = [log_evaluation(0), early_stopping(100)],\n",
    "              )\n",
    "\n",
    "    if ftre_imp_req:\n",
    "        ftre_imp  = ftre_imp + model.feature_importances_\n",
    "\n",
    "    score1    = model.best_score_['Dev']['binary_logloss']\n",
    "    dev_preds = model.predict_proba(Xdev)[:,1]\n",
    "    score2    = matthews_corrcoef(ydev, np.where(dev_preds >= cutoff, 1, 0))\n",
    "\n",
    "    print(f\"---> OOF score [Logloss | MCC] = {score1:.6f} | {score2 :.6f} | Fold{fold_nb}\")\n",
    "    scores.append(score2)\n",
    "\n",
    "    test_preds = test_preds + (model.predict_proba(test[sel_cols])[:, 1]/n_splits)                          \n",
    "    OOF_Preds.loc[Xdev.index, f\"{model_label}V{version_nb}_{model_group}\"] = dev_preds;\n",
    "    del Xtr, Xdev, ytr, ydev, score1, score2, model;\n",
    "    collect();\n",
    "\n",
    "PrintColor(f'\\n\\n---> OOF MCC score: {np.mean(scores) :.6f} +- {np.std(scores) :.6f} \\n',\n",
    "          color = Fore.CYAN\n",
    "          )\n",
    "collect();\n",
    "print();\n",
    "\n",
    "if ftre_imp_req:\n",
    "    display(pd.DataFrame(ftre_imp, index = sel_cols, columns = [\"FtreImp\"]).\\\n",
    "            sort_values([\"FtreImp\"], ascending = False).\\\n",
    "            transpose().\\\n",
    "            style.format(formatter = \"{:,.2f}\").\\\n",
    "            set_caption(f\"Feature Importances\").\\\n",
    "            set_properties(**{\"text-align\": \"center\"}).\\\n",
    "            background_gradient(subset = sel_cols,\n",
    "                                cmap = \"rocket\", \n",
    "                                axis=1\n",
    "                               )\n",
    "            )\n"
   ]
  },
  {
   "cell_type": "markdown",
   "id": "1d65114f",
   "metadata": {
    "papermill": {
     "duration": 0.012137,
     "end_time": "2024-08-03T18:25:19.016043",
     "exception": false,
     "start_time": "2024-08-03T18:25:19.003906",
     "status": "completed"
    },
    "tags": []
   },
   "source": [
    "# **CLOSURE**"
   ]
  },
  {
   "cell_type": "code",
   "execution_count": 5,
   "id": "91f340f9",
   "metadata": {
    "_kg_hide-input": true,
    "execution": {
     "iopub.execute_input": "2024-08-03T18:25:19.038169Z",
     "iopub.status.busy": "2024-08-03T18:25:19.037644Z",
     "iopub.status.idle": "2024-08-03T18:25:19.047261Z",
     "shell.execute_reply": "2024-08-03T18:25:19.045990Z"
    },
    "jupyter": {
     "source_hidden": true
    },
    "papermill": {
     "duration": 0.023498,
     "end_time": "2024-08-03T18:25:19.050528",
     "exception": false,
     "start_time": "2024-08-03T18:25:19.027030",
     "status": "completed"
    },
    "tags": []
   },
   "outputs": [],
   "source": [
    "def PostProcessPreds(sub_fl: pd.DataFrame, target: str = target):\n",
    "    \"This function post-processes the predictions using saved predictions and targets\"\n",
    "    \n",
    "    try:\n",
    "        sub_fl = sub_fl.set_index(\"id\")\n",
    "    except:\n",
    "        print(f\"---> Submission file index is intact\")\n",
    "\n",
    "    sub_fl.loc[3640058, target] = \"e\"\n",
    "    sub_fl.loc[sub_fl.index.isin([3600675, 4057201, 4729429, 4929268, 4985595]), target] = \"p\"\n",
    "    return sub_fl;"
   ]
  },
  {
   "cell_type": "code",
   "execution_count": 6,
   "id": "ca986bd0",
   "metadata": {
    "_kg_hide-input": true,
    "execution": {
     "iopub.execute_input": "2024-08-03T18:25:19.071880Z",
     "iopub.status.busy": "2024-08-03T18:25:19.071444Z",
     "iopub.status.idle": "2024-08-03T18:25:20.904001Z",
     "shell.execute_reply": "2024-08-03T18:25:20.902864Z"
    },
    "jupyter": {
     "source_hidden": true
    },
    "papermill": {
     "duration": 1.845098,
     "end_time": "2024-08-03T18:25:20.906582",
     "exception": false,
     "start_time": "2024-08-03T18:25:19.061484",
     "status": "completed"
    },
    "tags": []
   },
   "outputs": [
    {
     "name": "stdout",
     "output_type": "stream",
     "text": [
      "\n",
      "\n",
      "\n",
      "---> Submission file index is intact\n",
      "\n",
      "\n",
      "\n"
     ]
    },
    {
     "data": {
      "text/html": [
       "<style type=\"text/css\">\n",
       "</style>\n",
       "<table id=\"T_ed86d\">\n",
       "  <caption>Submission file predictions</caption>\n",
       "  <thead>\n",
       "    <tr>\n",
       "      <th class=\"blank level0\" >&nbsp;</th>\n",
       "      <th id=\"T_ed86d_level0_col0\" class=\"col_heading level0 col0\" >LGBMV1_5</th>\n",
       "    </tr>\n",
       "  </thead>\n",
       "  <tbody>\n",
       "    <tr>\n",
       "      <th id=\"T_ed86d_level0_row0\" class=\"row_heading level0 row0\" >0</th>\n",
       "      <td id=\"T_ed86d_row0_col0\" class=\"data row0 col0\" >0.001872</td>\n",
       "    </tr>\n",
       "    <tr>\n",
       "      <th id=\"T_ed86d_level0_row1\" class=\"row_heading level0 row1\" >1</th>\n",
       "      <td id=\"T_ed86d_row1_col0\" class=\"data row1 col0\" >0.998202</td>\n",
       "    </tr>\n",
       "    <tr>\n",
       "      <th id=\"T_ed86d_level0_row2\" class=\"row_heading level0 row2\" >2</th>\n",
       "      <td id=\"T_ed86d_row2_col0\" class=\"data row2 col0\" >0.993273</td>\n",
       "    </tr>\n",
       "    <tr>\n",
       "      <th id=\"T_ed86d_level0_row3\" class=\"row_heading level0 row3\" >3</th>\n",
       "      <td id=\"T_ed86d_row3_col0\" class=\"data row3 col0\" >0.995202</td>\n",
       "    </tr>\n",
       "    <tr>\n",
       "      <th id=\"T_ed86d_level0_row4\" class=\"row_heading level0 row4\" >4</th>\n",
       "      <td id=\"T_ed86d_row4_col0\" class=\"data row4 col0\" >0.001710</td>\n",
       "    </tr>\n",
       "    <tr>\n",
       "      <th id=\"T_ed86d_level0_row5\" class=\"row_heading level0 row5\" >5</th>\n",
       "      <td id=\"T_ed86d_row5_col0\" class=\"data row5 col0\" >0.010088</td>\n",
       "    </tr>\n",
       "    <tr>\n",
       "      <th id=\"T_ed86d_level0_row6\" class=\"row_heading level0 row6\" >6</th>\n",
       "      <td id=\"T_ed86d_row6_col0\" class=\"data row6 col0\" >0.002438</td>\n",
       "    </tr>\n",
       "    <tr>\n",
       "      <th id=\"T_ed86d_level0_row7\" class=\"row_heading level0 row7\" >7</th>\n",
       "      <td id=\"T_ed86d_row7_col0\" class=\"data row7 col0\" >0.999301</td>\n",
       "    </tr>\n",
       "    <tr>\n",
       "      <th id=\"T_ed86d_level0_row8\" class=\"row_heading level0 row8\" >8</th>\n",
       "      <td id=\"T_ed86d_row8_col0\" class=\"data row8 col0\" >0.996488</td>\n",
       "    </tr>\n",
       "    <tr>\n",
       "      <th id=\"T_ed86d_level0_row9\" class=\"row_heading level0 row9\" >9</th>\n",
       "      <td id=\"T_ed86d_row9_col0\" class=\"data row9 col0\" >0.001136</td>\n",
       "    </tr>\n",
       "  </tbody>\n",
       "</table>\n"
      ],
      "text/plain": [
       "<pandas.io.formats.style.Styler at 0x7ac50c1cb940>"
      ]
     },
     "metadata": {},
     "output_type": "display_data"
    },
    {
     "name": "stdout",
     "output_type": "stream",
     "text": [
      "\n",
      "\n",
      "\n"
     ]
    },
    {
     "data": {
      "text/html": [
       "<style type=\"text/css\">\n",
       "</style>\n",
       "<table id=\"T_534d7\">\n",
       "  <caption>Submission file labels</caption>\n",
       "  <thead>\n",
       "    <tr>\n",
       "      <th class=\"blank level0\" >&nbsp;</th>\n",
       "      <th id=\"T_534d7_level0_col0\" class=\"col_heading level0 col0\" >class</th>\n",
       "    </tr>\n",
       "    <tr>\n",
       "      <th class=\"index_name level0\" >id</th>\n",
       "      <th class=\"blank col0\" >&nbsp;</th>\n",
       "    </tr>\n",
       "  </thead>\n",
       "  <tbody>\n",
       "    <tr>\n",
       "      <th id=\"T_534d7_level0_row0\" class=\"row_heading level0 row0\" >3116945</th>\n",
       "      <td id=\"T_534d7_row0_col0\" class=\"data row0 col0\" >e</td>\n",
       "    </tr>\n",
       "    <tr>\n",
       "      <th id=\"T_534d7_level0_row1\" class=\"row_heading level0 row1\" >3116946</th>\n",
       "      <td id=\"T_534d7_row1_col0\" class=\"data row1 col0\" >p</td>\n",
       "    </tr>\n",
       "    <tr>\n",
       "      <th id=\"T_534d7_level0_row2\" class=\"row_heading level0 row2\" >3116947</th>\n",
       "      <td id=\"T_534d7_row2_col0\" class=\"data row2 col0\" >p</td>\n",
       "    </tr>\n",
       "    <tr>\n",
       "      <th id=\"T_534d7_level0_row3\" class=\"row_heading level0 row3\" >3116948</th>\n",
       "      <td id=\"T_534d7_row3_col0\" class=\"data row3 col0\" >p</td>\n",
       "    </tr>\n",
       "    <tr>\n",
       "      <th id=\"T_534d7_level0_row4\" class=\"row_heading level0 row4\" >3116949</th>\n",
       "      <td id=\"T_534d7_row4_col0\" class=\"data row4 col0\" >e</td>\n",
       "    </tr>\n",
       "    <tr>\n",
       "      <th id=\"T_534d7_level0_row5\" class=\"row_heading level0 row5\" >3116950</th>\n",
       "      <td id=\"T_534d7_row5_col0\" class=\"data row5 col0\" >e</td>\n",
       "    </tr>\n",
       "    <tr>\n",
       "      <th id=\"T_534d7_level0_row6\" class=\"row_heading level0 row6\" >3116951</th>\n",
       "      <td id=\"T_534d7_row6_col0\" class=\"data row6 col0\" >e</td>\n",
       "    </tr>\n",
       "    <tr>\n",
       "      <th id=\"T_534d7_level0_row7\" class=\"row_heading level0 row7\" >3116952</th>\n",
       "      <td id=\"T_534d7_row7_col0\" class=\"data row7 col0\" >p</td>\n",
       "    </tr>\n",
       "    <tr>\n",
       "      <th id=\"T_534d7_level0_row8\" class=\"row_heading level0 row8\" >3116953</th>\n",
       "      <td id=\"T_534d7_row8_col0\" class=\"data row8 col0\" >p</td>\n",
       "    </tr>\n",
       "    <tr>\n",
       "      <th id=\"T_534d7_level0_row9\" class=\"row_heading level0 row9\" >3116954</th>\n",
       "      <td id=\"T_534d7_row9_col0\" class=\"data row9 col0\" >e</td>\n",
       "    </tr>\n",
       "  </tbody>\n",
       "</table>\n"
      ],
      "text/plain": [
       "<pandas.io.formats.style.Styler at 0x7ac50c1cb5e0>"
      ]
     },
     "metadata": {},
     "output_type": "display_data"
    },
    {
     "name": "stdout",
     "output_type": "stream",
     "text": [
      "\n",
      "\n",
      "\n",
      "CPU times: user 1.55 s, sys: 246 ms, total: 1.8 s\n",
      "Wall time: 1.82 s\n"
     ]
    }
   ],
   "source": [
    "%%time \n",
    "\n",
    "print(\"\\n\\n\")\n",
    "sub_fl[target] = np.where(test_preds >= cutoff, \"p\", \"e\")\n",
    "sub_fl = PostProcessPreds(sub_fl)\n",
    "\n",
    "test_preds = \\\n",
    "pd.DataFrame(test_preds,index = range(len(test)),\n",
    "             columns = [f\"{model_label}V{version_nb}_{model_group}\"],\n",
    "             dtype = np.float32,\n",
    "            )\n",
    "\n",
    "print(\"\\n\\n\")\n",
    "display(test_preds.head(10).style.set_caption(f\"Submission file predictions\"))\n",
    "print(\"\\n\\n\")\n",
    "display(sub_fl.head(10).style.set_caption(f\"Submission file labels\"))\n",
    "print(\"\\n\\n\")\n",
    "\n",
    "OOF_Preds.index.name = \"id\"\n",
    "OOF_Preds.sort_index().reset_index().\\\n",
    "to_parquet(os.path.join(op_path, f'OOF_Preds_{model_label}V{version_nb}_{model_group}.parquet'))\n",
    "\n",
    "test_preds.\\\n",
    "to_parquet(os.path.join(op_path, f'Mdl_Preds_{model_label}V{version_nb}_{model_group}.parquet'))\n",
    "\n",
    "sub_fl.\\\n",
    "to_parquet(os.path.join(op_path, f'Submission_{model_label}V{version_nb}_{model_group}.parquet'),\n",
    "           index= True\n",
    "          )\n",
    "\n",
    "%reset -f"
   ]
  }
 ],
 "metadata": {
  "kaggle": {
   "accelerator": "none",
   "dataSources": [
    {
     "databundleVersionId": 9045607,
     "sourceId": 76727,
     "sourceType": "competition"
    },
    {
     "sourceId": 190672036,
     "sourceType": "kernelVersion"
    },
    {
     "sourceId": 191018477,
     "sourceType": "kernelVersion"
    },
    {
     "sourceId": 191020336,
     "sourceType": "kernelVersion"
    }
   ],
   "dockerImageVersionId": 30746,
   "isGpuEnabled": false,
   "isInternetEnabled": true,
   "language": "python",
   "sourceType": "notebook"
  },
  "kernelspec": {
   "display_name": "Python 3",
   "language": "python",
   "name": "python3"
  },
  "language_info": {
   "codemirror_mode": {
    "name": "ipython",
    "version": 3
   },
   "file_extension": ".py",
   "mimetype": "text/x-python",
   "name": "python",
   "nbconvert_exporter": "python",
   "pygments_lexer": "ipython3",
   "version": "3.10.13"
  },
  "papermill": {
   "default_parameters": {},
   "duration": 11592.160795,
   "end_time": "2024-08-03T18:25:21.666156",
   "environment_variables": {},
   "exception": null,
   "input_path": "__notebook__.ipynb",
   "output_path": "__notebook__.ipynb",
   "parameters": {},
   "start_time": "2024-08-03T15:12:09.505361",
   "version": "2.5.0"
  },
  "widgets": {
   "application/vnd.jupyter.widget-state+json": {
    "state": {
     "0229d2203d004007a963a7ec7194bffe": {
      "model_module": "@jupyter-widgets/base",
      "model_module_version": "1.2.0",
      "model_name": "LayoutModel",
      "state": {
       "_model_module": "@jupyter-widgets/base",
       "_model_module_version": "1.2.0",
       "_model_name": "LayoutModel",
       "_view_count": null,
       "_view_module": "@jupyter-widgets/base",
       "_view_module_version": "1.2.0",
       "_view_name": "LayoutView",
       "align_content": null,
       "align_items": null,
       "align_self": null,
       "border": null,
       "bottom": null,
       "display": null,
       "flex": null,
       "flex_flow": null,
       "grid_area": null,
       "grid_auto_columns": null,
       "grid_auto_flow": null,
       "grid_auto_rows": null,
       "grid_column": null,
       "grid_gap": null,
       "grid_row": null,
       "grid_template_areas": null,
       "grid_template_columns": null,
       "grid_template_rows": null,
       "height": null,
       "justify_content": null,
       "justify_items": null,
       "left": null,
       "margin": null,
       "max_height": null,
       "max_width": null,
       "min_height": null,
       "min_width": null,
       "object_fit": null,
       "object_position": null,
       "order": null,
       "overflow": null,
       "overflow_x": null,
       "overflow_y": null,
       "padding": null,
       "right": null,
       "top": null,
       "visibility": null,
       "width": null
      }
     },
     "035df6df9fea449fa934c1edc3bd1ea0": {
      "model_module": "@jupyter-widgets/controls",
      "model_module_version": "1.5.0",
      "model_name": "HBoxModel",
      "state": {
       "_dom_classes": [],
       "_model_module": "@jupyter-widgets/controls",
       "_model_module_version": "1.5.0",
       "_model_name": "HBoxModel",
       "_view_count": null,
       "_view_module": "@jupyter-widgets/controls",
       "_view_module_version": "1.5.0",
       "_view_name": "HBoxView",
       "box_style": "",
       "children": [
        "IPY_MODEL_6d9efce30a224513950f19e6eff5f6f2",
        "IPY_MODEL_38e969aefe464139b7b5fd2402f8f184",
        "IPY_MODEL_ceba59ea4fe44971aca58634aa44f152"
       ],
       "layout": "IPY_MODEL_75ccecc6485443c98c8cc9bb27352502"
      }
     },
     "244d3a2fd00748ebb167c8feff814994": {
      "model_module": "@jupyter-widgets/base",
      "model_module_version": "1.2.0",
      "model_name": "LayoutModel",
      "state": {
       "_model_module": "@jupyter-widgets/base",
       "_model_module_version": "1.2.0",
       "_model_name": "LayoutModel",
       "_view_count": null,
       "_view_module": "@jupyter-widgets/base",
       "_view_module_version": "1.2.0",
       "_view_name": "LayoutView",
       "align_content": null,
       "align_items": null,
       "align_self": null,
       "border": null,
       "bottom": null,
       "display": null,
       "flex": null,
       "flex_flow": null,
       "grid_area": null,
       "grid_auto_columns": null,
       "grid_auto_flow": null,
       "grid_auto_rows": null,
       "grid_column": null,
       "grid_gap": null,
       "grid_row": null,
       "grid_template_areas": null,
       "grid_template_columns": null,
       "grid_template_rows": null,
       "height": null,
       "justify_content": null,
       "justify_items": null,
       "left": null,
       "margin": null,
       "max_height": null,
       "max_width": null,
       "min_height": null,
       "min_width": null,
       "object_fit": null,
       "object_position": null,
       "order": null,
       "overflow": null,
       "overflow_x": null,
       "overflow_y": null,
       "padding": null,
       "right": null,
       "top": null,
       "visibility": null,
       "width": null
      }
     },
     "38e969aefe464139b7b5fd2402f8f184": {
      "model_module": "@jupyter-widgets/controls",
      "model_module_version": "1.5.0",
      "model_name": "FloatProgressModel",
      "state": {
       "_dom_classes": [],
       "_model_module": "@jupyter-widgets/controls",
       "_model_module_version": "1.5.0",
       "_model_name": "FloatProgressModel",
       "_view_count": null,
       "_view_module": "@jupyter-widgets/controls",
       "_view_module_version": "1.5.0",
       "_view_name": "ProgressView",
       "bar_style": "success",
       "description": "",
       "description_tooltip": null,
       "layout": "IPY_MODEL_53643a83476d42cf82f32194e816a102",
       "max": 1.0,
       "min": 0.0,
       "orientation": "horizontal",
       "style": "IPY_MODEL_adce9e067d6d4e12a115ba19fdf53b71",
       "value": 1.0
      }
     },
     "53643a83476d42cf82f32194e816a102": {
      "model_module": "@jupyter-widgets/base",
      "model_module_version": "1.2.0",
      "model_name": "LayoutModel",
      "state": {
       "_model_module": "@jupyter-widgets/base",
       "_model_module_version": "1.2.0",
       "_model_name": "LayoutModel",
       "_view_count": null,
       "_view_module": "@jupyter-widgets/base",
       "_view_module_version": "1.2.0",
       "_view_name": "LayoutView",
       "align_content": null,
       "align_items": null,
       "align_self": null,
       "border": null,
       "bottom": null,
       "display": null,
       "flex": null,
       "flex_flow": null,
       "grid_area": null,
       "grid_auto_columns": null,
       "grid_auto_flow": null,
       "grid_auto_rows": null,
       "grid_column": null,
       "grid_gap": null,
       "grid_row": null,
       "grid_template_areas": null,
       "grid_template_columns": null,
       "grid_template_rows": null,
       "height": null,
       "justify_content": null,
       "justify_items": null,
       "left": null,
       "margin": null,
       "max_height": null,
       "max_width": null,
       "min_height": null,
       "min_width": null,
       "object_fit": null,
       "object_position": null,
       "order": null,
       "overflow": null,
       "overflow_x": null,
       "overflow_y": null,
       "padding": null,
       "right": null,
       "top": null,
       "visibility": null,
       "width": "20px"
      }
     },
     "6d9efce30a224513950f19e6eff5f6f2": {
      "model_module": "@jupyter-widgets/controls",
      "model_module_version": "1.5.0",
      "model_name": "HTMLModel",
      "state": {
       "_dom_classes": [],
       "_model_module": "@jupyter-widgets/controls",
       "_model_module_version": "1.5.0",
       "_model_name": "HTMLModel",
       "_view_count": null,
       "_view_module": "@jupyter-widgets/controls",
       "_view_module_version": "1.5.0",
       "_view_name": "HTMLView",
       "description": "",
       "description_tooltip": null,
       "layout": "IPY_MODEL_244d3a2fd00748ebb167c8feff814994",
       "placeholder": "​",
       "style": "IPY_MODEL_e50443ded6e2495cacb16baafde49f2b",
       "value": ""
      }
     },
     "75ccecc6485443c98c8cc9bb27352502": {
      "model_module": "@jupyter-widgets/base",
      "model_module_version": "1.2.0",
      "model_name": "LayoutModel",
      "state": {
       "_model_module": "@jupyter-widgets/base",
       "_model_module_version": "1.2.0",
       "_model_name": "LayoutModel",
       "_view_count": null,
       "_view_module": "@jupyter-widgets/base",
       "_view_module_version": "1.2.0",
       "_view_name": "LayoutView",
       "align_content": null,
       "align_items": null,
       "align_self": null,
       "border": null,
       "bottom": null,
       "display": null,
       "flex": null,
       "flex_flow": null,
       "grid_area": null,
       "grid_auto_columns": null,
       "grid_auto_flow": null,
       "grid_auto_rows": null,
       "grid_column": null,
       "grid_gap": null,
       "grid_row": null,
       "grid_template_areas": null,
       "grid_template_columns": null,
       "grid_template_rows": null,
       "height": null,
       "justify_content": null,
       "justify_items": null,
       "left": null,
       "margin": null,
       "max_height": null,
       "max_width": null,
       "min_height": null,
       "min_width": null,
       "object_fit": null,
       "object_position": null,
       "order": null,
       "overflow": null,
       "overflow_x": null,
       "overflow_y": null,
       "padding": null,
       "right": null,
       "top": null,
       "visibility": null,
       "width": null
      }
     },
     "adce9e067d6d4e12a115ba19fdf53b71": {
      "model_module": "@jupyter-widgets/controls",
      "model_module_version": "1.5.0",
      "model_name": "ProgressStyleModel",
      "state": {
       "_model_module": "@jupyter-widgets/controls",
       "_model_module_version": "1.5.0",
       "_model_name": "ProgressStyleModel",
       "_view_count": null,
       "_view_module": "@jupyter-widgets/base",
       "_view_module_version": "1.2.0",
       "_view_name": "StyleView",
       "bar_color": null,
       "description_width": ""
      }
     },
     "ceba59ea4fe44971aca58634aa44f152": {
      "model_module": "@jupyter-widgets/controls",
      "model_module_version": "1.5.0",
      "model_name": "HTMLModel",
      "state": {
       "_dom_classes": [],
       "_model_module": "@jupyter-widgets/controls",
       "_model_module_version": "1.5.0",
       "_model_name": "HTMLModel",
       "_view_count": null,
       "_view_module": "@jupyter-widgets/controls",
       "_view_module_version": "1.5.0",
       "_view_name": "HTMLView",
       "description": "",
       "description_tooltip": null,
       "layout": "IPY_MODEL_0229d2203d004007a963a7ec7194bffe",
       "placeholder": "​",
       "style": "IPY_MODEL_e285da92883d4d288d7c962890250909",
       "value": " 5/? [3:11:53&lt;00:00, 2358.77s/it]"
      }
     },
     "e285da92883d4d288d7c962890250909": {
      "model_module": "@jupyter-widgets/controls",
      "model_module_version": "1.5.0",
      "model_name": "DescriptionStyleModel",
      "state": {
       "_model_module": "@jupyter-widgets/controls",
       "_model_module_version": "1.5.0",
       "_model_name": "DescriptionStyleModel",
       "_view_count": null,
       "_view_module": "@jupyter-widgets/base",
       "_view_module_version": "1.2.0",
       "_view_name": "StyleView",
       "description_width": ""
      }
     },
     "e50443ded6e2495cacb16baafde49f2b": {
      "model_module": "@jupyter-widgets/controls",
      "model_module_version": "1.5.0",
      "model_name": "DescriptionStyleModel",
      "state": {
       "_model_module": "@jupyter-widgets/controls",
       "_model_module_version": "1.5.0",
       "_model_name": "DescriptionStyleModel",
       "_view_count": null,
       "_view_module": "@jupyter-widgets/base",
       "_view_module_version": "1.2.0",
       "_view_name": "StyleView",
       "description_width": ""
      }
     }
    },
    "version_major": 2,
    "version_minor": 0
   }
  }
 },
 "nbformat": 4,
 "nbformat_minor": 5
}
