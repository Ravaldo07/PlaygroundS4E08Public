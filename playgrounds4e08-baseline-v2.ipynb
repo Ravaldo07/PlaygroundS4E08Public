{
 "cells": [
  {
   "cell_type": "raw",
   "id": "044c4f99",
   "metadata": {
    "papermill": {
     "duration": 0.004633,
     "end_time": "2024-08-04T19:37:11.243270",
     "exception": false,
     "start_time": "2024-08-04T19:37:11.238637",
     "status": "completed"
    },
    "tags": []
   },
   "source": []
  },
  {
   "cell_type": "markdown",
   "id": "d45ecabe",
   "metadata": {
    "papermill": {
     "duration": 0.003533,
     "end_time": "2024-08-04T19:37:11.251016",
     "exception": false,
     "start_time": "2024-08-04T19:37:11.247483",
     "status": "completed"
    },
    "tags": []
   },
   "source": [
    "# **FOREWORD**"
   ]
  },
  {
   "cell_type": "markdown",
   "id": "365a0002",
   "metadata": {
    "papermill": {
     "duration": 0.003385,
     "end_time": "2024-08-04T19:37:11.258040",
     "exception": false,
     "start_time": "2024-08-04T19:37:11.254655",
     "status": "completed"
    },
    "tags": []
   },
   "source": [
    "This is my second trust with the [Playground season 4 episode 8 competition](https://www.kaggle.com/competitions/playground-series-s4e8/overview). This assignment entails one to identify edible mushrooms from a group of edible and poisionous mushrooms. This is a binary classifier with Matthews Correlation as an evaluation metric. <br> \n",
    "\n",
    "This kernel is heavily influenced by the work done in the below public notebooks- <br>\n",
    "1. https://www.kaggle.com/code/stealthtechnologies/lb-0-98513-multiple-lightgbm-models <br>\n",
    "2. https://www.kaggle.com/code/carlmcbrideellis/mushrooms-single-lightgbm-model-20-minutes <br> \n",
    "\n",
    "**My contribution** <br>\n",
    "1. Appended the [data store](https://www.kaggle.com/code/ravi20076/playgrounds4e08-datastore-v1) dataset to the competition data for the model <br>\n",
    "2. Carried out very minimal FE <br> \n",
    "3. Inferred on the competition data only <br> \n",
    "4. Used different state values for the assignment <br>\n",
    "5. Inferred 3 metrics, MCC, AUC and LogLoss <br>\n",
    "\n",
    "Wishing you all the best for the assignment and best regards!\n",
    "\n",
    "**Key note** <br>\n",
    "1. I have effectuated the kernel in **test mode** with the parameter **test_req = True** <br>\n",
    "2. Please set it to False to run it on the complete dataset <br>\n",
    "3. In test mode, I plan to import the actual submission file from my [adjutant dataset](/kaggle/input/playgrounds4e08baselinesubmission) and use it for submission <br>"
   ]
  },
  {
   "cell_type": "markdown",
   "id": "56b78cee",
   "metadata": {
    "papermill": {
     "duration": 0.003444,
     "end_time": "2024-08-04T19:37:11.265045",
     "exception": false,
     "start_time": "2024-08-04T19:37:11.261601",
     "status": "completed"
    },
    "tags": []
   },
   "source": [
    "# **IMPORTS**"
   ]
  },
  {
   "cell_type": "code",
   "execution_count": 1,
   "id": "63f60893",
   "metadata": {
    "_kg_hide-input": true,
    "_kg_hide-output": true,
    "execution": {
     "iopub.execute_input": "2024-08-04T19:37:11.273819Z",
     "iopub.status.busy": "2024-08-04T19:37:11.273458Z",
     "iopub.status.idle": "2024-08-04T19:37:55.280762Z",
     "shell.execute_reply": "2024-08-04T19:37:55.279504Z"
    },
    "papermill": {
     "duration": 44.014401,
     "end_time": "2024-08-04T19:37:55.283060",
     "exception": false,
     "start_time": "2024-08-04T19:37:11.268659",
     "status": "completed"
    },
    "tags": []
   },
   "outputs": [
    {
     "name": "stdout",
     "output_type": "stream",
     "text": [
      "\n",
      "---> Importing commonly used libraries and packages in my model pipelines\n",
      "\n",
      "Collecting lightgbm==4.5.0\n",
      "  Downloading lightgbm-4.5.0-py3-none-manylinux_2_28_x86_64.whl.metadata (17 kB)\n",
      "Requirement already satisfied: numpy>=1.17.0 in /opt/conda/lib/python3.10/site-packages (from lightgbm==4.5.0) (1.26.4)\n",
      "Requirement already satisfied: scipy in /opt/conda/lib/python3.10/site-packages (from lightgbm==4.5.0) (1.11.4)\n",
      "Downloading lightgbm-4.5.0-py3-none-manylinux_2_28_x86_64.whl (3.6 MB)\n",
      "\u001b[2K   \u001b[90m━━━━━━━━━━━━━━━━━━━━━━━━━━━━━━━━━━━━━━━━\u001b[0m \u001b[32m3.6/3.6 MB\u001b[0m \u001b[31m34.3 MB/s\u001b[0m eta \u001b[36m0:00:00\u001b[0m\n",
      "\u001b[?25hInstalling collected packages: lightgbm\n",
      "  Attempting uninstall: lightgbm\n",
      "    Found existing installation: lightgbm 4.2.0\n",
      "    Uninstalling lightgbm-4.2.0:\n",
      "      Successfully uninstalled lightgbm-4.2.0\n",
      "Successfully installed lightgbm-4.5.0\n",
      "Collecting polars==1.2.1\n",
      "  Downloading polars-1.2.1-cp38-abi3-manylinux_2_17_x86_64.manylinux2014_x86_64.whl.metadata (14 kB)\n",
      "Downloading polars-1.2.1-cp38-abi3-manylinux_2_17_x86_64.manylinux2014_x86_64.whl (30.9 MB)\n",
      "\u001b[2K   \u001b[90m━━━━━━━━━━━━━━━━━━━━━━━━━━━━━━━━━━━━━━━━\u001b[0m \u001b[32m30.9/30.9 MB\u001b[0m \u001b[31m6.8 MB/s\u001b[0m eta \u001b[36m0:00:00\u001b[0m\n",
      "\u001b[?25hInstalling collected packages: polars\n",
      "  Attempting uninstall: polars\n",
      "    Found existing installation: polars 1.1.0\n",
      "    Uninstalling polars-1.1.0:\n",
      "      Successfully uninstalled polars-1.1.0\n",
      "Successfully installed polars-1.2.1\n",
      "Collecting ucimlrepo\n",
      "  Downloading ucimlrepo-0.0.7-py3-none-any.whl.metadata (5.5 kB)\n",
      "Requirement already satisfied: pandas>=1.0.0 in /opt/conda/lib/python3.10/site-packages (from ucimlrepo) (2.2.2)\n",
      "Requirement already satisfied: certifi>=2020.12.5 in /opt/conda/lib/python3.10/site-packages (from ucimlrepo) (2024.7.4)\n",
      "Requirement already satisfied: numpy>=1.22.4 in /opt/conda/lib/python3.10/site-packages (from pandas>=1.0.0->ucimlrepo) (1.26.4)\n",
      "Requirement already satisfied: python-dateutil>=2.8.2 in /opt/conda/lib/python3.10/site-packages (from pandas>=1.0.0->ucimlrepo) (2.9.0.post0)\n",
      "Requirement already satisfied: pytz>=2020.1 in /opt/conda/lib/python3.10/site-packages (from pandas>=1.0.0->ucimlrepo) (2023.3.post1)\n",
      "Requirement already satisfied: tzdata>=2022.7 in /opt/conda/lib/python3.10/site-packages (from pandas>=1.0.0->ucimlrepo) (2023.4)\n",
      "Requirement already satisfied: six>=1.5 in /opt/conda/lib/python3.10/site-packages (from python-dateutil>=2.8.2->pandas>=1.0.0->ucimlrepo) (1.16.0)\n",
      "Downloading ucimlrepo-0.0.7-py3-none-any.whl (8.0 kB)\n",
      "Installing collected packages: ucimlrepo\n",
      "Successfully installed ucimlrepo-0.0.7\n",
      "\n",
      "---> Installation done\n",
      "\n",
      "\n",
      "LGBM = 4.5.0 | Catboost = 1.2.5\n",
      "\n",
      "CPU times: user 1.88 s, sys: 535 ms, total: 2.41 s\n",
      "Wall time: 44 s\n"
     ]
    }
   ],
   "source": [
    "%%time \n",
    "\n",
    "!cp /kaggle/usr/lib/playgrounds4e08_regularimports/playgrounds4e08_regularimports.py myimports.py\n",
    "from myimports import *\n"
   ]
  },
  {
   "cell_type": "markdown",
   "id": "71752436",
   "metadata": {
    "papermill": {
     "duration": 0.005846,
     "end_time": "2024-08-04T19:37:55.295233",
     "exception": false,
     "start_time": "2024-08-04T19:37:55.289387",
     "status": "completed"
    },
    "tags": []
   },
   "source": [
    "# **CONFIGURATION**"
   ]
  },
  {
   "cell_type": "code",
   "execution_count": 2,
   "id": "3db7e66e",
   "metadata": {
    "execution": {
     "iopub.execute_input": "2024-08-04T19:37:55.309926Z",
     "iopub.status.busy": "2024-08-04T19:37:55.308779Z",
     "iopub.status.idle": "2024-08-04T19:37:55.316706Z",
     "shell.execute_reply": "2024-08-04T19:37:55.315672Z"
    },
    "papermill": {
     "duration": 0.017735,
     "end_time": "2024-08-04T19:37:55.318997",
     "exception": false,
     "start_time": "2024-08-04T19:37:55.301262",
     "status": "completed"
    },
    "tags": []
   },
   "outputs": [
    {
     "name": "stdout",
     "output_type": "stream",
     "text": [
      "CPU times: user 6 µs, sys: 2 µs, total: 8 µs\n",
      "Wall time: 11.9 µs\n"
     ]
    }
   ],
   "source": [
    "%%time\n",
    "\n",
    "target      = \"class\"\n",
    "\n",
    "# Please set this to False to run it on the complete dataset\n",
    "test_req    = True\n",
    "\n",
    "model_label = \"LGBM\"\n",
    "episode     = 8\n",
    "version_nb  = 2\n",
    "model_group = 1\n",
    "device      = \"cpu\"\n",
    "\n",
    "op_path    = f\"/kaggle/working\"\n",
    "ip_path    = f\"/kaggle/input/playgrounds4e08-datastore-v1\"\n",
    "\n",
    "orig_req   = True\n",
    "nsamples   = 1.0\n",
    "\n",
    "n_splits     = 5\n",
    "state        = 42\n",
    "ftre_imp_req = True\n",
    "cutoff       = 0.50\n",
    "\n",
    "if test_req:\n",
    "    all_states  = [0, 5, 7,]\n",
    "\n",
    "else:\n",
    "    all_states  = [0, 5, 7, 12, 42, 100, 777, 1331, 2024, 500, 1000]\n",
    "    \n",
    "\n"
   ]
  },
  {
   "cell_type": "markdown",
   "id": "b571c839",
   "metadata": {
    "papermill": {
     "duration": 0.00608,
     "end_time": "2024-08-04T19:37:55.331765",
     "exception": false,
     "start_time": "2024-08-04T19:37:55.325685",
     "status": "completed"
    },
    "tags": []
   },
   "source": [
    "## **CONFIGURATION PARAMETERS**\n",
    "\n",
    "|Parameter|Explanation|Possible value options|\n",
    "|---------------------| -------------------------------| :-:|\n",
    "|target | Target column value | class|\n",
    "|test_req | Do we need a syntax  check here? | True/ False| \n",
    "|model_label | Model option used here | LGBM| \n",
    "|episode | Playground episode number | 8| \n",
    "|version_nb | Version number - used for experiment tracking | int value| \n",
    "|model_group | Version number - used for experiment tracking | int value| \n",
    "|device | Device label | cpu/ gpu| \n",
    "|op_path/ ip_path | I-O paths  | | \n",
    "|orig_req | Do I need extra original data | True/ False| \n",
    "|nsamples | Original data samples required <br> Integer > 1:- partial data required <br> 1.0 - entire original data required | 1| |\n",
    "|n_splits | Number of CV splits | int value| \n",
    "|state | Random state  | int value| \n",
    "|ftre_imp_req | Do I need feature importances | True/ False|\n",
    "|cutoff | Prediction cutoff for labelling as 1/0 | Float between 0-1| \n",
    "|all_states | all random states list | list of chosen values|"
   ]
  },
  {
   "cell_type": "markdown",
   "id": "69c78487",
   "metadata": {
    "papermill": {
     "duration": 0.005903,
     "end_time": "2024-08-04T19:37:55.343851",
     "exception": false,
     "start_time": "2024-08-04T19:37:55.337948",
     "status": "completed"
    },
    "tags": []
   },
   "source": [
    "# **PREPROCESSING**"
   ]
  },
  {
   "cell_type": "code",
   "execution_count": 3,
   "id": "f837b16c",
   "metadata": {
    "_kg_hide-input": true,
    "execution": {
     "iopub.execute_input": "2024-08-04T19:37:55.358039Z",
     "iopub.status.busy": "2024-08-04T19:37:55.357350Z",
     "iopub.status.idle": "2024-08-04T19:38:11.431556Z",
     "shell.execute_reply": "2024-08-04T19:38:11.430424Z"
    },
    "papermill": {
     "duration": 16.084118,
     "end_time": "2024-08-04T19:38:11.434103",
     "exception": false,
     "start_time": "2024-08-04T19:37:55.349985",
     "status": "completed"
    },
    "tags": []
   },
   "outputs": [
    {
     "name": "stdout",
     "output_type": "stream",
     "text": [
      "\u001b[1m\u001b[34m---> Shapes = (4201981, 22) | (2077964, 21)\u001b[0m\n",
      "\u001b[1m\u001b[34m\n",
      "---> We need the original data for model training\u001b[0m\n",
      "\u001b[1m\u001b[34m---> Full original data is used\u001b[0m\n",
      "\u001b[1m\u001b[34m---> Shapes = (4000, 22) | (100, 21)\u001b[0m\n",
      "\u001b[1m\u001b[34m---> Shapes = (4000, 21) | (4000,) | (100, 21)\u001b[0m\n",
      "\n",
      "CPU times: user 15.7 s, sys: 3.02 s, total: 18.8 s\n",
      "Wall time: 16.1 s\n"
     ]
    }
   ],
   "source": [
    "%%time\n",
    "\n",
    "X      = pd.read_parquet(os.path.join(ip_path, \"train.parquet\"))\n",
    "test   = pd.read_parquet(os.path.join(ip_path, \"test.parquet\"))\n",
    "sub_fl = pd.read_parquet(os.path.join(ip_path, \"sample_submission.parquet\"))\n",
    "\n",
    "cat_cols = \\\n",
    "['capshape', 'capsurface', 'capcolor', 'doesbruiseorbleed',\n",
    " 'gillattachment', 'gillspacing', 'gillcolor', 'stemroot', 'stemsurface',\n",
    " 'stemcolor', 'veiltype', 'veilcolor', 'hasring', 'ringtype',\n",
    " 'sporeprintcolor', 'habitat', 'season'\n",
    " ]\n",
    "\n",
    "X[cat_cols]     = X[cat_cols].astype(\"category\")\n",
    "test[cat_cols]  = test[cat_cols].astype(\"category\")\n",
    "\n",
    "PrintColor(f\"---> Shapes = {X.shape} | {test.shape}\")\n",
    "\n",
    "if orig_req:\n",
    "    PrintColor(f\"\\n---> We need the original data for model training\")\n",
    "\n",
    "    if nsamples > 1:\n",
    "        PrintColor(f\"---> Partial original data is used = {nsamples * 2:,.0f} sample\",\n",
    "                   color = Fore.CYAN\n",
    "                  )\n",
    "\n",
    "        original = X.loc[X.Source == 'Original'].groupby(target).sample(n = nsamples)\n",
    "        X = X.loc[X.Source == 'Competition']\n",
    "        X = pd.concat([X, original], axis=0, ignore_index = True)\n",
    "        X.index = range(len(X))\n",
    "        del original\n",
    "\n",
    "    elif nsamples == 1.0:\n",
    "        PrintColor(f\"---> Full original data is used\")\n",
    "else:\n",
    "    X = X.loc[X.Source == 'Competition']\n",
    "    PrintColor(f\"---> Shapes = {X.shape} | {test.shape} | without original data\",\n",
    "               color = Fore.RED\n",
    "              )\n",
    "\n",
    "# Sampling for testing purposes\n",
    "if test_req:\n",
    "    X       = X.groupby([target, \"Source\"]).head(1000)\n",
    "    X.index = range(len(X))\n",
    "    test    = test.iloc[0:100]\n",
    "    sub_fl  = sub_fl.iloc[0:100]\n",
    "\n",
    "    PrintColor(f\"---> Shapes = {X.shape} | {test.shape}\")\n",
    "else:\n",
    "    PrintColor(f\"---> Syntax check is not needed\", color = Fore.RED)\n",
    "\n",
    "y = X[target]\n",
    "X = X.drop(target, axis=1)\n",
    "\n",
    "PrintColor(f\"---> Shapes = {X.shape} | {y.shape} | {test.shape}\")\n",
    "\n",
    "print();\n",
    "collect();"
   ]
  },
  {
   "cell_type": "markdown",
   "id": "215150c9",
   "metadata": {
    "papermill": {
     "duration": 0.006239,
     "end_time": "2024-08-04T19:38:11.446878",
     "exception": false,
     "start_time": "2024-08-04T19:38:11.440639",
     "status": "completed"
    },
    "tags": []
   },
   "source": [
    "# **MODEL TRAINING**"
   ]
  },
  {
   "cell_type": "code",
   "execution_count": 4,
   "id": "6b5aaded",
   "metadata": {
    "_kg_hide-input": true,
    "execution": {
     "iopub.execute_input": "2024-08-04T19:38:11.461558Z",
     "iopub.status.busy": "2024-08-04T19:38:11.460766Z",
     "iopub.status.idle": "2024-08-04T19:38:25.500257Z",
     "shell.execute_reply": "2024-08-04T19:38:25.499299Z"
    },
    "papermill": {
     "duration": 14.049017,
     "end_time": "2024-08-04T19:38:25.502123",
     "exception": false,
     "start_time": "2024-08-04T19:38:11.453106",
     "status": "completed"
    },
    "tags": []
   },
   "outputs": [
    {
     "name": "stdout",
     "output_type": "stream",
     "text": [
      "\u001b[1m\u001b[34m\n",
      "-------- LGBM MODEL TRAINING --------\n",
      "\u001b[0m\n"
     ]
    },
    {
     "data": {
      "application/vnd.jupyter.widget-view+json": {
       "model_id": "c8b2f3e7fcf54f41913268a78762afa9",
       "version_major": 2,
       "version_minor": 0
      },
      "text/plain": [
       "  0%|          | 0/3 [00:00<?, ?it/s]"
      ]
     },
     "metadata": {},
     "output_type": "display_data"
    },
    {
     "name": "stdout",
     "output_type": "stream",
     "text": [
      "---> Model fitted  - state = 0\n",
      "---> Model trained - state = 0\n",
      "---> Model fitted  - state = 5\n",
      "---> Model trained - state = 5\n",
      "---> Model fitted  - state = 7\n",
      "---> Model trained - state = 7\n",
      "\n",
      "\n",
      "\n",
      "\n"
     ]
    },
    {
     "data": {
      "text/html": [
       "<style type=\"text/css\">\n",
       "#T_f6d64_row0_col0 {\n",
       "  background-color: #c0eff7;\n",
       "  text-align: center;\n",
       "  border: dashed 1px maroon;\n",
       "}\n",
       "#T_f6d64_row0_col1, #T_f6d64_row1_col0, #T_f6d64_row1_col1, #T_f6d64_row2_col0 {\n",
       "  text-align: center;\n",
       "  border: dashed 1px maroon;\n",
       "}\n",
       "#T_f6d64_row0_col2, #T_f6d64_row1_col2, #T_f6d64_row2_col1, #T_f6d64_row2_col2 {\n",
       "  background-color: #f9d1b4;\n",
       "  text-align: center;\n",
       "  border: dashed 1px maroon;\n",
       "}\n",
       "</style>\n",
       "<table id=\"T_f6d64\">\n",
       "  <caption>\n",
       "OOF scores across seeds\n",
       "</caption>\n",
       "  <thead>\n",
       "    <tr>\n",
       "      <th class=\"blank level0\" >&nbsp;</th>\n",
       "      <th id=\"T_f6d64_level0_col0\" class=\"col_heading level0 col0\" >LogLoss</th>\n",
       "      <th id=\"T_f6d64_level0_col1\" class=\"col_heading level0 col1\" >AUC</th>\n",
       "      <th id=\"T_f6d64_level0_col2\" class=\"col_heading level0 col2\" >MCC</th>\n",
       "    </tr>\n",
       "  </thead>\n",
       "  <tbody>\n",
       "    <tr>\n",
       "      <th id=\"T_f6d64_level0_row0\" class=\"row_heading level0 row0\" >0</th>\n",
       "      <td id=\"T_f6d64_row0_col0\" class=\"data row0 col0\" >0.036007</td>\n",
       "      <td id=\"T_f6d64_row0_col1\" class=\"data row0 col1\" >0.999923</td>\n",
       "      <td id=\"T_f6d64_row0_col2\" class=\"data row0 col2\" >0.993012</td>\n",
       "    </tr>\n",
       "    <tr>\n",
       "      <th id=\"T_f6d64_level0_row1\" class=\"row_heading level0 row1\" >5</th>\n",
       "      <td id=\"T_f6d64_row1_col0\" class=\"data row1 col0\" >0.036044</td>\n",
       "      <td id=\"T_f6d64_row1_col1\" class=\"data row1 col1\" >0.999932</td>\n",
       "      <td id=\"T_f6d64_row1_col2\" class=\"data row1 col2\" >0.993012</td>\n",
       "    </tr>\n",
       "    <tr>\n",
       "      <th id=\"T_f6d64_level0_row2\" class=\"row_heading level0 row2\" >7</th>\n",
       "      <td id=\"T_f6d64_row2_col0\" class=\"data row2 col0\" >0.036548</td>\n",
       "      <td id=\"T_f6d64_row2_col1\" class=\"data row2 col1\" >0.999933</td>\n",
       "      <td id=\"T_f6d64_row2_col2\" class=\"data row2 col2\" >0.993012</td>\n",
       "    </tr>\n",
       "  </tbody>\n",
       "</table>\n"
      ],
      "text/plain": [
       "<pandas.io.formats.style.Styler at 0x78ff69c07b50>"
      ]
     },
     "metadata": {},
     "output_type": "display_data"
    },
    {
     "name": "stdout",
     "output_type": "stream",
     "text": [
      "\n",
      "\n",
      "\n"
     ]
    },
    {
     "data": {
      "text/html": [
       "<style type=\"text/css\">\n",
       "#T_27b04_row0_col0 {\n",
       "  text-align: center;\n",
       "  background-color: #faebdd;\n",
       "  color: #000000;\n",
       "}\n",
       "#T_27b04_row0_col1 {\n",
       "  text-align: center;\n",
       "  background-color: #fae6d6;\n",
       "  color: #000000;\n",
       "}\n",
       "#T_27b04_row0_col2 {\n",
       "  text-align: center;\n",
       "  background-color: #f7d0b5;\n",
       "  color: #000000;\n",
       "}\n",
       "#T_27b04_row0_col3 {\n",
       "  text-align: center;\n",
       "  background-color: #631f53;\n",
       "  color: #f1f1f1;\n",
       "}\n",
       "#T_27b04_row0_col4 {\n",
       "  text-align: center;\n",
       "  background-color: #601f52;\n",
       "  color: #f1f1f1;\n",
       "}\n",
       "#T_27b04_row0_col5 {\n",
       "  text-align: center;\n",
       "  background-color: #541e4e;\n",
       "  color: #f1f1f1;\n",
       "}\n",
       "#T_27b04_row0_col6 {\n",
       "  text-align: center;\n",
       "  background-color: #37193f;\n",
       "  color: #f1f1f1;\n",
       "}\n",
       "#T_27b04_row0_col7 {\n",
       "  text-align: center;\n",
       "  background-color: #2e1739;\n",
       "  color: #f1f1f1;\n",
       "}\n",
       "#T_27b04_row0_col8 {\n",
       "  text-align: center;\n",
       "  background-color: #2b1637;\n",
       "  color: #f1f1f1;\n",
       "}\n",
       "#T_27b04_row0_col9, #T_27b04_row0_col10 {\n",
       "  text-align: center;\n",
       "  background-color: #221331;\n",
       "  color: #f1f1f1;\n",
       "}\n",
       "#T_27b04_row0_col11 {\n",
       "  text-align: center;\n",
       "  background-color: #1a102a;\n",
       "  color: #f1f1f1;\n",
       "}\n",
       "#T_27b04_row0_col12 {\n",
       "  text-align: center;\n",
       "  background-color: #180f29;\n",
       "  color: #f1f1f1;\n",
       "}\n",
       "#T_27b04_row0_col13 {\n",
       "  text-align: center;\n",
       "  background-color: #140e26;\n",
       "  color: #f1f1f1;\n",
       "}\n",
       "#T_27b04_row0_col14 {\n",
       "  text-align: center;\n",
       "  background-color: #0e0b22;\n",
       "  color: #f1f1f1;\n",
       "}\n",
       "#T_27b04_row0_col15 {\n",
       "  text-align: center;\n",
       "  background-color: #0a091f;\n",
       "  color: #f1f1f1;\n",
       "}\n",
       "#T_27b04_row0_col16, #T_27b04_row0_col17 {\n",
       "  text-align: center;\n",
       "  background-color: #08081e;\n",
       "  color: #f1f1f1;\n",
       "}\n",
       "#T_27b04_row0_col18 {\n",
       "  text-align: center;\n",
       "  background-color: #05061b;\n",
       "  color: #f1f1f1;\n",
       "}\n",
       "#T_27b04_row0_col19 {\n",
       "  text-align: center;\n",
       "  background-color: #03051a;\n",
       "  color: #f1f1f1;\n",
       "}\n",
       "</style>\n",
       "<table id=\"T_27b04\">\n",
       "  <caption>Feature Importances</caption>\n",
       "  <thead>\n",
       "    <tr>\n",
       "      <th class=\"blank level0\" >&nbsp;</th>\n",
       "      <th id=\"T_27b04_level0_col0\" class=\"col_heading level0 col0\" >stemwidth</th>\n",
       "      <th id=\"T_27b04_level0_col1\" class=\"col_heading level0 col1\" >stemheight</th>\n",
       "      <th id=\"T_27b04_level0_col2\" class=\"col_heading level0 col2\" >capdiameter</th>\n",
       "      <th id=\"T_27b04_level0_col3\" class=\"col_heading level0 col3\" >capsurface</th>\n",
       "      <th id=\"T_27b04_level0_col4\" class=\"col_heading level0 col4\" >gillattachment</th>\n",
       "      <th id=\"T_27b04_level0_col5\" class=\"col_heading level0 col5\" >gillcolor</th>\n",
       "      <th id=\"T_27b04_level0_col6\" class=\"col_heading level0 col6\" >capcolor</th>\n",
       "      <th id=\"T_27b04_level0_col7\" class=\"col_heading level0 col7\" >stemcolor</th>\n",
       "      <th id=\"T_27b04_level0_col8\" class=\"col_heading level0 col8\" >stemsurface</th>\n",
       "      <th id=\"T_27b04_level0_col9\" class=\"col_heading level0 col9\" >ringtype</th>\n",
       "      <th id=\"T_27b04_level0_col10\" class=\"col_heading level0 col10\" >capshape</th>\n",
       "      <th id=\"T_27b04_level0_col11\" class=\"col_heading level0 col11\" >gillspacing</th>\n",
       "      <th id=\"T_27b04_level0_col12\" class=\"col_heading level0 col12\" >stemroot</th>\n",
       "      <th id=\"T_27b04_level0_col13\" class=\"col_heading level0 col13\" >habitat</th>\n",
       "      <th id=\"T_27b04_level0_col14\" class=\"col_heading level0 col14\" >hasring</th>\n",
       "      <th id=\"T_27b04_level0_col15\" class=\"col_heading level0 col15\" >season</th>\n",
       "      <th id=\"T_27b04_level0_col16\" class=\"col_heading level0 col16\" >doesbruiseorbleed</th>\n",
       "      <th id=\"T_27b04_level0_col17\" class=\"col_heading level0 col17\" >veiltype</th>\n",
       "      <th id=\"T_27b04_level0_col18\" class=\"col_heading level0 col18\" >veilcolor</th>\n",
       "      <th id=\"T_27b04_level0_col19\" class=\"col_heading level0 col19\" >sporeprintcolor</th>\n",
       "    </tr>\n",
       "  </thead>\n",
       "  <tbody>\n",
       "    <tr>\n",
       "      <th id=\"T_27b04_level0_row0\" class=\"row_heading level0 row0\" >FtreImp</th>\n",
       "      <td id=\"T_27b04_row0_col0\" class=\"data row0 col0\" >11,706.67</td>\n",
       "      <td id=\"T_27b04_row0_col1\" class=\"data row0 col1\" >11,546.00</td>\n",
       "      <td id=\"T_27b04_row0_col2\" class=\"data row0 col2\" >10,841.67</td>\n",
       "      <td id=\"T_27b04_row0_col3\" class=\"data row0 col3\" >3,005.33</td>\n",
       "      <td id=\"T_27b04_row0_col4\" class=\"data row0 col4\" >2,883.00</td>\n",
       "      <td id=\"T_27b04_row0_col5\" class=\"data row0 col5\" >2,572.00</td>\n",
       "      <td id=\"T_27b04_row0_col6\" class=\"data row0 col6\" >1,731.33</td>\n",
       "      <td id=\"T_27b04_row0_col7\" class=\"data row0 col7\" >1,446.67</td>\n",
       "      <td id=\"T_27b04_row0_col8\" class=\"data row0 col8\" >1,365.33</td>\n",
       "      <td id=\"T_27b04_row0_col9\" class=\"data row0 col9\" >1,098.67</td>\n",
       "      <td id=\"T_27b04_row0_col10\" class=\"data row0 col10\" >1,074.67</td>\n",
       "      <td id=\"T_27b04_row0_col11\" class=\"data row0 col11\" >789.67</td>\n",
       "      <td id=\"T_27b04_row0_col12\" class=\"data row0 col12\" >757.00</td>\n",
       "      <td id=\"T_27b04_row0_col13\" class=\"data row0 col13\" >617.67</td>\n",
       "      <td id=\"T_27b04_row0_col14\" class=\"data row0 col14\" >423.00</td>\n",
       "      <td id=\"T_27b04_row0_col15\" class=\"data row0 col15\" >284.67</td>\n",
       "      <td id=\"T_27b04_row0_col16\" class=\"data row0 col16\" >236.33</td>\n",
       "      <td id=\"T_27b04_row0_col17\" class=\"data row0 col17\" >233.33</td>\n",
       "      <td id=\"T_27b04_row0_col18\" class=\"data row0 col18\" >105.00</td>\n",
       "      <td id=\"T_27b04_row0_col19\" class=\"data row0 col19\" >1.33</td>\n",
       "    </tr>\n",
       "  </tbody>\n",
       "</table>\n"
      ],
      "text/plain": [
       "<pandas.io.formats.style.Styler at 0x78fef3ccf970>"
      ]
     },
     "metadata": {},
     "output_type": "display_data"
    },
    {
     "name": "stdout",
     "output_type": "stream",
     "text": [
      "\n",
      "CPU times: user 13.1 s, sys: 2.4 s, total: 15.5 s\n",
      "Wall time: 14 s\n"
     ]
    },
    {
     "data": {
      "text/plain": [
       "67"
      ]
     },
     "execution_count": 4,
     "metadata": {},
     "output_type": "execute_result"
    }
   ],
   "source": [
    "%%time\n",
    "\n",
    "drop_cols  = [\"Source\", \"id\", target]\n",
    "ftre_imp   = 0\n",
    "sel_cols   = X.drop(columns = drop_cols, errors = \"ignore\").columns\n",
    "test_preds = 0\n",
    "OOF_Preds  = 0\n",
    "scores     = pd.DataFrame(columns = [\"LogLoss\", \"AUC\", \"MCC\"],\n",
    "                          index = all_states,\n",
    "                          dtype = np.float32\n",
    "                          )\n",
    "len_train  = len(X.loc[X.Source == \"Competition\"])\n",
    "\n",
    "PrintColor(f\"\\n-------- {model_label} MODEL TRAINING --------\\n\")\n",
    "for state in tqdm(all_states):\n",
    "    model = LGBMC(objective     = \"binary\",\n",
    "                  device        = device,\n",
    "                  n_estimators  = 2000,\n",
    "                  max_depth     = 9,\n",
    "                  learning_rate = 0.055,\n",
    "                  max_bin       = 1024,\n",
    "                  colsample_bytree = 0.65,\n",
    "                  reg_lambda    = 80,\n",
    "                  verbosity     = -1,\n",
    "                  random_state  = state,\n",
    "                  )\n",
    "\n",
    "    model.fit(X[sel_cols], y, callbacks = [log_evaluation(0)])\n",
    "    print(f\"---> Model fitted  - state = {state}\")\n",
    "\n",
    "    if ftre_imp_req:\n",
    "        ftre_imp  = ftre_imp + (model.feature_importances_ / len(all_states))\n",
    "\n",
    "    test_preds = test_preds + (model.predict_proba(test[sel_cols])[:,1] / len(all_states))\n",
    "    oof_preds  = model.predict_proba(X.iloc[0: len_train][sel_cols])[:,1]\n",
    "    OOF_Preds  = OOF_Preds + (oof_preds / len(all_states))\n",
    "\n",
    "    scores.loc[state] = \\\n",
    "    (log_loss(y.values[0: len_train], oof_preds[0: len_train]),\n",
    "     roc_auc_score(y.values[0: len_train], oof_preds[0: len_train]),\n",
    "     matthews_corrcoef(y.values[0: len_train], np.where(oof_preds[0: len_train] > cutoff, 1, 0))\n",
    "     )\n",
    "\n",
    "    del model, oof_preds\n",
    "    collect();\n",
    "    print(f\"---> Model trained - state = {state}\")\n",
    "\n",
    "print(\"\\n\\n\\n\")\n",
    "display(scores.\\\n",
    "        style.\\\n",
    "        set_caption(\"\\nOOF scores across seeds\\n\").\\\n",
    "        format(precision = 6).\\\n",
    "        highlight_min(subset = [\"LogLoss\"], axis=0, color = \"#c0eff7\").\\\n",
    "        highlight_max(subset = [\"MCC\", \"AUC\"], axis = 0, color = \"#f9d1b4\").\\\n",
    "        set_properties(**{\"text-align\": \"center\",\n",
    "                          \"border\" : \"dashed 1px maroon\",\n",
    "                          }\n",
    "                       )\n",
    "        )\n",
    "\n",
    "if ftre_imp_req:\n",
    "    print(\"\\n\\n\")\n",
    "    display(pd.DataFrame(ftre_imp, index = sel_cols, columns = [\"FtreImp\"]).\\\n",
    "            sort_values([\"FtreImp\"], ascending = False).\\\n",
    "            transpose().\\\n",
    "            style.format(formatter = \"{:,.2f}\").\\\n",
    "            set_caption(f\"Feature Importances\").\\\n",
    "            set_properties(**{\"text-align\": \"center\"}).\\\n",
    "            background_gradient(subset = sel_cols,\n",
    "                                cmap = \"rocket\",\n",
    "                                axis=1\n",
    "                               )\n",
    "            )\n",
    "\n",
    "print()\n",
    "collect()"
   ]
  },
  {
   "cell_type": "markdown",
   "id": "c0229092",
   "metadata": {
    "papermill": {
     "duration": 0.007298,
     "end_time": "2024-08-04T19:38:25.517244",
     "exception": false,
     "start_time": "2024-08-04T19:38:25.509946",
     "status": "completed"
    },
    "tags": []
   },
   "source": [
    "# **SUBMISSION AND CLOSURE**"
   ]
  },
  {
   "cell_type": "code",
   "execution_count": 5,
   "id": "f43229c2",
   "metadata": {
    "_kg_hide-input": true,
    "execution": {
     "iopub.execute_input": "2024-08-04T19:38:25.534090Z",
     "iopub.status.busy": "2024-08-04T19:38:25.533315Z",
     "iopub.status.idle": "2024-08-04T19:38:25.540405Z",
     "shell.execute_reply": "2024-08-04T19:38:25.539430Z"
    },
    "papermill": {
     "duration": 0.017605,
     "end_time": "2024-08-04T19:38:25.542326",
     "exception": false,
     "start_time": "2024-08-04T19:38:25.524721",
     "status": "completed"
    },
    "tags": []
   },
   "outputs": [
    {
     "name": "stdout",
     "output_type": "stream",
     "text": [
      "CPU times: user 8 µs, sys: 0 ns, total: 8 µs\n",
      "Wall time: 12.4 µs\n"
     ]
    }
   ],
   "source": [
    "%%time\n",
    "\n",
    "def PostProcessPreds(sub_fl: pd.DataFrame, target: str = target):\n",
    "    \"This function post-processes the predictions using saved predictions and targets\"\n",
    "\n",
    "    try:\n",
    "        sub_fl = sub_fl.set_index(\"id\")\n",
    "    except:\n",
    "        print(f\"---> Submission file index is intact\")\n",
    "\n",
    "    sub_fl.loc[3640058, target] = \"e\"\n",
    "    sub_fl.loc[sub_fl.index.isin([3600675, 4057201, 4729429, 4929268, 4985595]), target] = \"p\"\n",
    "    return sub_fl;"
   ]
  },
  {
   "cell_type": "code",
   "execution_count": 6,
   "id": "8051f1c5",
   "metadata": {
    "execution": {
     "iopub.execute_input": "2024-08-04T19:38:25.559034Z",
     "iopub.status.busy": "2024-08-04T19:38:25.558583Z",
     "iopub.status.idle": "2024-08-04T19:38:27.335043Z",
     "shell.execute_reply": "2024-08-04T19:38:27.333833Z"
    },
    "papermill": {
     "duration": 1.787102,
     "end_time": "2024-08-04T19:38:27.337058",
     "exception": false,
     "start_time": "2024-08-04T19:38:25.549956",
     "status": "completed"
    },
    "tags": []
   },
   "outputs": [
    {
     "name": "stdout",
     "output_type": "stream",
     "text": [
      "\n",
      "\n",
      "\n",
      "\u001b[1m\u001b[34m---> Loading the submission file from my imported dataset\u001b[0m\n",
      "\n"
     ]
    },
    {
     "data": {
      "text/html": [
       "<style type=\"text/css\">\n",
       "</style>\n",
       "<table id=\"T_f68e4\">\n",
       "  <caption>Submission file</caption>\n",
       "  <thead>\n",
       "    <tr>\n",
       "      <th class=\"blank level0\" >&nbsp;</th>\n",
       "      <th id=\"T_f68e4_level0_col0\" class=\"col_heading level0 col0\" >class</th>\n",
       "    </tr>\n",
       "    <tr>\n",
       "      <th class=\"index_name level0\" >id</th>\n",
       "      <th class=\"blank col0\" >&nbsp;</th>\n",
       "    </tr>\n",
       "  </thead>\n",
       "  <tbody>\n",
       "    <tr>\n",
       "      <th id=\"T_f68e4_level0_row0\" class=\"row_heading level0 row0\" >3116945</th>\n",
       "      <td id=\"T_f68e4_row0_col0\" class=\"data row0 col0\" >e</td>\n",
       "    </tr>\n",
       "    <tr>\n",
       "      <th id=\"T_f68e4_level0_row1\" class=\"row_heading level0 row1\" >3116946</th>\n",
       "      <td id=\"T_f68e4_row1_col0\" class=\"data row1 col0\" >p</td>\n",
       "    </tr>\n",
       "    <tr>\n",
       "      <th id=\"T_f68e4_level0_row2\" class=\"row_heading level0 row2\" >3116947</th>\n",
       "      <td id=\"T_f68e4_row2_col0\" class=\"data row2 col0\" >p</td>\n",
       "    </tr>\n",
       "    <tr>\n",
       "      <th id=\"T_f68e4_level0_row3\" class=\"row_heading level0 row3\" >3116948</th>\n",
       "      <td id=\"T_f68e4_row3_col0\" class=\"data row3 col0\" >p</td>\n",
       "    </tr>\n",
       "    <tr>\n",
       "      <th id=\"T_f68e4_level0_row4\" class=\"row_heading level0 row4\" >3116949</th>\n",
       "      <td id=\"T_f68e4_row4_col0\" class=\"data row4 col0\" >e</td>\n",
       "    </tr>\n",
       "    <tr>\n",
       "      <th id=\"T_f68e4_level0_row5\" class=\"row_heading level0 row5\" >3116950</th>\n",
       "      <td id=\"T_f68e4_row5_col0\" class=\"data row5 col0\" >e</td>\n",
       "    </tr>\n",
       "    <tr>\n",
       "      <th id=\"T_f68e4_level0_row6\" class=\"row_heading level0 row6\" >3116951</th>\n",
       "      <td id=\"T_f68e4_row6_col0\" class=\"data row6 col0\" >e</td>\n",
       "    </tr>\n",
       "    <tr>\n",
       "      <th id=\"T_f68e4_level0_row7\" class=\"row_heading level0 row7\" >3116952</th>\n",
       "      <td id=\"T_f68e4_row7_col0\" class=\"data row7 col0\" >p</td>\n",
       "    </tr>\n",
       "    <tr>\n",
       "      <th id=\"T_f68e4_level0_row8\" class=\"row_heading level0 row8\" >3116953</th>\n",
       "      <td id=\"T_f68e4_row8_col0\" class=\"data row8 col0\" >p</td>\n",
       "    </tr>\n",
       "    <tr>\n",
       "      <th id=\"T_f68e4_level0_row9\" class=\"row_heading level0 row9\" >3116954</th>\n",
       "      <td id=\"T_f68e4_row9_col0\" class=\"data row9 col0\" >e</td>\n",
       "    </tr>\n",
       "  </tbody>\n",
       "</table>\n"
      ],
      "text/plain": [
       "<pandas.io.formats.style.Styler at 0x78ff1eeff460>"
      ]
     },
     "metadata": {},
     "output_type": "display_data"
    },
    {
     "name": "stdout",
     "output_type": "stream",
     "text": [
      "\n",
      "CPU times: user 1.78 s, sys: 72.5 ms, total: 1.85 s\n",
      "Wall time: 1.77 s\n"
     ]
    }
   ],
   "source": [
    "%%time\n",
    "\n",
    "print(\"\\n\\n\")\n",
    "\n",
    "if test_req == False:\n",
    "    PrintColor(f\"---> Creating the post-processed submission file\\n\")\n",
    "    \n",
    "    sub_fl[target] = np.where(test_preds >= cutoff, \"p\", \"e\")\n",
    "    sub_fl = PostProcessPreds(sub_fl)\n",
    "\n",
    "    test_preds = \\\n",
    "    pd.DataFrame(test_preds,index = range(len(test)),\n",
    "                 columns = [f\"{model_label}V{version_nb}_{model_group}\"],\n",
    "                 dtype = np.float32,\n",
    "                )\n",
    "\n",
    "    print(\"\\n\\n\")\n",
    "    display(test_preds.head(10).style.set_caption(f\"Submission file predictions\"))\n",
    "    print(\"\\n\\n\")\n",
    "    display(sub_fl.head(10).style.set_caption(f\"Submission file labels\"))\n",
    "    print(\"\\n\\n\")\n",
    "\n",
    "    OOF_Preds = pd.DataFrame(OOF_Preds,\n",
    "                             index = range(len(OOF_Preds)),\n",
    "                             columns = [f'{model_label}V{version_nb}_{model_group}'],\n",
    "                             dtype = np.float32,\n",
    "                             )\n",
    "\n",
    "    OOF_Preds.index.name = \"id\"\n",
    "    OOF_Preds.sort_index().reset_index().\\\n",
    "    to_parquet(os.path.join(op_path, f'OOF_Preds_{model_label}V{version_nb}_{model_group}.parquet'))\n",
    "\n",
    "    test_preds.\\\n",
    "    to_parquet(os.path.join(op_path, f'Mdl_Preds_{model_label}V{version_nb}_{model_group}.parquet'))\n",
    "\n",
    "    sub_fl.\\\n",
    "    reset_index().\\\n",
    "    rename(columns = {\"index\": \"id\"}).\\\n",
    "    to_parquet(os.path.join(op_path, f'Submission_{model_label}V{version_nb}_{model_group}.parquet'))\n",
    "\n",
    "else:\n",
    "    PrintColor(f\"---> Loading the submission file from my imported dataset\")\n",
    "    sub_fl = pd.read_parquet(f\"/kaggle/input/playgrounds4e08baselinesubmission/Submission_LGBMV2_1.parquet\")\n",
    "    \n",
    "    try:\n",
    "        sub_fl = sub_fl.set_index(\"id\")\n",
    "    except:\n",
    "        pass\n",
    "    \n",
    "    sub_fl.to_csv(\"submission.csv\")\n",
    "    \n",
    "    print()\n",
    "    display(sub_fl.head(10).style.set_caption(f\"Submission file\"))\n",
    "    \n",
    "print()\n",
    "collect();"
   ]
  }
 ],
 "metadata": {
  "kaggle": {
   "accelerator": "none",
   "dataSources": [
    {
     "databundleVersionId": 9045607,
     "sourceId": 76727,
     "sourceType": "competition"
    },
    {
     "datasetId": 5495162,
     "sourceId": 9104896,
     "sourceType": "datasetVersion"
    },
    {
     "sourceId": 191018477,
     "sourceType": "kernelVersion"
    },
    {
     "sourceId": 191020336,
     "sourceType": "kernelVersion"
    }
   ],
   "dockerImageVersionId": 30746,
   "isGpuEnabled": false,
   "isInternetEnabled": true,
   "language": "python",
   "sourceType": "notebook"
  },
  "kernelspec": {
   "display_name": "Python 3",
   "language": "python",
   "name": "python3"
  },
  "language_info": {
   "codemirror_mode": {
    "name": "ipython",
    "version": 3
   },
   "file_extension": ".py",
   "mimetype": "text/x-python",
   "name": "python",
   "nbconvert_exporter": "python",
   "pygments_lexer": "ipython3",
   "version": "3.10.13"
  },
  "papermill": {
   "default_parameters": {},
   "duration": 79.327051,
   "end_time": "2024-08-04T19:38:28.067064",
   "environment_variables": {},
   "exception": null,
   "input_path": "__notebook__.ipynb",
   "output_path": "__notebook__.ipynb",
   "parameters": {},
   "start_time": "2024-08-04T19:37:08.740013",
   "version": "2.5.0"
  },
  "widgets": {
   "application/vnd.jupyter.widget-state+json": {
    "state": {
     "032612d19a2344d6a1fe91163eaba8c6": {
      "model_module": "@jupyter-widgets/base",
      "model_module_version": "1.2.0",
      "model_name": "LayoutModel",
      "state": {
       "_model_module": "@jupyter-widgets/base",
       "_model_module_version": "1.2.0",
       "_model_name": "LayoutModel",
       "_view_count": null,
       "_view_module": "@jupyter-widgets/base",
       "_view_module_version": "1.2.0",
       "_view_name": "LayoutView",
       "align_content": null,
       "align_items": null,
       "align_self": null,
       "border": null,
       "bottom": null,
       "display": null,
       "flex": null,
       "flex_flow": null,
       "grid_area": null,
       "grid_auto_columns": null,
       "grid_auto_flow": null,
       "grid_auto_rows": null,
       "grid_column": null,
       "grid_gap": null,
       "grid_row": null,
       "grid_template_areas": null,
       "grid_template_columns": null,
       "grid_template_rows": null,
       "height": null,
       "justify_content": null,
       "justify_items": null,
       "left": null,
       "margin": null,
       "max_height": null,
       "max_width": null,
       "min_height": null,
       "min_width": null,
       "object_fit": null,
       "object_position": null,
       "order": null,
       "overflow": null,
       "overflow_x": null,
       "overflow_y": null,
       "padding": null,
       "right": null,
       "top": null,
       "visibility": null,
       "width": null
      }
     },
     "0be04ccba0a04c01ac87c88bf0380203": {
      "model_module": "@jupyter-widgets/base",
      "model_module_version": "1.2.0",
      "model_name": "LayoutModel",
      "state": {
       "_model_module": "@jupyter-widgets/base",
       "_model_module_version": "1.2.0",
       "_model_name": "LayoutModel",
       "_view_count": null,
       "_view_module": "@jupyter-widgets/base",
       "_view_module_version": "1.2.0",
       "_view_name": "LayoutView",
       "align_content": null,
       "align_items": null,
       "align_self": null,
       "border": null,
       "bottom": null,
       "display": null,
       "flex": null,
       "flex_flow": null,
       "grid_area": null,
       "grid_auto_columns": null,
       "grid_auto_flow": null,
       "grid_auto_rows": null,
       "grid_column": null,
       "grid_gap": null,
       "grid_row": null,
       "grid_template_areas": null,
       "grid_template_columns": null,
       "grid_template_rows": null,
       "height": null,
       "justify_content": null,
       "justify_items": null,
       "left": null,
       "margin": null,
       "max_height": null,
       "max_width": null,
       "min_height": null,
       "min_width": null,
       "object_fit": null,
       "object_position": null,
       "order": null,
       "overflow": null,
       "overflow_x": null,
       "overflow_y": null,
       "padding": null,
       "right": null,
       "top": null,
       "visibility": null,
       "width": null
      }
     },
     "20136e73f8844d56aa6e2aba122bc7aa": {
      "model_module": "@jupyter-widgets/controls",
      "model_module_version": "1.5.0",
      "model_name": "DescriptionStyleModel",
      "state": {
       "_model_module": "@jupyter-widgets/controls",
       "_model_module_version": "1.5.0",
       "_model_name": "DescriptionStyleModel",
       "_view_count": null,
       "_view_module": "@jupyter-widgets/base",
       "_view_module_version": "1.2.0",
       "_view_name": "StyleView",
       "description_width": ""
      }
     },
     "34efcf4ae8684868b5ce77a6f86ae1a3": {
      "model_module": "@jupyter-widgets/base",
      "model_module_version": "1.2.0",
      "model_name": "LayoutModel",
      "state": {
       "_model_module": "@jupyter-widgets/base",
       "_model_module_version": "1.2.0",
       "_model_name": "LayoutModel",
       "_view_count": null,
       "_view_module": "@jupyter-widgets/base",
       "_view_module_version": "1.2.0",
       "_view_name": "LayoutView",
       "align_content": null,
       "align_items": null,
       "align_self": null,
       "border": null,
       "bottom": null,
       "display": null,
       "flex": null,
       "flex_flow": null,
       "grid_area": null,
       "grid_auto_columns": null,
       "grid_auto_flow": null,
       "grid_auto_rows": null,
       "grid_column": null,
       "grid_gap": null,
       "grid_row": null,
       "grid_template_areas": null,
       "grid_template_columns": null,
       "grid_template_rows": null,
       "height": null,
       "justify_content": null,
       "justify_items": null,
       "left": null,
       "margin": null,
       "max_height": null,
       "max_width": null,
       "min_height": null,
       "min_width": null,
       "object_fit": null,
       "object_position": null,
       "order": null,
       "overflow": null,
       "overflow_x": null,
       "overflow_y": null,
       "padding": null,
       "right": null,
       "top": null,
       "visibility": null,
       "width": null
      }
     },
     "36894d4b47c54b8fa80f644670a9b625": {
      "model_module": "@jupyter-widgets/controls",
      "model_module_version": "1.5.0",
      "model_name": "DescriptionStyleModel",
      "state": {
       "_model_module": "@jupyter-widgets/controls",
       "_model_module_version": "1.5.0",
       "_model_name": "DescriptionStyleModel",
       "_view_count": null,
       "_view_module": "@jupyter-widgets/base",
       "_view_module_version": "1.2.0",
       "_view_name": "StyleView",
       "description_width": ""
      }
     },
     "5a2fca942aee45ec9077d04304ee53a4": {
      "model_module": "@jupyter-widgets/controls",
      "model_module_version": "1.5.0",
      "model_name": "FloatProgressModel",
      "state": {
       "_dom_classes": [],
       "_model_module": "@jupyter-widgets/controls",
       "_model_module_version": "1.5.0",
       "_model_name": "FloatProgressModel",
       "_view_count": null,
       "_view_module": "@jupyter-widgets/controls",
       "_view_module_version": "1.5.0",
       "_view_name": "ProgressView",
       "bar_style": "success",
       "description": "",
       "description_tooltip": null,
       "layout": "IPY_MODEL_e05b27bdfd2845caabb862f81f8190ec",
       "max": 3.0,
       "min": 0.0,
       "orientation": "horizontal",
       "style": "IPY_MODEL_e90e9bd6aee74378a4d704c500a7d912",
       "value": 3.0
      }
     },
     "c8b2f3e7fcf54f41913268a78762afa9": {
      "model_module": "@jupyter-widgets/controls",
      "model_module_version": "1.5.0",
      "model_name": "HBoxModel",
      "state": {
       "_dom_classes": [],
       "_model_module": "@jupyter-widgets/controls",
       "_model_module_version": "1.5.0",
       "_model_name": "HBoxModel",
       "_view_count": null,
       "_view_module": "@jupyter-widgets/controls",
       "_view_module_version": "1.5.0",
       "_view_name": "HBoxView",
       "box_style": "",
       "children": [
        "IPY_MODEL_f9b44543f5204f8fb41ac4c355774e2a",
        "IPY_MODEL_5a2fca942aee45ec9077d04304ee53a4",
        "IPY_MODEL_dc4c8b43c15f4623a3d9f0602e3d120d"
       ],
       "layout": "IPY_MODEL_34efcf4ae8684868b5ce77a6f86ae1a3"
      }
     },
     "dc4c8b43c15f4623a3d9f0602e3d120d": {
      "model_module": "@jupyter-widgets/controls",
      "model_module_version": "1.5.0",
      "model_name": "HTMLModel",
      "state": {
       "_dom_classes": [],
       "_model_module": "@jupyter-widgets/controls",
       "_model_module_version": "1.5.0",
       "_model_name": "HTMLModel",
       "_view_count": null,
       "_view_module": "@jupyter-widgets/controls",
       "_view_module_version": "1.5.0",
       "_view_name": "HTMLView",
       "description": "",
       "description_tooltip": null,
       "layout": "IPY_MODEL_0be04ccba0a04c01ac87c88bf0380203",
       "placeholder": "​",
       "style": "IPY_MODEL_20136e73f8844d56aa6e2aba122bc7aa",
       "value": " 3/3 [00:13&lt;00:00,  4.30s/it]"
      }
     },
     "e05b27bdfd2845caabb862f81f8190ec": {
      "model_module": "@jupyter-widgets/base",
      "model_module_version": "1.2.0",
      "model_name": "LayoutModel",
      "state": {
       "_model_module": "@jupyter-widgets/base",
       "_model_module_version": "1.2.0",
       "_model_name": "LayoutModel",
       "_view_count": null,
       "_view_module": "@jupyter-widgets/base",
       "_view_module_version": "1.2.0",
       "_view_name": "LayoutView",
       "align_content": null,
       "align_items": null,
       "align_self": null,
       "border": null,
       "bottom": null,
       "display": null,
       "flex": null,
       "flex_flow": null,
       "grid_area": null,
       "grid_auto_columns": null,
       "grid_auto_flow": null,
       "grid_auto_rows": null,
       "grid_column": null,
       "grid_gap": null,
       "grid_row": null,
       "grid_template_areas": null,
       "grid_template_columns": null,
       "grid_template_rows": null,
       "height": null,
       "justify_content": null,
       "justify_items": null,
       "left": null,
       "margin": null,
       "max_height": null,
       "max_width": null,
       "min_height": null,
       "min_width": null,
       "object_fit": null,
       "object_position": null,
       "order": null,
       "overflow": null,
       "overflow_x": null,
       "overflow_y": null,
       "padding": null,
       "right": null,
       "top": null,
       "visibility": null,
       "width": null
      }
     },
     "e90e9bd6aee74378a4d704c500a7d912": {
      "model_module": "@jupyter-widgets/controls",
      "model_module_version": "1.5.0",
      "model_name": "ProgressStyleModel",
      "state": {
       "_model_module": "@jupyter-widgets/controls",
       "_model_module_version": "1.5.0",
       "_model_name": "ProgressStyleModel",
       "_view_count": null,
       "_view_module": "@jupyter-widgets/base",
       "_view_module_version": "1.2.0",
       "_view_name": "StyleView",
       "bar_color": null,
       "description_width": ""
      }
     },
     "f9b44543f5204f8fb41ac4c355774e2a": {
      "model_module": "@jupyter-widgets/controls",
      "model_module_version": "1.5.0",
      "model_name": "HTMLModel",
      "state": {
       "_dom_classes": [],
       "_model_module": "@jupyter-widgets/controls",
       "_model_module_version": "1.5.0",
       "_model_name": "HTMLModel",
       "_view_count": null,
       "_view_module": "@jupyter-widgets/controls",
       "_view_module_version": "1.5.0",
       "_view_name": "HTMLView",
       "description": "",
       "description_tooltip": null,
       "layout": "IPY_MODEL_032612d19a2344d6a1fe91163eaba8c6",
       "placeholder": "​",
       "style": "IPY_MODEL_36894d4b47c54b8fa80f644670a9b625",
       "value": "100%"
      }
     }
    },
    "version_major": 2,
    "version_minor": 0
   }
  }
 },
 "nbformat": 4,
 "nbformat_minor": 5
}
