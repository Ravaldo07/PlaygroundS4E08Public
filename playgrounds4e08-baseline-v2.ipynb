{
 "cells": [
  {
   "cell_type": "raw",
   "id": "54bc9706",
   "metadata": {
    "papermill": {
     "duration": 0.005951,
     "end_time": "2024-08-05T19:41:01.228740",
     "exception": false,
     "start_time": "2024-08-05T19:41:01.222789",
     "status": "completed"
    },
    "tags": []
   },
   "source": []
  },
  {
   "cell_type": "markdown",
   "id": "232126b6",
   "metadata": {
    "papermill": {
     "duration": 0.005171,
     "end_time": "2024-08-05T19:41:01.239735",
     "exception": false,
     "start_time": "2024-08-05T19:41:01.234564",
     "status": "completed"
    },
    "tags": []
   },
   "source": [
    "# **FOREWORD**"
   ]
  },
  {
   "cell_type": "markdown",
   "id": "163f4ac4",
   "metadata": {
    "papermill": {
     "duration": 0.005093,
     "end_time": "2024-08-05T19:41:01.250362",
     "exception": false,
     "start_time": "2024-08-05T19:41:01.245269",
     "status": "completed"
    },
    "tags": []
   },
   "source": [
    "This is my second trust with the [Playground season 4 episode 8 competition](https://www.kaggle.com/competitions/playground-series-s4e8/overview). This assignment entails one to identify edible mushrooms from a group of edible and poisionous mushrooms. This is a binary classifier with Matthews Correlation as an evaluation metric. <br> \n",
    "\n",
    "This kernel is heavily influenced by the work done in the below public notebooks- <br>\n",
    "1. https://www.kaggle.com/code/stealthtechnologies/lb-0-98513-multiple-lightgbm-models <br>\n",
    "2. https://www.kaggle.com/code/carlmcbrideellis/mushrooms-single-lightgbm-model-20-minutes <br> \n",
    "\n",
    "**My contribution** <br>\n",
    "1. Appended the [data store](https://www.kaggle.com/code/ravi20076/playgrounds4e08-datastore-v1) dataset to the competition data for the model <br>\n",
    "2. Carried out very minimal FE <br> \n",
    "3. Inferred on the competition data only <br> \n",
    "4. Used different state values for the assignment <br>\n",
    "5. Inferred 3 metrics, MCC, AUC and LogLoss <br>\n",
    "\n",
    "Wishing you all the best for the assignment and best regards!\n",
    "\n",
    "**Key note** <br>\n",
    "1. I have effectuated the kernel in **test mode** with the parameter **test_req = True** <br>\n",
    "2. Please set it to False to run it on the complete dataset <br>\n",
    "3. In test mode, I plan to import the actual submission file from my [adjutant dataset](https://www.kaggle.com/datasets/ravi20076/playgrounds4e08baselinesubmission) and use it for submission <br>"
   ]
  },
  {
   "cell_type": "markdown",
   "id": "c4143e7d",
   "metadata": {
    "papermill": {
     "duration": 0.005239,
     "end_time": "2024-08-05T19:41:01.261048",
     "exception": false,
     "start_time": "2024-08-05T19:41:01.255809",
     "status": "completed"
    },
    "tags": []
   },
   "source": [
    "# **IMPORTS**"
   ]
  },
  {
   "cell_type": "code",
   "execution_count": 1,
   "id": "ffde0551",
   "metadata": {
    "_kg_hide-input": true,
    "_kg_hide-output": true,
    "execution": {
     "iopub.execute_input": "2024-08-05T19:41:01.275138Z",
     "iopub.status.busy": "2024-08-05T19:41:01.274734Z",
     "iopub.status.idle": "2024-08-05T19:41:52.764558Z",
     "shell.execute_reply": "2024-08-05T19:41:52.763319Z"
    },
    "papermill": {
     "duration": 51.499988,
     "end_time": "2024-08-05T19:41:52.767332",
     "exception": false,
     "start_time": "2024-08-05T19:41:01.267344",
     "status": "completed"
    },
    "tags": []
   },
   "outputs": [
    {
     "name": "stdout",
     "output_type": "stream",
     "text": [
      "\n",
      "---> Importing commonly used libraries and packages in my model pipelines\n",
      "\n",
      "Collecting lightgbm==4.5.0\n",
      "  Downloading lightgbm-4.5.0-py3-none-manylinux_2_28_x86_64.whl.metadata (17 kB)\n",
      "Requirement already satisfied: numpy>=1.17.0 in /opt/conda/lib/python3.10/site-packages (from lightgbm==4.5.0) (1.26.4)\n",
      "Requirement already satisfied: scipy in /opt/conda/lib/python3.10/site-packages (from lightgbm==4.5.0) (1.11.4)\n",
      "Downloading lightgbm-4.5.0-py3-none-manylinux_2_28_x86_64.whl (3.6 MB)\n",
      "\u001b[2K   \u001b[90m━━━━━━━━━━━━━━━━━━━━━━━━━━━━━━━━━━━━━━━━\u001b[0m \u001b[32m3.6/3.6 MB\u001b[0m \u001b[31m30.6 MB/s\u001b[0m eta \u001b[36m0:00:00\u001b[0m\n",
      "\u001b[?25hInstalling collected packages: lightgbm\n",
      "  Attempting uninstall: lightgbm\n",
      "    Found existing installation: lightgbm 4.2.0\n",
      "    Uninstalling lightgbm-4.2.0:\n",
      "      Successfully uninstalled lightgbm-4.2.0\n",
      "Successfully installed lightgbm-4.5.0\n",
      "Collecting polars==1.2.1\n",
      "  Downloading polars-1.2.1-cp38-abi3-manylinux_2_17_x86_64.manylinux2014_x86_64.whl.metadata (14 kB)\n",
      "Downloading polars-1.2.1-cp38-abi3-manylinux_2_17_x86_64.manylinux2014_x86_64.whl (30.9 MB)\n",
      "\u001b[2K   \u001b[90m━━━━━━━━━━━━━━━━━━━━━━━━━━━━━━━━━━━━━━━━\u001b[0m \u001b[32m30.9/30.9 MB\u001b[0m \u001b[31m49.9 MB/s\u001b[0m eta \u001b[36m0:00:00\u001b[0m\n",
      "\u001b[?25hInstalling collected packages: polars\n",
      "  Attempting uninstall: polars\n",
      "    Found existing installation: polars 1.1.0\n",
      "    Uninstalling polars-1.1.0:\n",
      "      Successfully uninstalled polars-1.1.0\n",
      "Successfully installed polars-1.2.1\n",
      "Collecting ucimlrepo\n",
      "  Downloading ucimlrepo-0.0.7-py3-none-any.whl.metadata (5.5 kB)\n",
      "Requirement already satisfied: pandas>=1.0.0 in /opt/conda/lib/python3.10/site-packages (from ucimlrepo) (2.2.2)\n",
      "Requirement already satisfied: certifi>=2020.12.5 in /opt/conda/lib/python3.10/site-packages (from ucimlrepo) (2024.7.4)\n",
      "Requirement already satisfied: numpy>=1.22.4 in /opt/conda/lib/python3.10/site-packages (from pandas>=1.0.0->ucimlrepo) (1.26.4)\n",
      "Requirement already satisfied: python-dateutil>=2.8.2 in /opt/conda/lib/python3.10/site-packages (from pandas>=1.0.0->ucimlrepo) (2.9.0.post0)\n",
      "Requirement already satisfied: pytz>=2020.1 in /opt/conda/lib/python3.10/site-packages (from pandas>=1.0.0->ucimlrepo) (2023.3.post1)\n",
      "Requirement already satisfied: tzdata>=2022.7 in /opt/conda/lib/python3.10/site-packages (from pandas>=1.0.0->ucimlrepo) (2023.4)\n",
      "Requirement already satisfied: six>=1.5 in /opt/conda/lib/python3.10/site-packages (from python-dateutil>=2.8.2->pandas>=1.0.0->ucimlrepo) (1.16.0)\n",
      "Downloading ucimlrepo-0.0.7-py3-none-any.whl (8.0 kB)\n",
      "Installing collected packages: ucimlrepo\n",
      "Successfully installed ucimlrepo-0.0.7\n",
      "\n",
      "---> Installation done\n",
      "\n",
      "\n",
      "LGBM = 4.5.0 | Catboost = 1.2.5\n",
      "\n",
      "CPU times: user 2.29 s, sys: 602 ms, total: 2.89 s\n",
      "Wall time: 51.5 s\n"
     ]
    }
   ],
   "source": [
    "%%time \n",
    "\n",
    "!cp /kaggle/usr/lib/playgrounds4e08_regularimports/playgrounds4e08_regularimports.py myimports.py\n",
    "from myimports import *\n"
   ]
  },
  {
   "cell_type": "markdown",
   "id": "2346c595",
   "metadata": {
    "papermill": {
     "duration": 0.007146,
     "end_time": "2024-08-05T19:41:52.782257",
     "exception": false,
     "start_time": "2024-08-05T19:41:52.775111",
     "status": "completed"
    },
    "tags": []
   },
   "source": [
    "# **CONFIGURATION**"
   ]
  },
  {
   "cell_type": "code",
   "execution_count": 2,
   "id": "5d38a62b",
   "metadata": {
    "execution": {
     "iopub.execute_input": "2024-08-05T19:41:52.798809Z",
     "iopub.status.busy": "2024-08-05T19:41:52.798176Z",
     "iopub.status.idle": "2024-08-05T19:41:52.807123Z",
     "shell.execute_reply": "2024-08-05T19:41:52.805953Z"
    },
    "papermill": {
     "duration": 0.019903,
     "end_time": "2024-08-05T19:41:52.809493",
     "exception": false,
     "start_time": "2024-08-05T19:41:52.789590",
     "status": "completed"
    },
    "tags": []
   },
   "outputs": [
    {
     "name": "stdout",
     "output_type": "stream",
     "text": [
      "CPU times: user 6 µs, sys: 2 µs, total: 8 µs\n",
      "Wall time: 11.9 µs\n"
     ]
    }
   ],
   "source": [
    "%%time\n",
    "\n",
    "target      = \"class\"\n",
    "\n",
    "# Please set this to False to run it on the complete dataset\n",
    "test_req    = True\n",
    "\n",
    "model_label = \"LGBM\"\n",
    "episode     = 8\n",
    "version_nb  = 2\n",
    "model_group = 3\n",
    "device      = \"cpu\"\n",
    "\n",
    "op_path    = f\"/kaggle/working\"\n",
    "ip_path    = f\"/kaggle/input/playgrounds4e08-datastore-v1\"\n",
    "\n",
    "orig_req   = True\n",
    "nsamples   = 1.0\n",
    "\n",
    "n_splits     = 5\n",
    "state        = 42\n",
    "ftre_imp_req = True\n",
    "cutoff       = 0.50\n",
    "\n",
    "if test_req:\n",
    "    all_states  = [0, 5, 7,]\n",
    "\n",
    "else:\n",
    "    all_states  = list(range(100, 125))\n",
    "    \n",
    "\n"
   ]
  },
  {
   "cell_type": "markdown",
   "id": "37dfd3ea",
   "metadata": {
    "papermill": {
     "duration": 0.00686,
     "end_time": "2024-08-05T19:41:52.823611",
     "exception": false,
     "start_time": "2024-08-05T19:41:52.816751",
     "status": "completed"
    },
    "tags": []
   },
   "source": [
    "## **CONFIGURATION PARAMETERS**\n",
    "\n",
    "|Parameter|Explanation|Possible value options|\n",
    "|---------------------| -------------------------------| :-:|\n",
    "|target | Target column value | class|\n",
    "|test_req | Do we need a syntax  check here? | True/ False| \n",
    "|model_label | Model option used here | LGBM| \n",
    "|episode | Playground episode number | 8| \n",
    "|version_nb | Version number - used for experiment tracking | int value| \n",
    "|model_group | Version number - used for experiment tracking | int value| \n",
    "|device | Device label | cpu/ gpu| \n",
    "|op_path/ ip_path | I-O paths  | | \n",
    "|orig_req | Do I need extra original data | True/ False| \n",
    "|nsamples | Original data samples required <br> Integer > 1:- partial data required <br> 1.0 - entire original data required | 1| |\n",
    "|n_splits | Number of CV splits | int value| \n",
    "|state | Random state  | int value| \n",
    "|ftre_imp_req | Do I need feature importances | True/ False|\n",
    "|cutoff | Prediction cutoff for labelling as 1/0 | Float between 0-1| \n",
    "|all_states | all random states list | list of chosen values|"
   ]
  },
  {
   "cell_type": "markdown",
   "id": "52fa6d2e",
   "metadata": {
    "papermill": {
     "duration": 0.007073,
     "end_time": "2024-08-05T19:41:52.838076",
     "exception": false,
     "start_time": "2024-08-05T19:41:52.831003",
     "status": "completed"
    },
    "tags": []
   },
   "source": [
    "# **PREPROCESSING**"
   ]
  },
  {
   "cell_type": "code",
   "execution_count": 3,
   "id": "a1f59444",
   "metadata": {
    "_kg_hide-input": true,
    "execution": {
     "iopub.execute_input": "2024-08-05T19:41:52.854575Z",
     "iopub.status.busy": "2024-08-05T19:41:52.854110Z",
     "iopub.status.idle": "2024-08-05T19:42:12.205134Z",
     "shell.execute_reply": "2024-08-05T19:42:12.203932Z"
    },
    "papermill": {
     "duration": 19.362308,
     "end_time": "2024-08-05T19:42:12.207670",
     "exception": false,
     "start_time": "2024-08-05T19:41:52.845362",
     "status": "completed"
    },
    "tags": []
   },
   "outputs": [
    {
     "name": "stdout",
     "output_type": "stream",
     "text": [
      "\u001b[1m\u001b[34m---> Shapes = (4201981, 22) | (2077964, 21)\u001b[0m\n",
      "\u001b[1m\u001b[34m\n",
      "---> We need the original data for model training\u001b[0m\n",
      "\u001b[1m\u001b[34m---> Full original data is used\u001b[0m\n",
      "\u001b[1m\u001b[34m---> Shapes = (4000, 22) | (100, 21)\u001b[0m\n",
      "\u001b[1m\u001b[34m---> Shapes = (4000, 21) | (4000,) | (100, 21)\u001b[0m\n",
      "\n",
      "CPU times: user 18.9 s, sys: 3.34 s, total: 22.2 s\n",
      "Wall time: 19.3 s\n"
     ]
    }
   ],
   "source": [
    "%%time\n",
    "\n",
    "X      = pd.read_parquet(os.path.join(ip_path, \"train.parquet\"))\n",
    "test   = pd.read_parquet(os.path.join(ip_path, \"test.parquet\"))\n",
    "sub_fl = pd.read_parquet(os.path.join(ip_path, \"sample_submission.parquet\"))\n",
    "\n",
    "cat_cols = \\\n",
    "['capshape', 'capsurface', 'capcolor', 'doesbruiseorbleed',\n",
    " 'gillattachment', 'gillspacing', 'gillcolor', 'stemroot', 'stemsurface',\n",
    " 'stemcolor', 'veiltype', 'veilcolor', 'hasring', 'ringtype',\n",
    " 'sporeprintcolor', 'habitat', 'season'\n",
    " ]\n",
    "\n",
    "X[cat_cols]     = X[cat_cols].astype(\"category\")\n",
    "test[cat_cols]  = test[cat_cols].astype(\"category\")\n",
    "\n",
    "PrintColor(f\"---> Shapes = {X.shape} | {test.shape}\")\n",
    "\n",
    "if orig_req:\n",
    "    PrintColor(f\"\\n---> We need the original data for model training\")\n",
    "\n",
    "    if nsamples > 1:\n",
    "        PrintColor(f\"---> Partial original data is used = {nsamples * 2:,.0f} sample\",\n",
    "                   color = Fore.CYAN\n",
    "                  )\n",
    "\n",
    "        original = X.loc[X.Source == 'Original'].groupby(target).sample(n = nsamples)\n",
    "        X = X.loc[X.Source == 'Competition']\n",
    "        X = pd.concat([X, original], axis=0, ignore_index = True)\n",
    "        X.index = range(len(X))\n",
    "        del original\n",
    "\n",
    "    elif nsamples == 1.0:\n",
    "        PrintColor(f\"---> Full original data is used\")\n",
    "else:\n",
    "    X = X.loc[X.Source == 'Competition']\n",
    "    PrintColor(f\"---> Shapes = {X.shape} | {test.shape} | without original data\",\n",
    "               color = Fore.RED\n",
    "              )\n",
    "\n",
    "# Sampling for testing purposes\n",
    "if test_req:\n",
    "    X       = X.groupby([target, \"Source\"]).head(1000)\n",
    "    X.index = range(len(X))\n",
    "    test    = test.iloc[0:100]\n",
    "    sub_fl  = sub_fl.iloc[0:100]\n",
    "\n",
    "    PrintColor(f\"---> Shapes = {X.shape} | {test.shape}\")\n",
    "else:\n",
    "    PrintColor(f\"---> Syntax check is not needed\", color = Fore.RED)\n",
    "\n",
    "y = X[target]\n",
    "X = X.drop(target, axis=1)\n",
    "\n",
    "PrintColor(f\"---> Shapes = {X.shape} | {y.shape} | {test.shape}\")\n",
    "\n",
    "print();\n",
    "collect();"
   ]
  },
  {
   "cell_type": "markdown",
   "id": "02837168",
   "metadata": {
    "papermill": {
     "duration": 0.00757,
     "end_time": "2024-08-05T19:42:12.223026",
     "exception": false,
     "start_time": "2024-08-05T19:42:12.215456",
     "status": "completed"
    },
    "tags": []
   },
   "source": [
    "# **MODEL TRAINING**"
   ]
  },
  {
   "cell_type": "code",
   "execution_count": 4,
   "id": "cb9b0119",
   "metadata": {
    "_kg_hide-input": true,
    "execution": {
     "iopub.execute_input": "2024-08-05T19:42:12.239910Z",
     "iopub.status.busy": "2024-08-05T19:42:12.239490Z",
     "iopub.status.idle": "2024-08-05T19:42:31.025139Z",
     "shell.execute_reply": "2024-08-05T19:42:31.024058Z"
    },
    "papermill": {
     "duration": 18.798336,
     "end_time": "2024-08-05T19:42:31.028867",
     "exception": false,
     "start_time": "2024-08-05T19:42:12.230531",
     "status": "completed"
    },
    "tags": []
   },
   "outputs": [
    {
     "name": "stdout",
     "output_type": "stream",
     "text": [
      "\u001b[1m\u001b[34m\n",
      "-------- LGBM MODEL TRAINING --------\n",
      "\u001b[0m\n"
     ]
    },
    {
     "data": {
      "application/vnd.jupyter.widget-view+json": {
       "model_id": "d7f498f2c92a42f0b8be70a7cefd1e72",
       "version_major": 2,
       "version_minor": 0
      },
      "text/plain": [
       "  0%|          | 0/3 [00:00<?, ?it/s]"
      ]
     },
     "metadata": {},
     "output_type": "display_data"
    },
    {
     "name": "stdout",
     "output_type": "stream",
     "text": [
      "---> Model fitted  - state = 0\n",
      "---> Model trained - state = 0\n",
      "---> Model fitted  - state = 5\n",
      "---> Model trained - state = 5\n",
      "---> Model fitted  - state = 7\n",
      "---> Model trained - state = 7\n",
      "\n",
      "\n",
      "\n",
      "\n"
     ]
    },
    {
     "data": {
      "text/html": [
       "<style type=\"text/css\">\n",
       "#T_929e2_row0_col0, #T_929e2_row1_col0 {\n",
       "  text-align: center;\n",
       "  border: dashed 1px maroon;\n",
       "}\n",
       "#T_929e2_row0_col1, #T_929e2_row0_col2, #T_929e2_row1_col1, #T_929e2_row1_col2, #T_929e2_row2_col1, #T_929e2_row2_col2 {\n",
       "  background-color: #f9d1b4;\n",
       "  text-align: center;\n",
       "  border: dashed 1px maroon;\n",
       "}\n",
       "#T_929e2_row2_col0 {\n",
       "  background-color: #c0eff7;\n",
       "  text-align: center;\n",
       "  border: dashed 1px maroon;\n",
       "}\n",
       "</style>\n",
       "<table id=\"T_929e2\">\n",
       "  <caption>\n",
       "OOF scores across seeds\n",
       "</caption>\n",
       "  <thead>\n",
       "    <tr>\n",
       "      <th class=\"blank level0\" >&nbsp;</th>\n",
       "      <th id=\"T_929e2_level0_col0\" class=\"col_heading level0 col0\" >LogLoss</th>\n",
       "      <th id=\"T_929e2_level0_col1\" class=\"col_heading level0 col1\" >AUC</th>\n",
       "      <th id=\"T_929e2_level0_col2\" class=\"col_heading level0 col2\" >MCC</th>\n",
       "    </tr>\n",
       "  </thead>\n",
       "  <tbody>\n",
       "    <tr>\n",
       "      <th id=\"T_929e2_level0_row0\" class=\"row_heading level0 row0\" >0</th>\n",
       "      <td id=\"T_929e2_row0_col0\" class=\"data row0 col0\" >0.014347</td>\n",
       "      <td id=\"T_929e2_row0_col1\" class=\"data row0 col1\" >1.000000</td>\n",
       "      <td id=\"T_929e2_row0_col2\" class=\"data row0 col2\" >1.000000</td>\n",
       "    </tr>\n",
       "    <tr>\n",
       "      <th id=\"T_929e2_level0_row1\" class=\"row_heading level0 row1\" >5</th>\n",
       "      <td id=\"T_929e2_row1_col0\" class=\"data row1 col0\" >0.014317</td>\n",
       "      <td id=\"T_929e2_row1_col1\" class=\"data row1 col1\" >1.000000</td>\n",
       "      <td id=\"T_929e2_row1_col2\" class=\"data row1 col2\" >1.000000</td>\n",
       "    </tr>\n",
       "    <tr>\n",
       "      <th id=\"T_929e2_level0_row2\" class=\"row_heading level0 row2\" >7</th>\n",
       "      <td id=\"T_929e2_row2_col0\" class=\"data row2 col0\" >0.014231</td>\n",
       "      <td id=\"T_929e2_row2_col1\" class=\"data row2 col1\" >1.000000</td>\n",
       "      <td id=\"T_929e2_row2_col2\" class=\"data row2 col2\" >1.000000</td>\n",
       "    </tr>\n",
       "  </tbody>\n",
       "</table>\n"
      ],
      "text/plain": [
       "<pandas.io.formats.style.Styler at 0x7d07316cb5b0>"
      ]
     },
     "metadata": {},
     "output_type": "display_data"
    },
    {
     "name": "stdout",
     "output_type": "stream",
     "text": [
      "\n",
      "\n",
      "\n"
     ]
    },
    {
     "data": {
      "text/html": [
       "<style type=\"text/css\">\n",
       "#T_cd387_row0_col0 {\n",
       "  text-align: center;\n",
       "  background-color: #faebdd;\n",
       "  color: #000000;\n",
       "}\n",
       "#T_cd387_row0_col1 {\n",
       "  text-align: center;\n",
       "  background-color: #f8d4bc;\n",
       "  color: #000000;\n",
       "}\n",
       "#T_cd387_row0_col2 {\n",
       "  text-align: center;\n",
       "  background-color: #f6b691;\n",
       "  color: #000000;\n",
       "}\n",
       "#T_cd387_row0_col3, #T_cd387_row0_col4 {\n",
       "  text-align: center;\n",
       "  background-color: #5c1e51;\n",
       "  color: #f1f1f1;\n",
       "}\n",
       "#T_cd387_row0_col5 {\n",
       "  text-align: center;\n",
       "  background-color: #511e4d;\n",
       "  color: #f1f1f1;\n",
       "}\n",
       "#T_cd387_row0_col6 {\n",
       "  text-align: center;\n",
       "  background-color: #3a1a41;\n",
       "  color: #f1f1f1;\n",
       "}\n",
       "#T_cd387_row0_col7 {\n",
       "  text-align: center;\n",
       "  background-color: #31183b;\n",
       "  color: #f1f1f1;\n",
       "}\n",
       "#T_cd387_row0_col8 {\n",
       "  text-align: center;\n",
       "  background-color: #2a1636;\n",
       "  color: #f1f1f1;\n",
       "}\n",
       "#T_cd387_row0_col9 {\n",
       "  text-align: center;\n",
       "  background-color: #251433;\n",
       "  color: #f1f1f1;\n",
       "}\n",
       "#T_cd387_row0_col10 {\n",
       "  text-align: center;\n",
       "  background-color: #1e122d;\n",
       "  color: #f1f1f1;\n",
       "}\n",
       "#T_cd387_row0_col11 {\n",
       "  text-align: center;\n",
       "  background-color: #1a102a;\n",
       "  color: #f1f1f1;\n",
       "}\n",
       "#T_cd387_row0_col12 {\n",
       "  text-align: center;\n",
       "  background-color: #170f28;\n",
       "  color: #f1f1f1;\n",
       "}\n",
       "#T_cd387_row0_col13 {\n",
       "  text-align: center;\n",
       "  background-color: #140e26;\n",
       "  color: #f1f1f1;\n",
       "}\n",
       "#T_cd387_row0_col14, #T_cd387_row0_col15 {\n",
       "  text-align: center;\n",
       "  background-color: #0d0a21;\n",
       "  color: #f1f1f1;\n",
       "}\n",
       "#T_cd387_row0_col16 {\n",
       "  text-align: center;\n",
       "  background-color: #06071c;\n",
       "  color: #f1f1f1;\n",
       "}\n",
       "#T_cd387_row0_col17 {\n",
       "  text-align: center;\n",
       "  background-color: #05061b;\n",
       "  color: #f1f1f1;\n",
       "}\n",
       "#T_cd387_row0_col18 {\n",
       "  text-align: center;\n",
       "  background-color: #04051a;\n",
       "  color: #f1f1f1;\n",
       "}\n",
       "#T_cd387_row0_col19 {\n",
       "  text-align: center;\n",
       "  background-color: #03051a;\n",
       "  color: #f1f1f1;\n",
       "}\n",
       "</style>\n",
       "<table id=\"T_cd387\">\n",
       "  <caption>Feature Importances</caption>\n",
       "  <thead>\n",
       "    <tr>\n",
       "      <th class=\"blank level0\" >&nbsp;</th>\n",
       "      <th id=\"T_cd387_level0_col0\" class=\"col_heading level0 col0\" >stemwidth</th>\n",
       "      <th id=\"T_cd387_level0_col1\" class=\"col_heading level0 col1\" >stemheight</th>\n",
       "      <th id=\"T_cd387_level0_col2\" class=\"col_heading level0 col2\" >capdiameter</th>\n",
       "      <th id=\"T_cd387_level0_col3\" class=\"col_heading level0 col3\" >capsurface</th>\n",
       "      <th id=\"T_cd387_level0_col4\" class=\"col_heading level0 col4\" >gillattachment</th>\n",
       "      <th id=\"T_cd387_level0_col5\" class=\"col_heading level0 col5\" >gillcolor</th>\n",
       "      <th id=\"T_cd387_level0_col6\" class=\"col_heading level0 col6\" >capcolor</th>\n",
       "      <th id=\"T_cd387_level0_col7\" class=\"col_heading level0 col7\" >stemcolor</th>\n",
       "      <th id=\"T_cd387_level0_col8\" class=\"col_heading level0 col8\" >stemsurface</th>\n",
       "      <th id=\"T_cd387_level0_col9\" class=\"col_heading level0 col9\" >capshape</th>\n",
       "      <th id=\"T_cd387_level0_col10\" class=\"col_heading level0 col10\" >ringtype</th>\n",
       "      <th id=\"T_cd387_level0_col11\" class=\"col_heading level0 col11\" >gillspacing</th>\n",
       "      <th id=\"T_cd387_level0_col12\" class=\"col_heading level0 col12\" >stemroot</th>\n",
       "      <th id=\"T_cd387_level0_col13\" class=\"col_heading level0 col13\" >habitat</th>\n",
       "      <th id=\"T_cd387_level0_col14\" class=\"col_heading level0 col14\" >hasring</th>\n",
       "      <th id=\"T_cd387_level0_col15\" class=\"col_heading level0 col15\" >season</th>\n",
       "      <th id=\"T_cd387_level0_col16\" class=\"col_heading level0 col16\" >veiltype</th>\n",
       "      <th id=\"T_cd387_level0_col17\" class=\"col_heading level0 col17\" >doesbruiseorbleed</th>\n",
       "      <th id=\"T_cd387_level0_col18\" class=\"col_heading level0 col18\" >veilcolor</th>\n",
       "      <th id=\"T_cd387_level0_col19\" class=\"col_heading level0 col19\" >sporeprintcolor</th>\n",
       "    </tr>\n",
       "  </thead>\n",
       "  <tbody>\n",
       "    <tr>\n",
       "      <th id=\"T_cd387_level0_row0\" class=\"row_heading level0 row0\" >FtreImp</th>\n",
       "      <td id=\"T_cd387_row0_col0\" class=\"data row0 col0\" >17,164.33</td>\n",
       "      <td id=\"T_cd387_row0_col1\" class=\"data row0 col1\" >16,132.67</td>\n",
       "      <td id=\"T_cd387_row0_col2\" class=\"data row0 col2\" >14,812.33</td>\n",
       "      <td id=\"T_cd387_row0_col3\" class=\"data row0 col3\" >4,146.33</td>\n",
       "      <td id=\"T_cd387_row0_col4\" class=\"data row0 col4\" >4,129.33</td>\n",
       "      <td id=\"T_cd387_row0_col5\" class=\"data row0 col5\" >3,644.67</td>\n",
       "      <td id=\"T_cd387_row0_col6\" class=\"data row0 col6\" >2,655.67</td>\n",
       "      <td id=\"T_cd387_row0_col7\" class=\"data row0 col7\" >2,219.00</td>\n",
       "      <td id=\"T_cd387_row0_col8\" class=\"data row0 col8\" >1,891.33</td>\n",
       "      <td id=\"T_cd387_row0_col9\" class=\"data row0 col9\" >1,718.67</td>\n",
       "      <td id=\"T_cd387_row0_col10\" class=\"data row0 col10\" >1,403.33</td>\n",
       "      <td id=\"T_cd387_row0_col11\" class=\"data row0 col11\" >1,156.33</td>\n",
       "      <td id=\"T_cd387_row0_col12\" class=\"data row0 col12\" >1,016.00</td>\n",
       "      <td id=\"T_cd387_row0_col13\" class=\"data row0 col13\" >926.67</td>\n",
       "      <td id=\"T_cd387_row0_col14\" class=\"data row0 col14\" >580.67</td>\n",
       "      <td id=\"T_cd387_row0_col15\" class=\"data row0 col15\" >538.00</td>\n",
       "      <td id=\"T_cd387_row0_col16\" class=\"data row0 col16\" >208.33</td>\n",
       "      <td id=\"T_cd387_row0_col17\" class=\"data row0 col17\" >158.00</td>\n",
       "      <td id=\"T_cd387_row0_col18\" class=\"data row0 col18\" >119.67</td>\n",
       "      <td id=\"T_cd387_row0_col19\" class=\"data row0 col19\" >1.33</td>\n",
       "    </tr>\n",
       "  </tbody>\n",
       "</table>\n"
      ],
      "text/plain": [
       "<pandas.io.formats.style.Styler at 0x7d07316c9e70>"
      ]
     },
     "metadata": {},
     "output_type": "display_data"
    },
    {
     "name": "stdout",
     "output_type": "stream",
     "text": [
      "\n",
      "CPU times: user 16.9 s, sys: 3.69 s, total: 20.6 s\n",
      "Wall time: 18.8 s\n"
     ]
    },
    {
     "data": {
      "text/plain": [
       "67"
      ]
     },
     "execution_count": 4,
     "metadata": {},
     "output_type": "execute_result"
    }
   ],
   "source": [
    "%%time\n",
    "\n",
    "drop_cols  = [\"Source\", \"id\", target]\n",
    "ftre_imp   = 0\n",
    "sel_cols   = X.drop(columns = drop_cols, errors = \"ignore\").columns\n",
    "test_preds = 0\n",
    "OOF_Preds  = 0\n",
    "scores     = pd.DataFrame(columns = [\"LogLoss\", \"AUC\", \"MCC\"],\n",
    "                          index = all_states,\n",
    "                          dtype = np.float32\n",
    "                          )\n",
    "len_train  = len(X.loc[X.Source == \"Competition\"])\n",
    "\n",
    "PrintColor(f\"\\n-------- {model_label} MODEL TRAINING --------\\n\")\n",
    "for state in tqdm(all_states):\n",
    "    model = LGBMC(objective     = \"binary\",\n",
    "                  device        = device,\n",
    "                  n_estimators  = 3000,\n",
    "                  max_bin       = 256,\n",
    "                  colsample_bytree = 0.6,\n",
    "                  reg_lambda    = 80,\n",
    "                  verbosity     = -1,\n",
    "                  random_state  = state,\n",
    "                  )\n",
    "\n",
    "    model.fit(X[sel_cols], y, callbacks = [log_evaluation(0)])\n",
    "    print(f\"---> Model fitted  - state = {state}\")\n",
    "\n",
    "    if ftre_imp_req:\n",
    "        ftre_imp  = ftre_imp + (model.feature_importances_ / len(all_states))\n",
    "\n",
    "    test_preds = test_preds + (model.predict_proba(test[sel_cols])[:,1] / len(all_states))\n",
    "    oof_preds  = model.predict_proba(X.iloc[0: len_train][sel_cols])[:,1]\n",
    "    OOF_Preds  = OOF_Preds + (oof_preds / len(all_states))\n",
    "\n",
    "    scores.loc[state] = \\\n",
    "    (log_loss(y.values[0: len_train], oof_preds[0: len_train]),\n",
    "     roc_auc_score(y.values[0: len_train], oof_preds[0: len_train]),\n",
    "     matthews_corrcoef(y.values[0: len_train], np.where(oof_preds[0: len_train] > cutoff, 1, 0))\n",
    "     )\n",
    "\n",
    "    del model, oof_preds\n",
    "    collect();\n",
    "    print(f\"---> Model trained - state = {state}\")\n",
    "\n",
    "print(\"\\n\\n\\n\")\n",
    "display(scores.\\\n",
    "        style.\\\n",
    "        set_caption(\"\\nOOF scores across seeds\\n\").\\\n",
    "        format(precision = 6).\\\n",
    "        highlight_min(subset = [\"LogLoss\"], axis=0, color = \"#c0eff7\").\\\n",
    "        highlight_max(subset = [\"MCC\", \"AUC\"], axis = 0, color = \"#f9d1b4\").\\\n",
    "        set_properties(**{\"text-align\": \"center\",\n",
    "                          \"border\" : \"dashed 1px maroon\",\n",
    "                          }\n",
    "                       )\n",
    "        )\n",
    "\n",
    "if ftre_imp_req:\n",
    "    print(\"\\n\\n\")\n",
    "    display(pd.DataFrame(ftre_imp, index = sel_cols, columns = [\"FtreImp\"]).\\\n",
    "            sort_values([\"FtreImp\"], ascending = False).\\\n",
    "            transpose().\\\n",
    "            style.format(formatter = \"{:,.2f}\").\\\n",
    "            set_caption(f\"Feature Importances\").\\\n",
    "            set_properties(**{\"text-align\": \"center\"}).\\\n",
    "            background_gradient(subset = sel_cols,\n",
    "                                cmap = \"rocket\",\n",
    "                                axis=1\n",
    "                               )\n",
    "            )\n",
    "\n",
    "print()\n",
    "collect()"
   ]
  },
  {
   "cell_type": "markdown",
   "id": "b029491d",
   "metadata": {
    "papermill": {
     "duration": 0.008871,
     "end_time": "2024-08-05T19:42:31.046941",
     "exception": false,
     "start_time": "2024-08-05T19:42:31.038070",
     "status": "completed"
    },
    "tags": []
   },
   "source": [
    "# **SUBMISSION AND CLOSURE**"
   ]
  },
  {
   "cell_type": "code",
   "execution_count": 5,
   "id": "268b264d",
   "metadata": {
    "_kg_hide-input": true,
    "execution": {
     "iopub.execute_input": "2024-08-05T19:42:31.067635Z",
     "iopub.status.busy": "2024-08-05T19:42:31.067227Z",
     "iopub.status.idle": "2024-08-05T19:42:31.075691Z",
     "shell.execute_reply": "2024-08-05T19:42:31.074549Z"
    },
    "papermill": {
     "duration": 0.021647,
     "end_time": "2024-08-05T19:42:31.078248",
     "exception": false,
     "start_time": "2024-08-05T19:42:31.056601",
     "status": "completed"
    },
    "tags": []
   },
   "outputs": [
    {
     "name": "stdout",
     "output_type": "stream",
     "text": [
      "CPU times: user 7 µs, sys: 0 ns, total: 7 µs\n",
      "Wall time: 11.7 µs\n"
     ]
    }
   ],
   "source": [
    "%%time\n",
    "\n",
    "def PostProcessPreds(sub_fl: pd.DataFrame, target: str = target):\n",
    "    \"This function post-processes the predictions using saved predictions and targets\"\n",
    "\n",
    "    try:\n",
    "        sub_fl = sub_fl.set_index(\"id\")\n",
    "    except:\n",
    "        print(f\"---> Submission file index is intact\")\n",
    "\n",
    "    sub_fl.loc[3640058, target] = \"e\"\n",
    "    sub_fl.loc[sub_fl.index.isin([3600675, 4057201, 4729429, 4929268, 4985595]), target] = \"p\"\n",
    "    return sub_fl;"
   ]
  },
  {
   "cell_type": "code",
   "execution_count": 6,
   "id": "88cdfb51",
   "metadata": {
    "execution": {
     "iopub.execute_input": "2024-08-05T19:42:31.099416Z",
     "iopub.status.busy": "2024-08-05T19:42:31.098977Z",
     "iopub.status.idle": "2024-08-05T19:42:34.613224Z",
     "shell.execute_reply": "2024-08-05T19:42:34.612075Z"
    },
    "papermill": {
     "duration": 3.528257,
     "end_time": "2024-08-05T19:42:34.615890",
     "exception": false,
     "start_time": "2024-08-05T19:42:31.087633",
     "status": "completed"
    },
    "tags": []
   },
   "outputs": [
    {
     "name": "stdout",
     "output_type": "stream",
     "text": [
      "\n",
      "\n",
      "\n",
      "\u001b[1m\u001b[34m---> Loading the submission file from my imported dataset\u001b[0m\n",
      "---> Submission file index is intact\n",
      "\n"
     ]
    },
    {
     "data": {
      "text/html": [
       "<style type=\"text/css\">\n",
       "</style>\n",
       "<table id=\"T_e1271\">\n",
       "  <caption>Submission file</caption>\n",
       "  <thead>\n",
       "    <tr>\n",
       "      <th class=\"blank level0\" >&nbsp;</th>\n",
       "      <th id=\"T_e1271_level0_col0\" class=\"col_heading level0 col0\" >class</th>\n",
       "    </tr>\n",
       "    <tr>\n",
       "      <th class=\"index_name level0\" >id</th>\n",
       "      <th class=\"blank col0\" >&nbsp;</th>\n",
       "    </tr>\n",
       "  </thead>\n",
       "  <tbody>\n",
       "    <tr>\n",
       "      <th id=\"T_e1271_level0_row0\" class=\"row_heading level0 row0\" >3116945</th>\n",
       "      <td id=\"T_e1271_row0_col0\" class=\"data row0 col0\" >e</td>\n",
       "    </tr>\n",
       "    <tr>\n",
       "      <th id=\"T_e1271_level0_row1\" class=\"row_heading level0 row1\" >3116946</th>\n",
       "      <td id=\"T_e1271_row1_col0\" class=\"data row1 col0\" >p</td>\n",
       "    </tr>\n",
       "    <tr>\n",
       "      <th id=\"T_e1271_level0_row2\" class=\"row_heading level0 row2\" >3116947</th>\n",
       "      <td id=\"T_e1271_row2_col0\" class=\"data row2 col0\" >p</td>\n",
       "    </tr>\n",
       "    <tr>\n",
       "      <th id=\"T_e1271_level0_row3\" class=\"row_heading level0 row3\" >3116948</th>\n",
       "      <td id=\"T_e1271_row3_col0\" class=\"data row3 col0\" >p</td>\n",
       "    </tr>\n",
       "    <tr>\n",
       "      <th id=\"T_e1271_level0_row4\" class=\"row_heading level0 row4\" >3116949</th>\n",
       "      <td id=\"T_e1271_row4_col0\" class=\"data row4 col0\" >e</td>\n",
       "    </tr>\n",
       "    <tr>\n",
       "      <th id=\"T_e1271_level0_row5\" class=\"row_heading level0 row5\" >3116950</th>\n",
       "      <td id=\"T_e1271_row5_col0\" class=\"data row5 col0\" >e</td>\n",
       "    </tr>\n",
       "    <tr>\n",
       "      <th id=\"T_e1271_level0_row6\" class=\"row_heading level0 row6\" >3116951</th>\n",
       "      <td id=\"T_e1271_row6_col0\" class=\"data row6 col0\" >e</td>\n",
       "    </tr>\n",
       "    <tr>\n",
       "      <th id=\"T_e1271_level0_row7\" class=\"row_heading level0 row7\" >3116952</th>\n",
       "      <td id=\"T_e1271_row7_col0\" class=\"data row7 col0\" >p</td>\n",
       "    </tr>\n",
       "    <tr>\n",
       "      <th id=\"T_e1271_level0_row8\" class=\"row_heading level0 row8\" >3116953</th>\n",
       "      <td id=\"T_e1271_row8_col0\" class=\"data row8 col0\" >p</td>\n",
       "    </tr>\n",
       "    <tr>\n",
       "      <th id=\"T_e1271_level0_row9\" class=\"row_heading level0 row9\" >3116954</th>\n",
       "      <td id=\"T_e1271_row9_col0\" class=\"data row9 col0\" >e</td>\n",
       "    </tr>\n",
       "  </tbody>\n",
       "</table>\n"
      ],
      "text/plain": [
       "<pandas.io.formats.style.Styler at 0x7d0742512b60>"
      ]
     },
     "metadata": {},
     "output_type": "display_data"
    },
    {
     "name": "stdout",
     "output_type": "stream",
     "text": [
      "\n",
      "CPU times: user 3.26 s, sys: 142 ms, total: 3.4 s\n",
      "Wall time: 3.5 s\n"
     ]
    }
   ],
   "source": [
    "%%time\n",
    "\n",
    "print(\"\\n\\n\")\n",
    "\n",
    "if test_req == False:\n",
    "    PrintColor(f\"---> Creating the post-processed submission file\\n\")\n",
    "    \n",
    "    sub_fl[target] = np.where(test_preds >= cutoff, \"p\", \"e\")\n",
    "    sub_fl = PostProcessPreds(sub_fl)\n",
    "\n",
    "    test_preds = \\\n",
    "    pd.DataFrame(test_preds,index = range(len(test)),\n",
    "                 columns = [f\"{model_label}V{version_nb}_{model_group}\"],\n",
    "                 dtype = np.float32,\n",
    "                )\n",
    "\n",
    "    print(\"\\n\\n\")\n",
    "    display(test_preds.head(10).style.set_caption(f\"Submission file predictions\"))\n",
    "    print(\"\\n\\n\")\n",
    "    display(sub_fl.head(10).style.set_caption(f\"Submission file labels\"))\n",
    "    print(\"\\n\\n\")\n",
    "\n",
    "    OOF_Preds = pd.DataFrame(OOF_Preds,\n",
    "                             index = range(len(OOF_Preds)),\n",
    "                             columns = [f'{model_label}V{version_nb}_{model_group}'],\n",
    "                             dtype = np.float32,\n",
    "                             )\n",
    "\n",
    "    OOF_Preds.index.name = \"id\"\n",
    "    OOF_Preds.sort_index().reset_index().\\\n",
    "    to_parquet(os.path.join(op_path, f'OOF_Preds_{model_label}V{version_nb}_{model_group}.parquet'))\n",
    "\n",
    "    test_preds.\\\n",
    "    to_parquet(os.path.join(op_path, f'Mdl_Preds_{model_label}V{version_nb}_{model_group}.parquet'))\n",
    "\n",
    "    sub_fl.\\\n",
    "    reset_index().\\\n",
    "    rename(columns = {\"index\": \"id\"}).\\\n",
    "    to_parquet(os.path.join(op_path, f'Submission_{model_label}V{version_nb}_{model_group}.parquet'))\n",
    "\n",
    "else:\n",
    "    PrintColor(f\"---> Loading the submission file from my imported dataset\")\n",
    "    \n",
    "    sub_fl = pd.read_parquet(os.path.join(ip_path, \"sample_submission.parquet\"))\n",
    "    \n",
    "    sub_fl[target] = \\\n",
    "    np.mean(\n",
    "        np.c_[(pd.read_parquet(f\"/kaggle/input/playgrounds4e08baselinesubmission/PublicV2_1/Mdl_Preds_LGBMV2_1.parquet\").\\\n",
    "               iloc[:,-1].values,\n",
    "               pd.read_parquet(f\"/kaggle/input/playgrounds4e08baselinesubmission/PublicV2_2/Mdl_Preds_LGBMV2_2.parquet\").\\\n",
    "               iloc[:,-1].values,\n",
    "               pd.read_parquet(f\"/kaggle/input/playgrounds4e08baselinesubmission/PublicV2_3/Mdl_Preds_LGBMV2_3.parquet\").\\\n",
    "               iloc[:,-1].values, \n",
    "              )\n",
    "             ], \n",
    "        axis=1\n",
    "    )\n",
    "    \n",
    "    sub_fl[target] = np.where(sub_fl[target] > cutoff, 1, 0)\n",
    "    sub_fl[target] = sub_fl[target].map({0: \"e\", 1: \"p\"})\n",
    "    sub_fl = PostProcessPreds(sub_fl)\n",
    "    \n",
    "    try:\n",
    "        sub_fl = sub_fl.set_index(\"id\")\n",
    "    except:\n",
    "        pass\n",
    "    \n",
    "    sub_fl.to_csv(\"submission.csv\")\n",
    "    \n",
    "    print()\n",
    "    display(sub_fl.head(10).style.set_caption(f\"Submission file\"))\n",
    "    \n",
    "print()\n",
    "collect();"
   ]
  }
 ],
 "metadata": {
  "kaggle": {
   "accelerator": "none",
   "dataSources": [
    {
     "databundleVersionId": 9045607,
     "sourceId": 76727,
     "sourceType": "competition"
    },
    {
     "datasetId": 5495162,
     "sourceId": 9112975,
     "sourceType": "datasetVersion"
    },
    {
     "sourceId": 191018477,
     "sourceType": "kernelVersion"
    },
    {
     "sourceId": 191020336,
     "sourceType": "kernelVersion"
    }
   ],
   "dockerImageVersionId": 30746,
   "isGpuEnabled": false,
   "isInternetEnabled": true,
   "language": "python",
   "sourceType": "notebook"
  },
  "kernelspec": {
   "display_name": "Python 3",
   "language": "python",
   "name": "python3"
  },
  "language_info": {
   "codemirror_mode": {
    "name": "ipython",
    "version": 3
   },
   "file_extension": ".py",
   "mimetype": "text/x-python",
   "name": "python",
   "nbconvert_exporter": "python",
   "pygments_lexer": "ipython3",
   "version": "3.10.13"
  },
  "papermill": {
   "default_parameters": {},
   "duration": 97.421715,
   "end_time": "2024-08-05T19:42:35.550057",
   "environment_variables": {},
   "exception": null,
   "input_path": "__notebook__.ipynb",
   "output_path": "__notebook__.ipynb",
   "parameters": {},
   "start_time": "2024-08-05T19:40:58.128342",
   "version": "2.5.0"
  },
  "widgets": {
   "application/vnd.jupyter.widget-state+json": {
    "state": {
     "0eeaedaf8aa54800917dc0adfff53929": {
      "model_module": "@jupyter-widgets/controls",
      "model_module_version": "1.5.0",
      "model_name": "ProgressStyleModel",
      "state": {
       "_model_module": "@jupyter-widgets/controls",
       "_model_module_version": "1.5.0",
       "_model_name": "ProgressStyleModel",
       "_view_count": null,
       "_view_module": "@jupyter-widgets/base",
       "_view_module_version": "1.2.0",
       "_view_name": "StyleView",
       "bar_color": null,
       "description_width": ""
      }
     },
     "114ea2bbb97442f9bd52f597124e998e": {
      "model_module": "@jupyter-widgets/controls",
      "model_module_version": "1.5.0",
      "model_name": "HTMLModel",
      "state": {
       "_dom_classes": [],
       "_model_module": "@jupyter-widgets/controls",
       "_model_module_version": "1.5.0",
       "_model_name": "HTMLModel",
       "_view_count": null,
       "_view_module": "@jupyter-widgets/controls",
       "_view_module_version": "1.5.0",
       "_view_name": "HTMLView",
       "description": "",
       "description_tooltip": null,
       "layout": "IPY_MODEL_539be7c9b1a64c84a6bc3920884abd45",
       "placeholder": "​",
       "style": "IPY_MODEL_b653f416884349a4bc6171c2916a9622",
       "value": " 3/3 [00:18&lt;00:00,  5.64s/it]"
      }
     },
     "38c0fea784984110bd8b8d0906f97db0": {
      "model_module": "@jupyter-widgets/base",
      "model_module_version": "1.2.0",
      "model_name": "LayoutModel",
      "state": {
       "_model_module": "@jupyter-widgets/base",
       "_model_module_version": "1.2.0",
       "_model_name": "LayoutModel",
       "_view_count": null,
       "_view_module": "@jupyter-widgets/base",
       "_view_module_version": "1.2.0",
       "_view_name": "LayoutView",
       "align_content": null,
       "align_items": null,
       "align_self": null,
       "border": null,
       "bottom": null,
       "display": null,
       "flex": null,
       "flex_flow": null,
       "grid_area": null,
       "grid_auto_columns": null,
       "grid_auto_flow": null,
       "grid_auto_rows": null,
       "grid_column": null,
       "grid_gap": null,
       "grid_row": null,
       "grid_template_areas": null,
       "grid_template_columns": null,
       "grid_template_rows": null,
       "height": null,
       "justify_content": null,
       "justify_items": null,
       "left": null,
       "margin": null,
       "max_height": null,
       "max_width": null,
       "min_height": null,
       "min_width": null,
       "object_fit": null,
       "object_position": null,
       "order": null,
       "overflow": null,
       "overflow_x": null,
       "overflow_y": null,
       "padding": null,
       "right": null,
       "top": null,
       "visibility": null,
       "width": null
      }
     },
     "3ec1cb06e6654462a15f271b25bf0ef6": {
      "model_module": "@jupyter-widgets/controls",
      "model_module_version": "1.5.0",
      "model_name": "HTMLModel",
      "state": {
       "_dom_classes": [],
       "_model_module": "@jupyter-widgets/controls",
       "_model_module_version": "1.5.0",
       "_model_name": "HTMLModel",
       "_view_count": null,
       "_view_module": "@jupyter-widgets/controls",
       "_view_module_version": "1.5.0",
       "_view_name": "HTMLView",
       "description": "",
       "description_tooltip": null,
       "layout": "IPY_MODEL_e482a57e7b1b407495e9257ba90d4c99",
       "placeholder": "​",
       "style": "IPY_MODEL_a5286f8d036a4366a4c9c808c04c2e25",
       "value": "100%"
      }
     },
     "539be7c9b1a64c84a6bc3920884abd45": {
      "model_module": "@jupyter-widgets/base",
      "model_module_version": "1.2.0",
      "model_name": "LayoutModel",
      "state": {
       "_model_module": "@jupyter-widgets/base",
       "_model_module_version": "1.2.0",
       "_model_name": "LayoutModel",
       "_view_count": null,
       "_view_module": "@jupyter-widgets/base",
       "_view_module_version": "1.2.0",
       "_view_name": "LayoutView",
       "align_content": null,
       "align_items": null,
       "align_self": null,
       "border": null,
       "bottom": null,
       "display": null,
       "flex": null,
       "flex_flow": null,
       "grid_area": null,
       "grid_auto_columns": null,
       "grid_auto_flow": null,
       "grid_auto_rows": null,
       "grid_column": null,
       "grid_gap": null,
       "grid_row": null,
       "grid_template_areas": null,
       "grid_template_columns": null,
       "grid_template_rows": null,
       "height": null,
       "justify_content": null,
       "justify_items": null,
       "left": null,
       "margin": null,
       "max_height": null,
       "max_width": null,
       "min_height": null,
       "min_width": null,
       "object_fit": null,
       "object_position": null,
       "order": null,
       "overflow": null,
       "overflow_x": null,
       "overflow_y": null,
       "padding": null,
       "right": null,
       "top": null,
       "visibility": null,
       "width": null
      }
     },
     "9cd5b554fde14d8cbbab59ab57b1cdf3": {
      "model_module": "@jupyter-widgets/controls",
      "model_module_version": "1.5.0",
      "model_name": "FloatProgressModel",
      "state": {
       "_dom_classes": [],
       "_model_module": "@jupyter-widgets/controls",
       "_model_module_version": "1.5.0",
       "_model_name": "FloatProgressModel",
       "_view_count": null,
       "_view_module": "@jupyter-widgets/controls",
       "_view_module_version": "1.5.0",
       "_view_name": "ProgressView",
       "bar_style": "success",
       "description": "",
       "description_tooltip": null,
       "layout": "IPY_MODEL_c87a3219bbfd49219af6a37a79415a13",
       "max": 3.0,
       "min": 0.0,
       "orientation": "horizontal",
       "style": "IPY_MODEL_0eeaedaf8aa54800917dc0adfff53929",
       "value": 3.0
      }
     },
     "a5286f8d036a4366a4c9c808c04c2e25": {
      "model_module": "@jupyter-widgets/controls",
      "model_module_version": "1.5.0",
      "model_name": "DescriptionStyleModel",
      "state": {
       "_model_module": "@jupyter-widgets/controls",
       "_model_module_version": "1.5.0",
       "_model_name": "DescriptionStyleModel",
       "_view_count": null,
       "_view_module": "@jupyter-widgets/base",
       "_view_module_version": "1.2.0",
       "_view_name": "StyleView",
       "description_width": ""
      }
     },
     "b653f416884349a4bc6171c2916a9622": {
      "model_module": "@jupyter-widgets/controls",
      "model_module_version": "1.5.0",
      "model_name": "DescriptionStyleModel",
      "state": {
       "_model_module": "@jupyter-widgets/controls",
       "_model_module_version": "1.5.0",
       "_model_name": "DescriptionStyleModel",
       "_view_count": null,
       "_view_module": "@jupyter-widgets/base",
       "_view_module_version": "1.2.0",
       "_view_name": "StyleView",
       "description_width": ""
      }
     },
     "c87a3219bbfd49219af6a37a79415a13": {
      "model_module": "@jupyter-widgets/base",
      "model_module_version": "1.2.0",
      "model_name": "LayoutModel",
      "state": {
       "_model_module": "@jupyter-widgets/base",
       "_model_module_version": "1.2.0",
       "_model_name": "LayoutModel",
       "_view_count": null,
       "_view_module": "@jupyter-widgets/base",
       "_view_module_version": "1.2.0",
       "_view_name": "LayoutView",
       "align_content": null,
       "align_items": null,
       "align_self": null,
       "border": null,
       "bottom": null,
       "display": null,
       "flex": null,
       "flex_flow": null,
       "grid_area": null,
       "grid_auto_columns": null,
       "grid_auto_flow": null,
       "grid_auto_rows": null,
       "grid_column": null,
       "grid_gap": null,
       "grid_row": null,
       "grid_template_areas": null,
       "grid_template_columns": null,
       "grid_template_rows": null,
       "height": null,
       "justify_content": null,
       "justify_items": null,
       "left": null,
       "margin": null,
       "max_height": null,
       "max_width": null,
       "min_height": null,
       "min_width": null,
       "object_fit": null,
       "object_position": null,
       "order": null,
       "overflow": null,
       "overflow_x": null,
       "overflow_y": null,
       "padding": null,
       "right": null,
       "top": null,
       "visibility": null,
       "width": null
      }
     },
     "d7f498f2c92a42f0b8be70a7cefd1e72": {
      "model_module": "@jupyter-widgets/controls",
      "model_module_version": "1.5.0",
      "model_name": "HBoxModel",
      "state": {
       "_dom_classes": [],
       "_model_module": "@jupyter-widgets/controls",
       "_model_module_version": "1.5.0",
       "_model_name": "HBoxModel",
       "_view_count": null,
       "_view_module": "@jupyter-widgets/controls",
       "_view_module_version": "1.5.0",
       "_view_name": "HBoxView",
       "box_style": "",
       "children": [
        "IPY_MODEL_3ec1cb06e6654462a15f271b25bf0ef6",
        "IPY_MODEL_9cd5b554fde14d8cbbab59ab57b1cdf3",
        "IPY_MODEL_114ea2bbb97442f9bd52f597124e998e"
       ],
       "layout": "IPY_MODEL_38c0fea784984110bd8b8d0906f97db0"
      }
     },
     "e482a57e7b1b407495e9257ba90d4c99": {
      "model_module": "@jupyter-widgets/base",
      "model_module_version": "1.2.0",
      "model_name": "LayoutModel",
      "state": {
       "_model_module": "@jupyter-widgets/base",
       "_model_module_version": "1.2.0",
       "_model_name": "LayoutModel",
       "_view_count": null,
       "_view_module": "@jupyter-widgets/base",
       "_view_module_version": "1.2.0",
       "_view_name": "LayoutView",
       "align_content": null,
       "align_items": null,
       "align_self": null,
       "border": null,
       "bottom": null,
       "display": null,
       "flex": null,
       "flex_flow": null,
       "grid_area": null,
       "grid_auto_columns": null,
       "grid_auto_flow": null,
       "grid_auto_rows": null,
       "grid_column": null,
       "grid_gap": null,
       "grid_row": null,
       "grid_template_areas": null,
       "grid_template_columns": null,
       "grid_template_rows": null,
       "height": null,
       "justify_content": null,
       "justify_items": null,
       "left": null,
       "margin": null,
       "max_height": null,
       "max_width": null,
       "min_height": null,
       "min_width": null,
       "object_fit": null,
       "object_position": null,
       "order": null,
       "overflow": null,
       "overflow_x": null,
       "overflow_y": null,
       "padding": null,
       "right": null,
       "top": null,
       "visibility": null,
       "width": null
      }
     }
    },
    "version_major": 2,
    "version_minor": 0
   }
  }
 },
 "nbformat": 4,
 "nbformat_minor": 5
}
