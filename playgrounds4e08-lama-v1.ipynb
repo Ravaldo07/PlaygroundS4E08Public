{
 "cells": [
  {
   "cell_type": "markdown",
   "id": "24a30940",
   "metadata": {
    "papermill": {
     "duration": 0.005016,
     "end_time": "2024-08-01T02:43:47.478176",
     "exception": false,
     "start_time": "2024-08-01T02:43:47.473160",
     "status": "completed"
    },
    "tags": []
   },
   "source": [
    "# **PACKAGE IMPORTS AND INSTALLATIONS**"
   ]
  },
  {
   "cell_type": "code",
   "execution_count": 1,
   "id": "ffc80b1d",
   "metadata": {
    "execution": {
     "iopub.execute_input": "2024-08-01T02:43:47.489401Z",
     "iopub.status.busy": "2024-08-01T02:43:47.489017Z",
     "iopub.status.idle": "2024-08-01T02:46:03.779588Z",
     "shell.execute_reply": "2024-08-01T02:46:03.778489Z"
    },
    "papermill": {
     "duration": 136.298837,
     "end_time": "2024-08-01T02:46:03.781928",
     "exception": false,
     "start_time": "2024-08-01T02:43:47.483091",
     "status": "completed"
    },
    "tags": []
   },
   "outputs": [
    {
     "name": "stdout",
     "output_type": "stream",
     "text": [
      "CPU times: user 2.55 s, sys: 464 ms, total: 3.01 s\n",
      "Wall time: 2min 16s\n"
     ]
    }
   ],
   "source": [
    "%%time \n",
    "\n",
    "from IPython.display import clear_output, HTML\n",
    "from gc import collect\n",
    "\n",
    "!pip install \\\n",
    "--no-index \\\n",
    "--find-links=/kaggle/input/package-dependencies/LAMA038 lightautoml -q\n",
    "\n",
    "!pip install \\\n",
    "--no-index \\\n",
    "--find-links=/kaggle/input/packages-datawrangling-v1/Polars121 -q polars\n",
    "\n",
    "collect();\n",
    "clear_output();\n"
   ]
  },
  {
   "cell_type": "code",
   "execution_count": 2,
   "id": "83582a7b",
   "metadata": {
    "execution": {
     "iopub.execute_input": "2024-08-01T02:46:03.793738Z",
     "iopub.status.busy": "2024-08-01T02:46:03.793295Z",
     "iopub.status.idle": "2024-08-01T02:46:05.997015Z",
     "shell.execute_reply": "2024-08-01T02:46:05.995834Z"
    },
    "papermill": {
     "duration": 2.212403,
     "end_time": "2024-08-01T02:46:05.999229",
     "exception": false,
     "start_time": "2024-08-01T02:46:03.786826",
     "status": "completed"
    },
    "tags": []
   },
   "outputs": [
    {
     "name": "stdout",
     "output_type": "stream",
     "text": [
      "\n",
      "CPU times: user 1.32 s, sys: 429 ms, total: 1.74 s\n",
      "Wall time: 2.19 s\n"
     ]
    },
    {
     "data": {
      "text/plain": [
       "0"
      ]
     },
     "execution_count": 2,
     "metadata": {},
     "output_type": "execute_result"
    }
   ],
   "source": [
    "%%time \n",
    "\n",
    "from warnings import filterwarnings\n",
    "filterwarnings('ignore')\n",
    "\n",
    "from os import path, walk, getpid\n",
    "from psutil import Process\n",
    "import re\n",
    "from collections import Counter\n",
    "from itertools import product\n",
    "\n",
    "import ctypes\n",
    "libc = ctypes.CDLL(\"libc.so.6\")\n",
    "\n",
    "from IPython.display import display_html, clear_output\n",
    "from pprint import pprint\n",
    "from functools import partial\n",
    "from copy import deepcopy\n",
    "import pandas as pd, numpy as np, os, joblib\n",
    "import polars as pl\n",
    "import polars.selectors as cs\n",
    "import re\n",
    "\n",
    "from warnings import filterwarnings\n",
    "filterwarnings('ignore')\n",
    "\n",
    "import matplotlib.pyplot as plt\n",
    "import seaborn as sns\n",
    "\n",
    "from colorama import Fore, Style, init\n",
    "from warnings import filterwarnings\n",
    "filterwarnings('ignore')\n",
    "from tqdm.notebook import tqdm\n",
    "\n",
    "print()\n",
    "collect()"
   ]
  },
  {
   "cell_type": "code",
   "execution_count": 3,
   "id": "fb249050",
   "metadata": {
    "execution": {
     "iopub.execute_input": "2024-08-01T02:46:06.011453Z",
     "iopub.status.busy": "2024-08-01T02:46:06.010615Z",
     "iopub.status.idle": "2024-08-01T02:46:42.289736Z",
     "shell.execute_reply": "2024-08-01T02:46:42.288669Z"
    },
    "papermill": {
     "duration": 36.29186,
     "end_time": "2024-08-01T02:46:42.296037",
     "exception": false,
     "start_time": "2024-08-01T02:46:06.004177",
     "status": "completed"
    },
    "tags": []
   },
   "outputs": [
    {
     "name": "stdout",
     "output_type": "stream",
     "text": [
      "CPU times: user 31.7 s, sys: 1.09 s, total: 32.8 s\n",
      "Wall time: 36.3 s\n"
     ]
    }
   ],
   "source": [
    "%%time \n",
    "\n",
    "# Pipeline specific packages:-\n",
    "from sklearn.pipeline import Pipeline, make_pipeline\n",
    "from sklearn.base import BaseEstimator, TransformerMixin\n",
    "\n",
    "# AutoML package:-\n",
    "from lightautoml.automl.presets.tabular_presets import TabularAutoML\n",
    "from lightautoml.tasks import Task\n",
    "from sklearn.metrics import accuracy_score, roc_auc_score, log_loss, matthews_corrcoef"
   ]
  },
  {
   "cell_type": "code",
   "execution_count": 4,
   "id": "e9fcba35",
   "metadata": {
    "execution": {
     "iopub.execute_input": "2024-08-01T02:46:42.308658Z",
     "iopub.status.busy": "2024-08-01T02:46:42.307433Z",
     "iopub.status.idle": "2024-08-01T02:46:42.565762Z",
     "shell.execute_reply": "2024-08-01T02:46:42.564548Z"
    },
    "papermill": {
     "duration": 0.267399,
     "end_time": "2024-08-01T02:46:42.568488",
     "exception": false,
     "start_time": "2024-08-01T02:46:42.301089",
     "status": "completed"
    },
    "tags": []
   },
   "outputs": [
    {
     "name": "stdout",
     "output_type": "stream",
     "text": [
      "CPU times: user 248 ms, sys: 942 µs, total: 249 ms\n",
      "Wall time: 247 ms\n"
     ]
    },
    {
     "data": {
      "text/plain": [
       "0"
      ]
     },
     "execution_count": 4,
     "metadata": {},
     "output_type": "execute_result"
    }
   ],
   "source": [
    "%%time\n",
    "\n",
    "# Making sklearn pipeline outputs as dataframe:-\n",
    "from sklearn import set_config\n",
    "set_config(transform_output = \"pandas\")\n",
    "pd.set_option('display.max_columns', 50)\n",
    "pd.set_option('display.max_rows', 50)\n",
    "pd.set_option('display.precision', 3)\n",
    "np.random.seed(42)\n",
    "\n",
    "# Setting plots configuration:-\n",
    "sns.set({\"axes.facecolor\"       : \"#ffffff\",\n",
    "         \"figure.facecolor\"     : \"#ffffff\",\n",
    "         \"axes.edgecolor\"       : \"#000000\",\n",
    "         \"grid.color\"           : \"#ffffff\",\n",
    "         \"font.family\"          : ['Cambria'],\n",
    "         \"axes.labelcolor\"      : \"#000000\",\n",
    "         \"xtick.color\"          : \"#000000\",\n",
    "         \"ytick.color\"          : \"#000000\",\n",
    "         \"grid.linewidth\"       : 0.75,  \n",
    "         \"grid.linestyle\"       : \"--\",\n",
    "         \"axes.titlecolor\"      : '#0099e6',\n",
    "         'axes.titlesize'       : 8.5,\n",
    "         'axes.labelweight'     : \"bold\",\n",
    "         'legend.fontsize'      : 7.0,\n",
    "         'legend.title_fontsize': 7.0,\n",
    "         'font.size'            : 7.5,\n",
    "         'xtick.labelsize'      : 7.5,\n",
    "         'ytick.labelsize'      : 7.5,        \n",
    "        })\n",
    "\n",
    "collect()"
   ]
  },
  {
   "cell_type": "markdown",
   "id": "2248319c",
   "metadata": {
    "papermill": {
     "duration": 0.005311,
     "end_time": "2024-08-01T02:46:42.579297",
     "exception": false,
     "start_time": "2024-08-01T02:46:42.573986",
     "status": "completed"
    },
    "tags": []
   },
   "source": [
    "# **APPROACH DETAILS**"
   ]
  },
  {
   "cell_type": "markdown",
   "id": "763289ba",
   "metadata": {
    "papermill": {
     "duration": 0.005067,
     "end_time": "2024-08-01T02:46:42.590107",
     "exception": false,
     "start_time": "2024-08-01T02:46:42.585040",
     "status": "completed"
    },
    "tags": []
   },
   "source": [
    "**Data columns**<br>\n",
    "This is available in the original data description as [here](https://www.kaggle.com/competitions/playground-series-s4e8/discussion/523406) <br>\n",
    "\n",
    "**Competition details and notebook objectives**\n",
    "1. This is a binary-classification challenge to predict 2 classes in the target (class). **Mathews correlation** is the metric for the challenge - **this needs to be maximized**<br>\n",
    "2. In this starter notebook, we start the assignment with an auto ML solution with minimal EDA. Let's explore the dataset and build better models going ahead!<br>"
   ]
  },
  {
   "cell_type": "markdown",
   "id": "8683e3db",
   "metadata": {
    "papermill": {
     "duration": 0.004942,
     "end_time": "2024-08-01T02:46:42.600422",
     "exception": false,
     "start_time": "2024-08-01T02:46:42.595480",
     "status": "completed"
    },
    "tags": []
   },
   "source": [
    "|Version Number|Details|CV score|LB score|\n",
    "|--------| --------| :-:|:-:|\n",
    "|1       | * Auto ML without any additional transforms/ features <br> * Boosted tree models <br> * Used competition data only | | |"
   ]
  },
  {
   "cell_type": "code",
   "execution_count": 5,
   "id": "0d401944",
   "metadata": {
    "_kg_hide-input": true,
    "execution": {
     "iopub.execute_input": "2024-08-01T02:46:42.613013Z",
     "iopub.status.busy": "2024-08-01T02:46:42.612165Z",
     "iopub.status.idle": "2024-08-01T02:46:42.620152Z",
     "shell.execute_reply": "2024-08-01T02:46:42.619193Z"
    },
    "papermill": {
     "duration": 0.016697,
     "end_time": "2024-08-01T02:46:42.622314",
     "exception": false,
     "start_time": "2024-08-01T02:46:42.605617",
     "status": "completed"
    },
    "tags": []
   },
   "outputs": [
    {
     "name": "stdout",
     "output_type": "stream",
     "text": [
      "\n",
      "CPU times: user 99 µs, sys: 0 ns, total: 99 µs\n",
      "Wall time: 104 µs\n"
     ]
    }
   ],
   "source": [
    "%%time\n",
    "\n",
    "class Utility:\n",
    "    \"\"\"\n",
    "    This class serves to do the below-\n",
    "    1. Define method to print in color\n",
    "    2. Define the garbage cleaning process\n",
    "    \"\"\";\n",
    "\n",
    "    def PrintColor(self,text:str, color = Fore.BLUE, style = Style.BRIGHT):\n",
    "        \"Prints color outputs using colorama using a text F-string\";\n",
    "        print(style + color + text + Style.RESET_ALL)\n",
    "\n",
    "    def ScoreMetric(self, ytrue, ypred)-> float:\n",
    "        \"\"\"\n",
    "        This method calculates the custom metric from the imported script\n",
    "        Inputs- ytrue, ypred:- input truth and predictions\n",
    "        Output- float:- competition metric\n",
    "        \"\"\";\n",
    "        return matthews_corrcoef(ytrue, ypred)\n",
    "\n",
    "    def CleanMemory(self):\n",
    "        \"This method cleans the memory off unused objects and displays the cleaned state RAM usage\";\n",
    "\n",
    "        collect();\n",
    "        libc.malloc_trim(0)\n",
    "        pid        = getpid()\n",
    "        py         = Process(pid)\n",
    "        memory_use = py.memory_info()[0] / 2. ** 30\n",
    "        return f\"\\nRAM usage = {memory_use :.4} GB\"\n",
    "        \n",
    "Utils = Utility()\n",
    "print();\n"
   ]
  },
  {
   "cell_type": "code",
   "execution_count": 6,
   "id": "c91de268",
   "metadata": {
    "execution": {
     "iopub.execute_input": "2024-08-01T02:46:42.634466Z",
     "iopub.status.busy": "2024-08-01T02:46:42.634089Z",
     "iopub.status.idle": "2024-08-01T02:46:42.641300Z",
     "shell.execute_reply": "2024-08-01T02:46:42.640341Z"
    },
    "papermill": {
     "duration": 0.015752,
     "end_time": "2024-08-01T02:46:42.643427",
     "exception": false,
     "start_time": "2024-08-01T02:46:42.627675",
     "status": "completed"
    },
    "tags": []
   },
   "outputs": [
    {
     "name": "stdout",
     "output_type": "stream",
     "text": [
      "CPU times: user 6 µs, sys: 0 ns, total: 6 µs\n",
      "Wall time: 10.3 µs\n"
     ]
    }
   ],
   "source": [
    "%%time \n",
    "\n",
    "# Change this to False in the actual run\n",
    "test_req = False;\n",
    "\n",
    "target     = 'class'\n",
    "episode    = 8\n",
    "mapper     = {\"e\": 0, \"p\": 1}\n",
    "state      = 42\n",
    "version_nb = 1\n",
    "cutoff     = 0.60\n",
    "\n",
    "if test_req:\n",
    "    sample_frac = 0.001\n",
    "    time_budget = 180\n",
    "    n_splits    = 3\n",
    "    algos       = [\"lgb\", \"cb\"]\n",
    "    \n",
    "else:\n",
    "    time_budget = 12000\n",
    "    n_splits    = 5\n",
    "    algos       = [\"lgb\", \"cb\", ]"
   ]
  },
  {
   "cell_type": "markdown",
   "id": "b12dd92d",
   "metadata": {
    "papermill": {
     "duration": 0.005041,
     "end_time": "2024-08-01T02:46:42.653891",
     "exception": false,
     "start_time": "2024-08-01T02:46:42.648850",
     "status": "completed"
    },
    "tags": []
   },
   "source": [
    "# **PREPROCESSING**"
   ]
  },
  {
   "cell_type": "code",
   "execution_count": 7,
   "id": "6da75515",
   "metadata": {
    "_kg_hide-input": true,
    "execution": {
     "iopub.execute_input": "2024-08-01T02:46:42.667916Z",
     "iopub.status.busy": "2024-08-01T02:46:42.667062Z",
     "iopub.status.idle": "2024-08-01T02:46:48.555374Z",
     "shell.execute_reply": "2024-08-01T02:46:48.553943Z"
    },
    "papermill": {
     "duration": 5.897579,
     "end_time": "2024-08-01T02:46:48.557982",
     "exception": false,
     "start_time": "2024-08-01T02:46:42.660403",
     "status": "completed"
    },
    "tags": []
   },
   "outputs": [
    {
     "name": "stdout",
     "output_type": "stream",
     "text": [
      "\u001b[1m\u001b[34m---> Train test shape = (3116945, 21) | (2077964, 20)\u001b[0m\n",
      "\u001b[1m\u001b[34m\n",
      "\n",
      "---> Test set features\u001b[0m\n",
      "array(['capdiameter', 'capshape', 'capsurface', 'capcolor', 'doesbruiseorbleed', 'gillattachment', 'gillspacing', 'gillcolor', 'stemheight', 'stemwidth',\n",
      "       'stemroot', 'stemsurface', 'stemcolor', 'veiltype', 'veilcolor', 'hasring', 'ringtype', 'sporeprintcolor', 'habitat', 'season'], dtype=object)\n",
      "\n",
      "\n",
      "\n",
      "\n"
     ]
    },
    {
     "data": {
      "image/png": "[encoded data removed]",
      "text/plain": [
       "<Figure size 400x400 with 1 Axes>"
      ]
     },
     "metadata": {},
     "output_type": "display_data"
    },
    {
     "name": "stdout",
     "output_type": "stream",
     "text": [
      "\u001b[1m\u001b[34m\n",
      "RAM usage = 1.578 GB\u001b[0m\n",
      "CPU times: user 7.59 s, sys: 1.68 s, total: 9.27 s\n",
      "Wall time: 5.88 s\n"
     ]
    }
   ],
   "source": [
    "%%time \n",
    "\n",
    "train    = pd.read_parquet(f\"/kaggle/input/playgrounds4e08-dataorganization/train.parquet\")\n",
    "test     = pd.read_parquet(f\"/kaggle/input/playgrounds4e08-dataorganization/test.parquet\")\n",
    "sub_fl   = pd.read_parquet(f\"/kaggle/input/playgrounds4e08-dataorganization/sample_submission.parquet\")\n",
    "\n",
    "train[target] = train[target].map(mapper).astype(np.int8)\n",
    "Utils.PrintColor(f\"---> Train test shape = {train.shape} | {test.shape}\");   \n",
    "\n",
    "Utils.PrintColor(f\"\\n\\n---> Test set features\")\n",
    "strt_ftre = np.array(test.columns)\n",
    "with np.printoptions(linewidth = 160):\n",
    "    pprint(strt_ftre)\n",
    "\n",
    "print(\"\\n\\n\\n\")\n",
    "fig, ax = plt.subplots(1,1, figsize = (4,4))\n",
    "train[target].value_counts(normalize = True).plot.barh(color = 'tab:blue', ax = ax)\n",
    "ax.set_title(f\"Train target distribution plot\", color = \"maroon\")\n",
    "plt.show()\n",
    "\n",
    "Utils.PrintColor(Utils.CleanMemory())"
   ]
  },
  {
   "cell_type": "code",
   "execution_count": 8,
   "id": "ef97c28a",
   "metadata": {
    "execution": {
     "iopub.execute_input": "2024-08-01T02:46:48.571661Z",
     "iopub.status.busy": "2024-08-01T02:46:48.570983Z",
     "iopub.status.idle": "2024-08-01T02:46:48.827098Z",
     "shell.execute_reply": "2024-08-01T02:46:48.825642Z"
    },
    "papermill": {
     "duration": 0.265511,
     "end_time": "2024-08-01T02:46:48.829440",
     "exception": false,
     "start_time": "2024-08-01T02:46:48.563929",
     "status": "completed"
    },
    "tags": []
   },
   "outputs": [
    {
     "name": "stdout",
     "output_type": "stream",
     "text": [
      "\u001b[1m\u001b[34m\n",
      "---> Train test shape = (3116945, 21) | (2077964, 20)\u001b[0m\n",
      "\u001b[1m\u001b[34m\n",
      "RAM usage = 1.574 GB\u001b[0m\n",
      "CPU times: user 252 ms, sys: 2.16 ms, total: 254 ms\n",
      "Wall time: 249 ms\n"
     ]
    }
   ],
   "source": [
    "%%time \n",
    "\n",
    "if test_req:\n",
    "    train = train.groupby(target).sample(frac = 0.01)\n",
    "    Utils.PrintColor(f\"\\n\\n---> Train sample shape = {train.shape}\") \n",
    "    train.index.name = \"id\"\n",
    "    \n",
    "    test   = test.iloc[0:100]\n",
    "    sub_fl = sub_fl.iloc[0:100]\n",
    "    \n",
    "Utils.PrintColor(f\"\\n---> Train test shape = {train.shape} | {test.shape}\");\n",
    "Utils.PrintColor(Utils.CleanMemory())"
   ]
  },
  {
   "cell_type": "markdown",
   "id": "9f4488a2",
   "metadata": {
    "papermill": {
     "duration": 0.006231,
     "end_time": "2024-08-01T02:46:48.841539",
     "exception": false,
     "start_time": "2024-08-01T02:46:48.835308",
     "status": "completed"
    },
    "tags": []
   },
   "source": [
    "# **MODEL TRAINING**"
   ]
  },
  {
   "cell_type": "code",
   "execution_count": 9,
   "id": "cb5fb750",
   "metadata": {
    "_kg_hide-output": true,
    "execution": {
     "iopub.execute_input": "2024-08-01T02:46:48.855007Z",
     "iopub.status.busy": "2024-08-01T02:46:48.854601Z",
     "iopub.status.idle": "2024-08-01T03:31:42.832369Z",
     "shell.execute_reply": "2024-08-01T03:31:42.830912Z"
    },
    "papermill": {
     "duration": 2693.995749,
     "end_time": "2024-08-01T03:31:42.843171",
     "exception": false,
     "start_time": "2024-08-01T02:46:48.847422",
     "status": "completed"
    },
    "tags": []
   },
   "outputs": [
    {
     "name": "stdout",
     "output_type": "stream",
     "text": [
      "\u001b[1m\u001b[34m\n",
      "==================== MODEL TRAINING ====================\n",
      "\u001b[0m\n",
      "[02:46:48] Stdout logging level is INFO.\n",
      "[02:46:48] Copying TaskTimer may affect the parent PipelineTimer, so copy will create new unlimited TaskTimer\n",
      "[02:46:48] Task: binary\n",
      "\n",
      "[02:46:48] Start automl preset with listed constraints:\n",
      "[02:46:48] - time: 12000.00 seconds\n",
      "[02:46:48] - CPU: 4 cores\n",
      "[02:46:48] - memory: 16 GB\n",
      "\n",
      "[02:46:48] \u001b[1mTrain data shape: (3116945, 21)\u001b[0m\n",
      "\n",
      "[02:46:51] Layer \u001b[1m1\u001b[0m train process start. Time left 11997.36 secs\n",
      "[02:50:11] \u001b[1mSelector_LightGBM\u001b[0m fitting and predicting completed\n",
      "[02:52:52] Start fitting \u001b[1mLvl_0_Pipe_0_Mod_0_LightGBM\u001b[0m ...\n",
      "[03:15:20] Fitting \u001b[1mLvl_0_Pipe_0_Mod_0_LightGBM\u001b[0m finished. score = \u001b[1m-0.03697151173323632\u001b[0m\n",
      "[03:15:20] \u001b[1mLvl_0_Pipe_0_Mod_0_LightGBM\u001b[0m fitting and predicting completed\n",
      "[03:15:20] Start fitting \u001b[1mLvl_0_Pipe_0_Mod_1_CatBoost\u001b[0m ...\n",
      "[03:24:46] Fitting \u001b[1mLvl_0_Pipe_0_Mod_1_CatBoost\u001b[0m finished. score = \u001b[1m-0.08760589166649911\u001b[0m\n",
      "[03:24:46] \u001b[1mLvl_0_Pipe_0_Mod_1_CatBoost\u001b[0m fitting and predicting completed\n",
      "[03:24:46] Time left 9722.18 secs\n",
      "\n",
      "[03:24:46] \u001b[1mLayer 1 training completed.\u001b[0m\n",
      "\n",
      "[03:24:47] Blending: optimization starts with equal weights and score \u001b[1m-0.0550315222208119\u001b[0m\n",
      "[03:24:58] Blending: iteration \u001b[1m0\u001b[0m: score = \u001b[1m-0.03697151173323632\u001b[0m, weights = \u001b[1m[1. 0.]\u001b[0m\n",
      "[03:25:04] Blending: iteration \u001b[1m1\u001b[0m: score = \u001b[1m-0.03697151173323632\u001b[0m, weights = \u001b[1m[1. 0.]\u001b[0m\n",
      "[03:25:04] Blending: no score update. Terminated\n",
      "\n",
      "[03:25:04] \u001b[1mAutoml preset training completed in 2295.63 seconds\u001b[0m\n",
      "\n",
      "[03:25:04] Model description:\n",
      "Final prediction for new objects (level 0) = \n",
      "\t 1.00000 * (5 averaged models Lvl_0_Pipe_0_Mod_0_LightGBM) \n",
      "\n",
      "\u001b[1m\u001b[34m\n",
      "RAM usage = 3.461 GB\u001b[0m\n",
      "CPU times: user 2h 39min 12s, sys: 57.5 s, total: 2h 40min 10s\n",
      "Wall time: 44min 53s\n"
     ]
    }
   ],
   "source": [
    "%%time \n",
    "\n",
    "drop_cols = [\"id\"]\n",
    "\n",
    "Utils.PrintColor(f\"\\n{'=' * 20} MODEL TRAINING {'=' * 20}\\n\")\n",
    "\n",
    "model = TabularAutoML(task = Task('binary', loss = 'logloss', metric = 'logloss'),\n",
    "                      \n",
    "                      timeout   = time_budget,\n",
    "                      \n",
    "                      cpu_limit = 4,\n",
    "                      \n",
    "                      general_params = {\"use_algos\": [algos]},\n",
    "                      \n",
    "                      nn_params = {\"n_epochs\"       : 100,\n",
    "                                   \"bs\"             : 128,\n",
    "                                   \"num_workers\"    : 0,\n",
    "                                   \"path_to_save\"   : None,\n",
    "                                   \"freeze_defaults\": True,\n",
    "                                   \"cont_embedder\"  : \"cont\",\n",
    "                                   },\n",
    "                      \n",
    "                      nn_pipeline_params = {\"use_qnt\": False, \"use_te\": False},\n",
    "                      \n",
    "                      reader_params = {'n_jobs'        : 4,\n",
    "                                       'cv'            : n_splits,\n",
    "                                       'random_state'  : state,\n",
    "                                       'advanced_roles': False\n",
    "                                       },\n",
    "                      );\n",
    "\n",
    "oof_preds = \\\n",
    "model.fit_predict(train,\n",
    "                  roles   = {'target': target, \"drop\": drop_cols},\n",
    "                  verbose = 1\n",
    "                  );\n",
    "\n",
    "preds = model.predict(test.drop(columns = drop_cols, errors = \"ignore\"))\n",
    "\n",
    "Utils.PrintColor(Utils.CleanMemory())"
   ]
  },
  {
   "cell_type": "code",
   "execution_count": 10,
   "id": "7ff272d5",
   "metadata": {
    "execution": {
     "iopub.execute_input": "2024-08-01T03:31:42.860972Z",
     "iopub.status.busy": "2024-08-01T03:31:42.860525Z",
     "iopub.status.idle": "2024-08-01T03:31:43.179792Z",
     "shell.execute_reply": "2024-08-01T03:31:43.178722Z"
    },
    "papermill": {
     "duration": 0.331019,
     "end_time": "2024-08-01T03:31:43.182028",
     "exception": false,
     "start_time": "2024-08-01T03:31:42.851009",
     "status": "completed"
    },
    "tags": []
   },
   "outputs": [
    {
     "name": "stdout",
     "output_type": "stream",
     "text": [
      "\u001b[1m\u001b[34m\n",
      "Feature importances\n",
      "\u001b[0m\n"
     ]
    },
    {
     "data": {
      "text/html": [
       "<style type=\"text/css\">\n",
       "#T_aed04_row0_col0 {\n",
       "  width: 10em;\n",
       "  background: linear-gradient(90deg, #b3ecff 100.0%, transparent 100.0%);\n",
       "}\n",
       "#T_aed04_row1_col0 {\n",
       "  width: 10em;\n",
       "  background: linear-gradient(90deg, #b3ecff 96.7%, transparent 96.7%);\n",
       "}\n",
       "#T_aed04_row2_col0 {\n",
       "  width: 10em;\n",
       "  background: linear-gradient(90deg, #b3ecff 81.0%, transparent 81.0%);\n",
       "}\n",
       "#T_aed04_row3_col0 {\n",
       "  width: 10em;\n",
       "  background: linear-gradient(90deg, #b3ecff 73.7%, transparent 73.7%);\n",
       "}\n",
       "#T_aed04_row4_col0 {\n",
       "  width: 10em;\n",
       "  background: linear-gradient(90deg, #b3ecff 68.9%, transparent 68.9%);\n",
       "}\n",
       "#T_aed04_row5_col0 {\n",
       "  width: 10em;\n",
       "  background: linear-gradient(90deg, #b3ecff 63.2%, transparent 63.2%);\n",
       "}\n",
       "#T_aed04_row6_col0 {\n",
       "  width: 10em;\n",
       "  background: linear-gradient(90deg, #b3ecff 49.1%, transparent 49.1%);\n",
       "}\n",
       "#T_aed04_row7_col0 {\n",
       "  width: 10em;\n",
       "  background: linear-gradient(90deg, #b3ecff 47.2%, transparent 47.2%);\n",
       "}\n",
       "#T_aed04_row8_col0 {\n",
       "  width: 10em;\n",
       "  background: linear-gradient(90deg, #b3ecff 43.7%, transparent 43.7%);\n",
       "}\n",
       "#T_aed04_row9_col0 {\n",
       "  width: 10em;\n",
       "  background: linear-gradient(90deg, #b3ecff 33.7%, transparent 33.7%);\n",
       "}\n",
       "#T_aed04_row10_col0 {\n",
       "  width: 10em;\n",
       "  background: linear-gradient(90deg, #b3ecff 32.8%, transparent 32.8%);\n",
       "}\n",
       "#T_aed04_row11_col0 {\n",
       "  width: 10em;\n",
       "  background: linear-gradient(90deg, #b3ecff 31.5%, transparent 31.5%);\n",
       "}\n",
       "#T_aed04_row12_col0 {\n",
       "  width: 10em;\n",
       "  background: linear-gradient(90deg, #b3ecff 27.2%, transparent 27.2%);\n",
       "}\n",
       "#T_aed04_row13_col0 {\n",
       "  width: 10em;\n",
       "  background: linear-gradient(90deg, #b3ecff 27.0%, transparent 27.0%);\n",
       "}\n",
       "#T_aed04_row14_col0 {\n",
       "  width: 10em;\n",
       "  background: linear-gradient(90deg, #b3ecff 24.7%, transparent 24.7%);\n",
       "}\n",
       "#T_aed04_row15_col0 {\n",
       "  width: 10em;\n",
       "  background: linear-gradient(90deg, #b3ecff 13.4%, transparent 13.4%);\n",
       "}\n",
       "#T_aed04_row16_col0 {\n",
       "  width: 10em;\n",
       "  background: linear-gradient(90deg, #b3ecff 11.7%, transparent 11.7%);\n",
       "}\n",
       "#T_aed04_row17_col0 {\n",
       "  width: 10em;\n",
       "  background: linear-gradient(90deg, #b3ecff 11.3%, transparent 11.3%);\n",
       "}\n",
       "#T_aed04_row18_col0 {\n",
       "  width: 10em;\n",
       "  background: linear-gradient(90deg, #b3ecff 4.9%, transparent 4.9%);\n",
       "}\n",
       "#T_aed04_row19_col0 {\n",
       "  width: 10em;\n",
       "  background: linear-gradient(90deg, #b3ecff 1.7%, transparent 1.7%);\n",
       "}\n",
       "</style>\n",
       "<table id=\"T_aed04\">\n",
       "  <thead>\n",
       "    <tr>\n",
       "      <th class=\"blank level0\" >&nbsp;</th>\n",
       "      <th id=\"T_aed04_level0_col0\" class=\"col_heading level0 col0\" >Importance</th>\n",
       "    </tr>\n",
       "    <tr>\n",
       "      <th class=\"index_name level0\" >Feature</th>\n",
       "      <th class=\"blank col0\" >&nbsp;</th>\n",
       "    </tr>\n",
       "  </thead>\n",
       "  <tbody>\n",
       "    <tr>\n",
       "      <th id=\"T_aed04_level0_row0\" class=\"row_heading level0 row0\" >capsurface</th>\n",
       "      <td id=\"T_aed04_row0_col0\" class=\"data row0 col0\" >2,809,085.85</td>\n",
       "    </tr>\n",
       "    <tr>\n",
       "      <th id=\"T_aed04_level0_row1\" class=\"row_heading level0 row1\" >stemwidth</th>\n",
       "      <td id=\"T_aed04_row1_col0\" class=\"data row1 col0\" >2,716,486.62</td>\n",
       "    </tr>\n",
       "    <tr>\n",
       "      <th id=\"T_aed04_level0_row2\" class=\"row_heading level0 row2\" >gillspacing</th>\n",
       "      <td id=\"T_aed04_row2_col0\" class=\"data row2 col0\" >2,274,074.89</td>\n",
       "    </tr>\n",
       "    <tr>\n",
       "      <th id=\"T_aed04_level0_row3\" class=\"row_heading level0 row3\" >stemcolor</th>\n",
       "      <td id=\"T_aed04_row3_col0\" class=\"data row3 col0\" >2,069,837.31</td>\n",
       "    </tr>\n",
       "    <tr>\n",
       "      <th id=\"T_aed04_level0_row4\" class=\"row_heading level0 row4\" >gillattachment</th>\n",
       "      <td id=\"T_aed04_row4_col0\" class=\"data row4 col0\" >1,936,610.09</td>\n",
       "    </tr>\n",
       "    <tr>\n",
       "      <th id=\"T_aed04_level0_row5\" class=\"row_heading level0 row5\" >stemsurface</th>\n",
       "      <td id=\"T_aed04_row5_col0\" class=\"data row5 col0\" >1,774,637.10</td>\n",
       "    </tr>\n",
       "    <tr>\n",
       "      <th id=\"T_aed04_level0_row6\" class=\"row_heading level0 row6\" >stemheight</th>\n",
       "      <td id=\"T_aed04_row6_col0\" class=\"data row6 col0\" >1,379,175.31</td>\n",
       "    </tr>\n",
       "    <tr>\n",
       "      <th id=\"T_aed04_level0_row7\" class=\"row_heading level0 row7\" >ringtype</th>\n",
       "      <td id=\"T_aed04_row7_col0\" class=\"data row7 col0\" >1,326,754.38</td>\n",
       "    </tr>\n",
       "    <tr>\n",
       "      <th id=\"T_aed04_level0_row8\" class=\"row_heading level0 row8\" >stemroot</th>\n",
       "      <td id=\"T_aed04_row8_col0\" class=\"data row8 col0\" >1,227,649.33</td>\n",
       "    </tr>\n",
       "    <tr>\n",
       "      <th id=\"T_aed04_level0_row9\" class=\"row_heading level0 row9\" >gillcolor</th>\n",
       "      <td id=\"T_aed04_row9_col0\" class=\"data row9 col0\" >945,798.27</td>\n",
       "    </tr>\n",
       "    <tr>\n",
       "      <th id=\"T_aed04_level0_row10\" class=\"row_heading level0 row10\" >capdiameter</th>\n",
       "      <td id=\"T_aed04_row10_col0\" class=\"data row10 col0\" >921,858.96</td>\n",
       "    </tr>\n",
       "    <tr>\n",
       "      <th id=\"T_aed04_level0_row11\" class=\"row_heading level0 row11\" >capcolor</th>\n",
       "      <td id=\"T_aed04_row11_col0\" class=\"data row11 col0\" >883,966.28</td>\n",
       "    </tr>\n",
       "    <tr>\n",
       "      <th id=\"T_aed04_level0_row12\" class=\"row_heading level0 row12\" >doesbruiseorbleed</th>\n",
       "      <td id=\"T_aed04_row12_col0\" class=\"data row12 col0\" >763,364.28</td>\n",
       "    </tr>\n",
       "    <tr>\n",
       "      <th id=\"T_aed04_level0_row13\" class=\"row_heading level0 row13\" >habitat</th>\n",
       "      <td id=\"T_aed04_row13_col0\" class=\"data row13 col0\" >757,659.06</td>\n",
       "    </tr>\n",
       "    <tr>\n",
       "      <th id=\"T_aed04_level0_row14\" class=\"row_heading level0 row14\" >capshape</th>\n",
       "      <td id=\"T_aed04_row14_col0\" class=\"data row14 col0\" >694,371.22</td>\n",
       "    </tr>\n",
       "    <tr>\n",
       "      <th id=\"T_aed04_level0_row15\" class=\"row_heading level0 row15\" >hasring</th>\n",
       "      <td id=\"T_aed04_row15_col0\" class=\"data row15 col0\" >375,149.59</td>\n",
       "    </tr>\n",
       "    <tr>\n",
       "      <th id=\"T_aed04_level0_row16\" class=\"row_heading level0 row16\" >veilcolor</th>\n",
       "      <td id=\"T_aed04_row16_col0\" class=\"data row16 col0\" >328,651.62</td>\n",
       "    </tr>\n",
       "    <tr>\n",
       "      <th id=\"T_aed04_level0_row17\" class=\"row_heading level0 row17\" >veiltype</th>\n",
       "      <td id=\"T_aed04_row17_col0\" class=\"data row17 col0\" >316,166.89</td>\n",
       "    </tr>\n",
       "    <tr>\n",
       "      <th id=\"T_aed04_level0_row18\" class=\"row_heading level0 row18\" >sporeprintcolor</th>\n",
       "      <td id=\"T_aed04_row18_col0\" class=\"data row18 col0\" >137,168.90</td>\n",
       "    </tr>\n",
       "    <tr>\n",
       "      <th id=\"T_aed04_level0_row19\" class=\"row_heading level0 row19\" >season</th>\n",
       "      <td id=\"T_aed04_row19_col0\" class=\"data row19 col0\" >46,527.85</td>\n",
       "    </tr>\n",
       "  </tbody>\n",
       "</table>\n"
      ],
      "text/plain": [
       "<pandas.io.formats.style.Styler at 0x7b341f8a5510>"
      ]
     },
     "metadata": {},
     "output_type": "display_data"
    },
    {
     "name": "stdout",
     "output_type": "stream",
     "text": [
      "\u001b[1m\u001b[34m\n",
      "RAM usage = 3.461 GB\u001b[0m\n",
      "CPU times: user 305 ms, sys: 3.01 ms, total: 308 ms\n",
      "Wall time: 313 ms\n"
     ]
    }
   ],
   "source": [
    "%%time \n",
    "\n",
    "Utils.PrintColor(f\"\\nFeature importances\\n\")\n",
    "display(model.get_feature_scores('fast').\\\n",
    "        set_index(\"Feature\").style.\\\n",
    "        format(formatter = '{:,.2f}').\\\n",
    "        bar(color = \"#b3ecff\")\n",
    "       )\n",
    "\n",
    "Utils.PrintColor(Utils.CleanMemory());"
   ]
  },
  {
   "cell_type": "markdown",
   "id": "f4d7d830",
   "metadata": {
    "papermill": {
     "duration": 0.007822,
     "end_time": "2024-08-01T03:31:43.198225",
     "exception": false,
     "start_time": "2024-08-01T03:31:43.190403",
     "status": "completed"
    },
    "tags": []
   },
   "source": [
    "# **SUBMISSION**"
   ]
  },
  {
   "cell_type": "code",
   "execution_count": 11,
   "id": "0716d484",
   "metadata": {
    "execution": {
     "iopub.execute_input": "2024-08-01T03:31:43.216610Z",
     "iopub.status.busy": "2024-08-01T03:31:43.215626Z",
     "iopub.status.idle": "2024-08-01T03:31:48.338567Z",
     "shell.execute_reply": "2024-08-01T03:31:48.336872Z"
    },
    "papermill": {
     "duration": 5.134963,
     "end_time": "2024-08-01T03:31:48.341181",
     "exception": false,
     "start_time": "2024-08-01T03:31:43.206218",
     "status": "completed"
    },
    "tags": []
   },
   "outputs": [
    {
     "name": "stdout",
     "output_type": "stream",
     "text": [
      "\u001b[1m\u001b[31m\n",
      "---> OOF score = 0.983821\u001b[0m\n",
      "\u001b[1m\u001b[34m\n",
      "\n",
      "---> Final submission file\n",
      "\n",
      "\u001b[0m\n"
     ]
    },
    {
     "data": {
      "text/html": [
       "<style type=\"text/css\">\n",
       "</style>\n",
       "<table id=\"T_711fc\">\n",
       "  <thead>\n",
       "    <tr>\n",
       "      <th class=\"blank level0\" >&nbsp;</th>\n",
       "      <th id=\"T_711fc_level0_col0\" class=\"col_heading level0 col0\" >class</th>\n",
       "    </tr>\n",
       "    <tr>\n",
       "      <th class=\"index_name level0\" >id</th>\n",
       "      <th class=\"blank col0\" >&nbsp;</th>\n",
       "    </tr>\n",
       "  </thead>\n",
       "  <tbody>\n",
       "    <tr>\n",
       "      <th id=\"T_711fc_level0_row0\" class=\"row_heading level0 row0\" >3116945</th>\n",
       "      <td id=\"T_711fc_row0_col0\" class=\"data row0 col0\" >e</td>\n",
       "    </tr>\n",
       "    <tr>\n",
       "      <th id=\"T_711fc_level0_row1\" class=\"row_heading level0 row1\" >3116946</th>\n",
       "      <td id=\"T_711fc_row1_col0\" class=\"data row1 col0\" >p</td>\n",
       "    </tr>\n",
       "    <tr>\n",
       "      <th id=\"T_711fc_level0_row2\" class=\"row_heading level0 row2\" >3116947</th>\n",
       "      <td id=\"T_711fc_row2_col0\" class=\"data row2 col0\" >p</td>\n",
       "    </tr>\n",
       "    <tr>\n",
       "      <th id=\"T_711fc_level0_row3\" class=\"row_heading level0 row3\" >3116948</th>\n",
       "      <td id=\"T_711fc_row3_col0\" class=\"data row3 col0\" >p</td>\n",
       "    </tr>\n",
       "    <tr>\n",
       "      <th id=\"T_711fc_level0_row4\" class=\"row_heading level0 row4\" >3116949</th>\n",
       "      <td id=\"T_711fc_row4_col0\" class=\"data row4 col0\" >e</td>\n",
       "    </tr>\n",
       "    <tr>\n",
       "      <th id=\"T_711fc_level0_row5\" class=\"row_heading level0 row5\" >3116950</th>\n",
       "      <td id=\"T_711fc_row5_col0\" class=\"data row5 col0\" >e</td>\n",
       "    </tr>\n",
       "    <tr>\n",
       "      <th id=\"T_711fc_level0_row6\" class=\"row_heading level0 row6\" >3116951</th>\n",
       "      <td id=\"T_711fc_row6_col0\" class=\"data row6 col0\" >e</td>\n",
       "    </tr>\n",
       "    <tr>\n",
       "      <th id=\"T_711fc_level0_row7\" class=\"row_heading level0 row7\" >3116952</th>\n",
       "      <td id=\"T_711fc_row7_col0\" class=\"data row7 col0\" >p</td>\n",
       "    </tr>\n",
       "    <tr>\n",
       "      <th id=\"T_711fc_level0_row8\" class=\"row_heading level0 row8\" >3116953</th>\n",
       "      <td id=\"T_711fc_row8_col0\" class=\"data row8 col0\" >p</td>\n",
       "    </tr>\n",
       "    <tr>\n",
       "      <th id=\"T_711fc_level0_row9\" class=\"row_heading level0 row9\" >3116954</th>\n",
       "      <td id=\"T_711fc_row9_col0\" class=\"data row9 col0\" >e</td>\n",
       "    </tr>\n",
       "  </tbody>\n",
       "</table>\n"
      ],
      "text/plain": [
       "<pandas.io.formats.style.Styler at 0x7b341f8a7c40>"
      ]
     },
     "metadata": {},
     "output_type": "display_data"
    },
    {
     "name": "stdout",
     "output_type": "stream",
     "text": [
      "\u001b[1m\u001b[34m\n",
      "RAM usage = 3.48 GB\u001b[0m\n",
      "Mdl_Preds_V1.parquet\t  __notebook__.ipynb\r\n",
      "OOF_Preds_LAMAV1.parquet  submission.csv\r\n",
      "CPU times: user 3.6 s, sys: 370 ms, total: 3.97 s\n",
      "Wall time: 5.11 s\n"
     ]
    }
   ],
   "source": [
    "%%time \n",
    "\n",
    "\n",
    "score = Utils.ScoreMetric(train[target].values, \n",
    "                          np.where(oof_preds.data.flatten() > 0.6,1,0))\n",
    "Utils.PrintColor(f\"\\n---> OOF score = {score:.6f}\", color = Fore.RED)\n",
    "\n",
    "sub_fl[target] = preds.data.flatten()\n",
    "sub_fl.to_parquet(f\"Mdl_Preds_V{version_nb}.parquet\")\n",
    "\n",
    "pd.DataFrame(oof_preds.data.flatten(), \n",
    "             index = train.index, \n",
    "             columns = [f\"LAMA_V{version_nb}\"]\n",
    "            ).\\\n",
    "to_parquet(f\"OOF_Preds_LAMAV{version_nb}.parquet\")\n",
    "\n",
    "sub_fl[target] = np.where(sub_fl[target] >= 0.6, \"p\", \"e\")\n",
    "\n",
    "Utils.PrintColor(f\"\\n\\n---> Final submission file\\n\\n\")\n",
    "display(sub_fl.head(10).style.format(precision = 4))\n",
    "sub_fl.to_csv(\"submission.csv\", index = None)\n",
    "\n",
    "Utils.PrintColor(Utils.CleanMemory());\n",
    "!ls"
   ]
  }
 ],
 "metadata": {
  "kaggle": {
   "accelerator": "none",
   "dataSources": [
    {
     "databundleVersionId": 9045607,
     "sourceId": 76727,
     "sourceType": "competition"
    },
    {
     "sourceId": 189127690,
     "sourceType": "kernelVersion"
    },
    {
     "sourceId": 190668229,
     "sourceType": "kernelVersion"
    },
    {
     "sourceId": 190672036,
     "sourceType": "kernelVersion"
    }
   ],
   "dockerImageVersionId": 30673,
   "isGpuEnabled": false,
   "isInternetEnabled": true,
   "language": "python",
   "sourceType": "notebook"
  },
  "kernelspec": {
   "display_name": "Python 3",
   "language": "python",
   "name": "python3"
  },
  "language_info": {
   "codemirror_mode": {
    "name": "ipython",
    "version": 3
   },
   "file_extension": ".py",
   "mimetype": "text/x-python",
   "name": "python",
   "nbconvert_exporter": "python",
   "pygments_lexer": "ipython3",
   "version": "3.10.13"
  },
  "papermill": {
   "default_parameters": {},
   "duration": 2886.37317,
   "end_time": "2024-08-01T03:31:51.077738",
   "environment_variables": {},
   "exception": null,
   "input_path": "__notebook__.ipynb",
   "output_path": "__notebook__.ipynb",
   "parameters": {},
   "start_time": "2024-08-01T02:43:44.704568",
   "version": "2.5.0"
  }
 },
 "nbformat": 4,
 "nbformat_minor": 5
}
