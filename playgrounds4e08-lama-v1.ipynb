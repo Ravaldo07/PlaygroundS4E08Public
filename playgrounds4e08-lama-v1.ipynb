{
 "cells": [
  {
   "cell_type": "markdown",
   "id": "a9d1ed9e",
   "metadata": {
    "papermill": {
     "duration": 0.0069,
     "end_time": "2024-08-01T02:52:40.304324",
     "exception": false,
     "start_time": "2024-08-01T02:52:40.297424",
     "status": "completed"
    },
    "tags": []
   },
   "source": [
    "# **PACKAGE IMPORTS AND INSTALLATIONS**"
   ]
  },
  {
   "cell_type": "code",
   "execution_count": 1,
   "id": "12f6668d",
   "metadata": {
    "execution": {
     "iopub.execute_input": "2024-08-01T02:52:40.319422Z",
     "iopub.status.busy": "2024-08-01T02:52:40.318960Z",
     "iopub.status.idle": "2024-08-01T02:55:16.984754Z",
     "shell.execute_reply": "2024-08-01T02:55:16.983365Z"
    },
    "papermill": {
     "duration": 156.676454,
     "end_time": "2024-08-01T02:55:16.987424",
     "exception": false,
     "start_time": "2024-08-01T02:52:40.310970",
     "status": "completed"
    },
    "tags": []
   },
   "outputs": [
    {
     "name": "stdout",
     "output_type": "stream",
     "text": [
      "CPU times: user 3.12 s, sys: 640 ms, total: 3.76 s\n",
      "Wall time: 2min 36s\n"
     ]
    }
   ],
   "source": [
    "%%time \n",
    "\n",
    "from IPython.display import clear_output, HTML\n",
    "from gc import collect\n",
    "\n",
    "!pip install \\\n",
    "--no-index \\\n",
    "--find-links=/kaggle/input/package-dependencies/LAMA038 lightautoml -q\n",
    "\n",
    "!pip install \\\n",
    "--no-index \\\n",
    "--find-links=/kaggle/input/packages-datawrangling-v1/Polars121 -q polars\n",
    "\n",
    "collect();\n",
    "clear_output();\n"
   ]
  },
  {
   "cell_type": "code",
   "execution_count": 2,
   "id": "bd4c74b0",
   "metadata": {
    "execution": {
     "iopub.execute_input": "2024-08-01T02:55:17.003128Z",
     "iopub.status.busy": "2024-08-01T02:55:17.002124Z",
     "iopub.status.idle": "2024-08-01T02:55:19.656779Z",
     "shell.execute_reply": "2024-08-01T02:55:19.655551Z"
    },
    "papermill": {
     "duration": 2.665268,
     "end_time": "2024-08-01T02:55:19.659401",
     "exception": false,
     "start_time": "2024-08-01T02:55:16.994133",
     "status": "completed"
    },
    "tags": []
   },
   "outputs": [
    {
     "name": "stdout",
     "output_type": "stream",
     "text": [
      "\n",
      "CPU times: user 1.55 s, sys: 483 ms, total: 2.03 s\n",
      "Wall time: 2.64 s\n"
     ]
    },
    {
     "data": {
      "text/plain": [
       "0"
      ]
     },
     "execution_count": 2,
     "metadata": {},
     "output_type": "execute_result"
    }
   ],
   "source": [
    "%%time \n",
    "\n",
    "from warnings import filterwarnings\n",
    "filterwarnings('ignore')\n",
    "\n",
    "from os import path, walk, getpid\n",
    "from psutil import Process\n",
    "import re\n",
    "from collections import Counter\n",
    "from itertools import product\n",
    "\n",
    "import ctypes\n",
    "libc = ctypes.CDLL(\"libc.so.6\")\n",
    "\n",
    "from IPython.display import display_html, clear_output\n",
    "from pprint import pprint\n",
    "from functools import partial\n",
    "from copy import deepcopy\n",
    "import pandas as pd, numpy as np, os, joblib\n",
    "import polars as pl\n",
    "import polars.selectors as cs\n",
    "import re\n",
    "\n",
    "from warnings import filterwarnings\n",
    "filterwarnings('ignore')\n",
    "\n",
    "import matplotlib.pyplot as plt\n",
    "import seaborn as sns\n",
    "\n",
    "from colorama import Fore, Style, init\n",
    "from warnings import filterwarnings\n",
    "filterwarnings('ignore')\n",
    "from tqdm.notebook import tqdm\n",
    "\n",
    "print()\n",
    "collect()"
   ]
  },
  {
   "cell_type": "code",
   "execution_count": 3,
   "id": "260c88e4",
   "metadata": {
    "execution": {
     "iopub.execute_input": "2024-08-01T02:55:19.676261Z",
     "iopub.status.busy": "2024-08-01T02:55:19.675283Z",
     "iopub.status.idle": "2024-08-01T02:56:05.711113Z",
     "shell.execute_reply": "2024-08-01T02:56:05.709815Z"
    },
    "papermill": {
     "duration": 46.053777,
     "end_time": "2024-08-01T02:56:05.720058",
     "exception": false,
     "start_time": "2024-08-01T02:55:19.666281",
     "status": "completed"
    },
    "tags": []
   },
   "outputs": [
    {
     "name": "stdout",
     "output_type": "stream",
     "text": [
      "CPU times: user 40.4 s, sys: 1.25 s, total: 41.7 s\n",
      "Wall time: 46 s\n"
     ]
    }
   ],
   "source": [
    "%%time \n",
    "\n",
    "# Pipeline specific packages:-\n",
    "from sklearn.pipeline import Pipeline, make_pipeline\n",
    "from sklearn.base import BaseEstimator, TransformerMixin\n",
    "\n",
    "# AutoML package:-\n",
    "from lightautoml.automl.presets.tabular_presets import TabularAutoML\n",
    "from lightautoml.tasks import Task\n",
    "from sklearn.metrics import accuracy_score, roc_auc_score, log_loss, matthews_corrcoef"
   ]
  },
  {
   "cell_type": "code",
   "execution_count": 4,
   "id": "bcef13ce",
   "metadata": {
    "execution": {
     "iopub.execute_input": "2024-08-01T02:56:05.736389Z",
     "iopub.status.busy": "2024-08-01T02:56:05.735640Z",
     "iopub.status.idle": "2024-08-01T02:56:06.017003Z",
     "shell.execute_reply": "2024-08-01T02:56:06.015052Z"
    },
    "papermill": {
     "duration": 0.293505,
     "end_time": "2024-08-01T02:56:06.020790",
     "exception": false,
     "start_time": "2024-08-01T02:56:05.727285",
     "status": "completed"
    },
    "tags": []
   },
   "outputs": [
    {
     "name": "stdout",
     "output_type": "stream",
     "text": [
      "CPU times: user 268 ms, sys: 2.06 ms, total: 270 ms\n",
      "Wall time: 266 ms\n"
     ]
    },
    {
     "data": {
      "text/plain": [
       "0"
      ]
     },
     "execution_count": 4,
     "metadata": {},
     "output_type": "execute_result"
    }
   ],
   "source": [
    "%%time\n",
    "\n",
    "# Making sklearn pipeline outputs as dataframe:-\n",
    "from sklearn import set_config\n",
    "set_config(transform_output = \"pandas\")\n",
    "pd.set_option('display.max_columns', 50)\n",
    "pd.set_option('display.max_rows', 50)\n",
    "pd.set_option('display.precision', 3)\n",
    "np.random.seed(42)\n",
    "\n",
    "# Setting plots configuration:-\n",
    "sns.set({\"axes.facecolor\"       : \"#ffffff\",\n",
    "         \"figure.facecolor\"     : \"#ffffff\",\n",
    "         \"axes.edgecolor\"       : \"#000000\",\n",
    "         \"grid.color\"           : \"#ffffff\",\n",
    "         \"font.family\"          : ['Cambria'],\n",
    "         \"axes.labelcolor\"      : \"#000000\",\n",
    "         \"xtick.color\"          : \"#000000\",\n",
    "         \"ytick.color\"          : \"#000000\",\n",
    "         \"grid.linewidth\"       : 0.75,  \n",
    "         \"grid.linestyle\"       : \"--\",\n",
    "         \"axes.titlecolor\"      : '#0099e6',\n",
    "         'axes.titlesize'       : 8.5,\n",
    "         'axes.labelweight'     : \"bold\",\n",
    "         'legend.fontsize'      : 7.0,\n",
    "         'legend.title_fontsize': 7.0,\n",
    "         'font.size'            : 7.5,\n",
    "         'xtick.labelsize'      : 7.5,\n",
    "         'ytick.labelsize'      : 7.5,        \n",
    "        })\n",
    "\n",
    "collect()"
   ]
  },
  {
   "cell_type": "markdown",
   "id": "55855fe8",
   "metadata": {
    "papermill": {
     "duration": 0.007026,
     "end_time": "2024-08-01T02:56:06.036528",
     "exception": false,
     "start_time": "2024-08-01T02:56:06.029502",
     "status": "completed"
    },
    "tags": []
   },
   "source": [
    "# **APPROACH DETAILS**"
   ]
  },
  {
   "cell_type": "markdown",
   "id": "23bfcb71",
   "metadata": {
    "papermill": {
     "duration": 0.008,
     "end_time": "2024-08-01T02:56:06.053584",
     "exception": false,
     "start_time": "2024-08-01T02:56:06.045584",
     "status": "completed"
    },
    "tags": []
   },
   "source": [
    "**Data columns**<br>\n",
    "This is available in the original data description as [here](https://www.kaggle.com/competitions/playground-series-s4e8/discussion/523406) <br>\n",
    "\n",
    "**Competition details and notebook objectives**\n",
    "1. This is a binary-classification challenge to predict 2 classes in the target (class). **Mathews correlation** is the metric for the challenge - **this needs to be maximized**<br>\n",
    "2. In this starter notebook, we start the assignment with an auto ML solution with minimal EDA. Let's explore the dataset and build better models going ahead!<br>"
   ]
  },
  {
   "cell_type": "markdown",
   "id": "824dd4d3",
   "metadata": {
    "papermill": {
     "duration": 0.007822,
     "end_time": "2024-08-01T02:56:06.069358",
     "exception": false,
     "start_time": "2024-08-01T02:56:06.061536",
     "status": "completed"
    },
    "tags": []
   },
   "source": [
    "|Version Number|Details|CV score|LB score|\n",
    "|--------| --------| :-:|:-:|\n",
    "|1       | * Auto ML without any additional transforms/ features <br> * Boosted tree models <br> * Used competition data only | | |"
   ]
  },
  {
   "cell_type": "code",
   "execution_count": 5,
   "id": "f9328581",
   "metadata": {
    "_kg_hide-input": true,
    "execution": {
     "iopub.execute_input": "2024-08-01T02:56:06.086064Z",
     "iopub.status.busy": "2024-08-01T02:56:06.085664Z",
     "iopub.status.idle": "2024-08-01T02:56:06.095937Z",
     "shell.execute_reply": "2024-08-01T02:56:06.094655Z"
    },
    "papermill": {
     "duration": 0.022755,
     "end_time": "2024-08-01T02:56:06.099402",
     "exception": false,
     "start_time": "2024-08-01T02:56:06.076647",
     "status": "completed"
    },
    "tags": []
   },
   "outputs": [
    {
     "name": "stdout",
     "output_type": "stream",
     "text": [
      "\n",
      "CPU times: user 119 µs, sys: 0 ns, total: 119 µs\n",
      "Wall time: 124 µs\n"
     ]
    }
   ],
   "source": [
    "%%time\n",
    "\n",
    "class Utility:\n",
    "    \"\"\"\n",
    "    This class serves to do the below-\n",
    "    1. Define method to print in color\n",
    "    2. Define the garbage cleaning process\n",
    "    \"\"\";\n",
    "\n",
    "    def PrintColor(self,text:str, color = Fore.BLUE, style = Style.BRIGHT):\n",
    "        \"Prints color outputs using colorama using a text F-string\";\n",
    "        print(style + color + text + Style.RESET_ALL)\n",
    "\n",
    "    def ScoreMetric(self, ytrue, ypred)-> float:\n",
    "        \"\"\"\n",
    "        This method calculates the custom metric from the imported script\n",
    "        Inputs- ytrue, ypred:- input truth and predictions\n",
    "        Output- float:- competition metric\n",
    "        \"\"\";\n",
    "        return matthews_corrcoef(ytrue, ypred)\n",
    "\n",
    "    def CleanMemory(self):\n",
    "        \"This method cleans the memory off unused objects and displays the cleaned state RAM usage\";\n",
    "\n",
    "        collect();\n",
    "        libc.malloc_trim(0)\n",
    "        pid        = getpid()\n",
    "        py         = Process(pid)\n",
    "        memory_use = py.memory_info()[0] / 2. ** 30\n",
    "        return f\"\\nRAM usage = {memory_use :.4} GB\"\n",
    "        \n",
    "Utils = Utility()\n",
    "print();\n"
   ]
  },
  {
   "cell_type": "code",
   "execution_count": 6,
   "id": "a4eba3d3",
   "metadata": {
    "execution": {
     "iopub.execute_input": "2024-08-01T02:56:06.115771Z",
     "iopub.status.busy": "2024-08-01T02:56:06.115390Z",
     "iopub.status.idle": "2024-08-01T02:56:06.123484Z",
     "shell.execute_reply": "2024-08-01T02:56:06.122179Z"
    },
    "papermill": {
     "duration": 0.020255,
     "end_time": "2024-08-01T02:56:06.126865",
     "exception": false,
     "start_time": "2024-08-01T02:56:06.106610",
     "status": "completed"
    },
    "tags": []
   },
   "outputs": [
    {
     "name": "stdout",
     "output_type": "stream",
     "text": [
      "CPU times: user 7 µs, sys: 1e+03 ns, total: 8 µs\n",
      "Wall time: 11.7 µs\n"
     ]
    }
   ],
   "source": [
    "%%time \n",
    "\n",
    "# Change this to False in the actual run\n",
    "test_req = True;\n",
    "\n",
    "target     = 'class'\n",
    "episode    = 8\n",
    "mapper     = {\"e\": 0, \"p\": 1}\n",
    "state      = 42\n",
    "version_nb = 1\n",
    "cutoff     = 0.60\n",
    "\n",
    "if test_req:\n",
    "    sample_frac = 0.001\n",
    "    time_budget = 180\n",
    "    n_splits    = 3\n",
    "    algos       = [\"lgb\", \"cb\"]\n",
    "    \n",
    "else:\n",
    "    time_budget = 12000\n",
    "    n_splits    = 5\n",
    "    algos       = [\"lgb\", \"cb\", ]"
   ]
  },
  {
   "cell_type": "markdown",
   "id": "cc5f3eac",
   "metadata": {
    "papermill": {
     "duration": 0.006952,
     "end_time": "2024-08-01T02:56:06.142330",
     "exception": false,
     "start_time": "2024-08-01T02:56:06.135378",
     "status": "completed"
    },
    "tags": []
   },
   "source": [
    "# **PREPROCESSING**"
   ]
  },
  {
   "cell_type": "code",
   "execution_count": 7,
   "id": "a65418ef",
   "metadata": {
    "_kg_hide-input": true,
    "execution": {
     "iopub.execute_input": "2024-08-01T02:56:06.159130Z",
     "iopub.status.busy": "2024-08-01T02:56:06.158704Z",
     "iopub.status.idle": "2024-08-01T02:56:12.255940Z",
     "shell.execute_reply": "2024-08-01T02:56:12.254543Z"
    },
    "papermill": {
     "duration": 6.108685,
     "end_time": "2024-08-01T02:56:12.258535",
     "exception": false,
     "start_time": "2024-08-01T02:56:06.149850",
     "status": "completed"
    },
    "tags": []
   },
   "outputs": [
    {
     "name": "stdout",
     "output_type": "stream",
     "text": [
      "\u001b[1m\u001b[34m---> Train test shape = (3116945, 21) | (2077964, 20)\u001b[0m\n",
      "\u001b[1m\u001b[34m\n",
      "\n",
      "---> Test set features\u001b[0m\n",
      "array(['capdiameter', 'capshape', 'capsurface', 'capcolor', 'doesbruiseorbleed', 'gillattachment', 'gillspacing', 'gillcolor', 'stemheight', 'stemwidth',\n",
      "       'stemroot', 'stemsurface', 'stemcolor', 'veiltype', 'veilcolor', 'hasring', 'ringtype', 'sporeprintcolor', 'habitat', 'season'], dtype=object)\n",
      "\n",
      "\n",
      "\n",
      "\n"
     ]
    },
    {
     "data": {
      "image/png": "[encoded data removed]",
      "text/plain": [
       "<Figure size 400x400 with 1 Axes>"
      ]
     },
     "metadata": {},
     "output_type": "display_data"
    },
    {
     "name": "stdout",
     "output_type": "stream",
     "text": [
      "\u001b[1m\u001b[34m\n",
      "RAM usage = 1.599 GB\u001b[0m\n",
      "CPU times: user 7.84 s, sys: 1.78 s, total: 9.62 s\n",
      "Wall time: 6.09 s\n"
     ]
    }
   ],
   "source": [
    "%%time \n",
    "\n",
    "train    = pd.read_parquet(f\"/kaggle/input/playgrounds4e08-dataorganization/train.parquet\")\n",
    "test     = pd.read_parquet(f\"/kaggle/input/playgrounds4e08-dataorganization/test.parquet\")\n",
    "sub_fl   = pd.read_parquet(f\"/kaggle/input/playgrounds4e08-dataorganization/sample_submission.parquet\")\n",
    "\n",
    "train[target] = train[target].map(mapper).astype(np.int8)\n",
    "Utils.PrintColor(f\"---> Train test shape = {train.shape} | {test.shape}\");   \n",
    "\n",
    "Utils.PrintColor(f\"\\n\\n---> Test set features\")\n",
    "strt_ftre = np.array(test.columns)\n",
    "with np.printoptions(linewidth = 160):\n",
    "    pprint(strt_ftre)\n",
    "\n",
    "print(\"\\n\\n\\n\")\n",
    "fig, ax = plt.subplots(1,1, figsize = (4,4))\n",
    "train[target].value_counts(normalize = True).plot.barh(color = 'tab:blue', ax = ax)\n",
    "ax.set_title(f\"Train target distribution plot\", color = \"maroon\")\n",
    "plt.show()\n",
    "\n",
    "Utils.PrintColor(Utils.CleanMemory())"
   ]
  },
  {
   "cell_type": "code",
   "execution_count": 8,
   "id": "bae840b4",
   "metadata": {
    "execution": {
     "iopub.execute_input": "2024-08-01T02:56:12.276148Z",
     "iopub.status.busy": "2024-08-01T02:56:12.275673Z",
     "iopub.status.idle": "2024-08-01T02:56:14.201906Z",
     "shell.execute_reply": "2024-08-01T02:56:14.200610Z"
    },
    "papermill": {
     "duration": 1.939396,
     "end_time": "2024-08-01T02:56:14.205891",
     "exception": false,
     "start_time": "2024-08-01T02:56:12.266495",
     "status": "completed"
    },
    "tags": []
   },
   "outputs": [
    {
     "name": "stdout",
     "output_type": "stream",
     "text": [
      "\u001b[1m\u001b[34m\n",
      "\n",
      "---> Train sample shape = (31169, 21)\u001b[0m\n",
      "\u001b[1m\u001b[34m\n",
      "---> Train test shape = (31169, 21) | (100, 20)\u001b[0m\n",
      "\u001b[1m\u001b[34m\n",
      "RAM usage = 1.151 GB\u001b[0m\n",
      "CPU times: user 1.58 s, sys: 349 ms, total: 1.92 s\n",
      "Wall time: 1.92 s\n"
     ]
    }
   ],
   "source": [
    "%%time \n",
    "\n",
    "if test_req:\n",
    "    train = train.groupby(target).sample(frac = 0.01)\n",
    "    Utils.PrintColor(f\"\\n\\n---> Train sample shape = {train.shape}\") \n",
    "    train.index.name = \"id\"\n",
    "    \n",
    "    test   = test.iloc[0:100]\n",
    "    sub_fl = sub_fl.iloc[0:100]\n",
    "    \n",
    "Utils.PrintColor(f\"\\n---> Train test shape = {train.shape} | {test.shape}\");\n",
    "Utils.PrintColor(Utils.CleanMemory())"
   ]
  },
  {
   "cell_type": "markdown",
   "id": "5cd50f1d",
   "metadata": {
    "papermill": {
     "duration": 0.007536,
     "end_time": "2024-08-01T02:56:14.221471",
     "exception": false,
     "start_time": "2024-08-01T02:56:14.213935",
     "status": "completed"
    },
    "tags": []
   },
   "source": [
    "# **MODEL TRAINING**"
   ]
  },
  {
   "cell_type": "code",
   "execution_count": 9,
   "id": "2a085b1c",
   "metadata": {
    "_kg_hide-output": true,
    "execution": {
     "iopub.execute_input": "2024-08-01T02:56:14.239092Z",
     "iopub.status.busy": "2024-08-01T02:56:14.238688Z",
     "iopub.status.idle": "2024-08-01T02:56:58.725145Z",
     "shell.execute_reply": "2024-08-01T02:56:58.723856Z"
    },
    "papermill": {
     "duration": 44.498681,
     "end_time": "2024-08-01T02:56:58.727971",
     "exception": false,
     "start_time": "2024-08-01T02:56:14.229290",
     "status": "completed"
    },
    "tags": []
   },
   "outputs": [
    {
     "name": "stdout",
     "output_type": "stream",
     "text": [
      "\u001b[1m\u001b[34m\n",
      "==================== MODEL TRAINING ====================\n",
      "\u001b[0m\n",
      "[02:56:14] Stdout logging level is INFO.\n",
      "[02:56:14] Copying TaskTimer may affect the parent PipelineTimer, so copy will create new unlimited TaskTimer\n",
      "[02:56:14] Task: binary\n",
      "\n",
      "[02:56:14] Start automl preset with listed constraints:\n",
      "[02:56:14] - time: 180.00 seconds\n",
      "[02:56:14] - CPU: 4 cores\n",
      "[02:56:14] - memory: 16 GB\n",
      "\n",
      "[02:56:14] \u001b[1mTrain data shape: (31169, 21)\u001b[0m\n",
      "\n",
      "[02:56:14] Layer \u001b[1m1\u001b[0m train process start. Time left 179.79 secs\n",
      "[02:56:18] \u001b[1mSelector_LightGBM\u001b[0m fitting and predicting completed\n",
      "[02:56:20] Start fitting \u001b[1mLvl_0_Pipe_0_Mod_0_LightGBM\u001b[0m ...\n",
      "[02:56:33] Fitting \u001b[1mLvl_0_Pipe_0_Mod_0_LightGBM\u001b[0m finished. score = \u001b[1m-0.05821035743311685\u001b[0m\n",
      "[02:56:33] \u001b[1mLvl_0_Pipe_0_Mod_0_LightGBM\u001b[0m fitting and predicting completed\n",
      "[02:56:33] Start fitting \u001b[1mLvl_0_Pipe_0_Mod_1_CatBoost\u001b[0m ...\n",
      "[02:56:58] Fitting \u001b[1mLvl_0_Pipe_0_Mod_1_CatBoost\u001b[0m finished. score = \u001b[1m-0.06416677707458951\u001b[0m\n",
      "[02:56:58] \u001b[1mLvl_0_Pipe_0_Mod_1_CatBoost\u001b[0m fitting and predicting completed\n",
      "[02:56:58] Time left 136.19 secs\n",
      "\n",
      "[02:56:58] \u001b[1mLayer 1 training completed.\u001b[0m\n",
      "\n",
      "[02:56:58] Blending: optimization starts with equal weights and score \u001b[1m-0.0587465871902116\u001b[0m\n",
      "[02:56:58] Blending: iteration \u001b[1m0\u001b[0m: score = \u001b[1m-0.05776155302902126\u001b[0m, weights = \u001b[1m[0.8303575  0.16964252]\u001b[0m\n",
      "[02:56:58] Blending: iteration \u001b[1m1\u001b[0m: score = \u001b[1m-0.05776155302902126\u001b[0m, weights = \u001b[1m[0.8303575  0.16964252]\u001b[0m\n",
      "[02:56:58] Blending: no score update. Terminated\n",
      "\n",
      "[02:56:58] \u001b[1mAutoml preset training completed in 44.04 seconds\u001b[0m\n",
      "\n",
      "[02:56:58] Model description:\n",
      "Final prediction for new objects (level 0) = \n",
      "\t 0.83036 * (3 averaged models Lvl_0_Pipe_0_Mod_0_LightGBM) +\n",
      "\t 0.16964 * (3 averaged models Lvl_0_Pipe_0_Mod_1_CatBoost) \n",
      "\n",
      "\u001b[1m\u001b[34m\n",
      "RAM usage = 1.139 GB\u001b[0m\n",
      "CPU times: user 2min 32s, sys: 10.6 s, total: 2min 43s\n",
      "Wall time: 44.5 s\n"
     ]
    }
   ],
   "source": [
    "%%time \n",
    "\n",
    "drop_cols = [\"id\"]\n",
    "\n",
    "Utils.PrintColor(f\"\\n{'=' * 20} MODEL TRAINING {'=' * 20}\\n\")\n",
    "\n",
    "model = TabularAutoML(task = Task('binary', loss = 'logloss', metric = 'logloss'),\n",
    "                      \n",
    "                      timeout   = time_budget,\n",
    "                      \n",
    "                      cpu_limit = 4,\n",
    "                      \n",
    "                      general_params = {\"use_algos\": [algos]},\n",
    "                      \n",
    "                      nn_params = {\"n_epochs\"       : 100,\n",
    "                                   \"bs\"             : 128,\n",
    "                                   \"num_workers\"    : 0,\n",
    "                                   \"path_to_save\"   : None,\n",
    "                                   \"freeze_defaults\": True,\n",
    "                                   \"cont_embedder\"  : \"cont\",\n",
    "                                   },\n",
    "                      \n",
    "                      nn_pipeline_params = {\"use_qnt\": False, \"use_te\": False},\n",
    "                      \n",
    "                      reader_params = {'n_jobs'        : 4,\n",
    "                                       'cv'            : n_splits,\n",
    "                                       'random_state'  : state,\n",
    "                                       'advanced_roles': False\n",
    "                                       },\n",
    "                      );\n",
    "\n",
    "oof_preds = \\\n",
    "model.fit_predict(train,\n",
    "                  roles   = {'target': target, \"drop\": drop_cols},\n",
    "                  verbose = 1\n",
    "                  );\n",
    "\n",
    "preds = model.predict(test.drop(columns = drop_cols, errors = \"ignore\"))\n",
    "\n",
    "Utils.PrintColor(Utils.CleanMemory())"
   ]
  },
  {
   "cell_type": "code",
   "execution_count": 10,
   "id": "02e2f550",
   "metadata": {
    "execution": {
     "iopub.execute_input": "2024-08-01T02:56:58.750638Z",
     "iopub.status.busy": "2024-08-01T02:56:58.750239Z",
     "iopub.status.idle": "2024-08-01T02:56:59.081880Z",
     "shell.execute_reply": "2024-08-01T02:56:59.080549Z"
    },
    "papermill": {
     "duration": 0.345856,
     "end_time": "2024-08-01T02:56:59.084395",
     "exception": false,
     "start_time": "2024-08-01T02:56:58.738539",
     "status": "completed"
    },
    "tags": []
   },
   "outputs": [
    {
     "name": "stdout",
     "output_type": "stream",
     "text": [
      "\u001b[1m\u001b[34m\n",
      "Feature importances\n",
      "\u001b[0m\n"
     ]
    },
    {
     "data": {
      "text/html": [
       "<style type=\"text/css\">\n",
       "#T_62e8b_row0_col0 {\n",
       "  width: 10em;\n",
       "  background: linear-gradient(90deg, #b3ecff 100.0%, transparent 100.0%);\n",
       "}\n",
       "#T_62e8b_row1_col0 {\n",
       "  width: 10em;\n",
       "  background: linear-gradient(90deg, #b3ecff 91.4%, transparent 91.4%);\n",
       "}\n",
       "#T_62e8b_row2_col0 {\n",
       "  width: 10em;\n",
       "  background: linear-gradient(90deg, #b3ecff 71.3%, transparent 71.3%);\n",
       "}\n",
       "#T_62e8b_row3_col0 {\n",
       "  width: 10em;\n",
       "  background: linear-gradient(90deg, #b3ecff 66.6%, transparent 66.6%);\n",
       "}\n",
       "#T_62e8b_row4_col0 {\n",
       "  width: 10em;\n",
       "  background: linear-gradient(90deg, #b3ecff 57.9%, transparent 57.9%);\n",
       "}\n",
       "#T_62e8b_row5_col0 {\n",
       "  width: 10em;\n",
       "  background: linear-gradient(90deg, #b3ecff 55.8%, transparent 55.8%);\n",
       "}\n",
       "#T_62e8b_row6_col0 {\n",
       "  width: 10em;\n",
       "  background: linear-gradient(90deg, #b3ecff 49.4%, transparent 49.4%);\n",
       "}\n",
       "#T_62e8b_row7_col0 {\n",
       "  width: 10em;\n",
       "  background: linear-gradient(90deg, #b3ecff 42.5%, transparent 42.5%);\n",
       "}\n",
       "#T_62e8b_row8_col0 {\n",
       "  width: 10em;\n",
       "  background: linear-gradient(90deg, #b3ecff 36.0%, transparent 36.0%);\n",
       "}\n",
       "#T_62e8b_row9_col0 {\n",
       "  width: 10em;\n",
       "  background: linear-gradient(90deg, #b3ecff 34.5%, transparent 34.5%);\n",
       "}\n",
       "#T_62e8b_row10_col0 {\n",
       "  width: 10em;\n",
       "  background: linear-gradient(90deg, #b3ecff 33.7%, transparent 33.7%);\n",
       "}\n",
       "#T_62e8b_row11_col0 {\n",
       "  width: 10em;\n",
       "  background: linear-gradient(90deg, #b3ecff 25.6%, transparent 25.6%);\n",
       "}\n",
       "#T_62e8b_row12_col0 {\n",
       "  width: 10em;\n",
       "  background: linear-gradient(90deg, #b3ecff 24.8%, transparent 24.8%);\n",
       "}\n",
       "#T_62e8b_row13_col0 {\n",
       "  width: 10em;\n",
       "  background: linear-gradient(90deg, #b3ecff 23.7%, transparent 23.7%);\n",
       "}\n",
       "#T_62e8b_row14_col0 {\n",
       "  width: 10em;\n",
       "  background: linear-gradient(90deg, #b3ecff 20.2%, transparent 20.2%);\n",
       "}\n",
       "#T_62e8b_row15_col0 {\n",
       "  width: 10em;\n",
       "  background: linear-gradient(90deg, #b3ecff 12.2%, transparent 12.2%);\n",
       "}\n",
       "#T_62e8b_row16_col0 {\n",
       "  width: 10em;\n",
       "  background: linear-gradient(90deg, #b3ecff 12.0%, transparent 12.0%);\n",
       "}\n",
       "#T_62e8b_row17_col0 {\n",
       "  width: 10em;\n",
       "  background: linear-gradient(90deg, #b3ecff 9.8%, transparent 9.8%);\n",
       "}\n",
       "#T_62e8b_row18_col0 {\n",
       "  width: 10em;\n",
       "  background: linear-gradient(90deg, #b3ecff 8.0%, transparent 8.0%);\n",
       "}\n",
       "#T_62e8b_row19_col0 {\n",
       "  width: 10em;\n",
       "  background: linear-gradient(90deg, #b3ecff 4.3%, transparent 4.3%);\n",
       "}\n",
       "</style>\n",
       "<table id=\"T_62e8b\">\n",
       "  <thead>\n",
       "    <tr>\n",
       "      <th class=\"blank level0\" >&nbsp;</th>\n",
       "      <th id=\"T_62e8b_level0_col0\" class=\"col_heading level0 col0\" >Importance</th>\n",
       "    </tr>\n",
       "    <tr>\n",
       "      <th class=\"index_name level0\" >Feature</th>\n",
       "      <th class=\"blank col0\" >&nbsp;</th>\n",
       "    </tr>\n",
       "  </thead>\n",
       "  <tbody>\n",
       "    <tr>\n",
       "      <th id=\"T_62e8b_level0_row0\" class=\"row_heading level0 row0\" >stemwidth</th>\n",
       "      <td id=\"T_62e8b_row0_col0\" class=\"data row0 col0\" >44,187.10</td>\n",
       "    </tr>\n",
       "    <tr>\n",
       "      <th id=\"T_62e8b_level0_row1\" class=\"row_heading level0 row1\" >capsurface</th>\n",
       "      <td id=\"T_62e8b_row1_col0\" class=\"data row1 col0\" >40,372.37</td>\n",
       "    </tr>\n",
       "    <tr>\n",
       "      <th id=\"T_62e8b_level0_row2\" class=\"row_heading level0 row2\" >gillspacing</th>\n",
       "      <td id=\"T_62e8b_row2_col0\" class=\"data row2 col0\" >31,500.58</td>\n",
       "    </tr>\n",
       "    <tr>\n",
       "      <th id=\"T_62e8b_level0_row3\" class=\"row_heading level0 row3\" >gillattachment</th>\n",
       "      <td id=\"T_62e8b_row3_col0\" class=\"data row3 col0\" >29,440.64</td>\n",
       "    </tr>\n",
       "    <tr>\n",
       "      <th id=\"T_62e8b_level0_row4\" class=\"row_heading level0 row4\" >stemsurface</th>\n",
       "      <td id=\"T_62e8b_row4_col0\" class=\"data row4 col0\" >25,594.59</td>\n",
       "    </tr>\n",
       "    <tr>\n",
       "      <th id=\"T_62e8b_level0_row5\" class=\"row_heading level0 row5\" >stemcolor</th>\n",
       "      <td id=\"T_62e8b_row5_col0\" class=\"data row5 col0\" >24,640.89</td>\n",
       "    </tr>\n",
       "    <tr>\n",
       "      <th id=\"T_62e8b_level0_row6\" class=\"row_heading level0 row6\" >capdiameter</th>\n",
       "      <td id=\"T_62e8b_row6_col0\" class=\"data row6 col0\" >21,817.40</td>\n",
       "    </tr>\n",
       "    <tr>\n",
       "      <th id=\"T_62e8b_level0_row7\" class=\"row_heading level0 row7\" >stemheight</th>\n",
       "      <td id=\"T_62e8b_row7_col0\" class=\"data row7 col0\" >18,785.73</td>\n",
       "    </tr>\n",
       "    <tr>\n",
       "      <th id=\"T_62e8b_level0_row8\" class=\"row_heading level0 row8\" >stemroot</th>\n",
       "      <td id=\"T_62e8b_row8_col0\" class=\"data row8 col0\" >15,912.30</td>\n",
       "    </tr>\n",
       "    <tr>\n",
       "      <th id=\"T_62e8b_level0_row9\" class=\"row_heading level0 row9\" >gillcolor</th>\n",
       "      <td id=\"T_62e8b_row9_col0\" class=\"data row9 col0\" >15,255.91</td>\n",
       "    </tr>\n",
       "    <tr>\n",
       "      <th id=\"T_62e8b_level0_row10\" class=\"row_heading level0 row10\" >ringtype</th>\n",
       "      <td id=\"T_62e8b_row10_col0\" class=\"data row10 col0\" >14,909.50</td>\n",
       "    </tr>\n",
       "    <tr>\n",
       "      <th id=\"T_62e8b_level0_row11\" class=\"row_heading level0 row11\" >capshape</th>\n",
       "      <td id=\"T_62e8b_row11_col0\" class=\"data row11 col0\" >11,295.55</td>\n",
       "    </tr>\n",
       "    <tr>\n",
       "      <th id=\"T_62e8b_level0_row12\" class=\"row_heading level0 row12\" >capcolor</th>\n",
       "      <td id=\"T_62e8b_row12_col0\" class=\"data row12 col0\" >10,963.16</td>\n",
       "    </tr>\n",
       "    <tr>\n",
       "      <th id=\"T_62e8b_level0_row13\" class=\"row_heading level0 row13\" >doesbruiseorbleed</th>\n",
       "      <td id=\"T_62e8b_row13_col0\" class=\"data row13 col0\" >10,462.33</td>\n",
       "    </tr>\n",
       "    <tr>\n",
       "      <th id=\"T_62e8b_level0_row14\" class=\"row_heading level0 row14\" >habitat</th>\n",
       "      <td id=\"T_62e8b_row14_col0\" class=\"data row14 col0\" >8,931.05</td>\n",
       "    </tr>\n",
       "    <tr>\n",
       "      <th id=\"T_62e8b_level0_row15\" class=\"row_heading level0 row15\" >veiltype</th>\n",
       "      <td id=\"T_62e8b_row15_col0\" class=\"data row15 col0\" >5,380.17</td>\n",
       "    </tr>\n",
       "    <tr>\n",
       "      <th id=\"T_62e8b_level0_row16\" class=\"row_heading level0 row16\" >hasring</th>\n",
       "      <td id=\"T_62e8b_row16_col0\" class=\"data row16 col0\" >5,290.05</td>\n",
       "    </tr>\n",
       "    <tr>\n",
       "      <th id=\"T_62e8b_level0_row17\" class=\"row_heading level0 row17\" >veilcolor</th>\n",
       "      <td id=\"T_62e8b_row17_col0\" class=\"data row17 col0\" >4,335.30</td>\n",
       "    </tr>\n",
       "    <tr>\n",
       "      <th id=\"T_62e8b_level0_row18\" class=\"row_heading level0 row18\" >sporeprintcolor</th>\n",
       "      <td id=\"T_62e8b_row18_col0\" class=\"data row18 col0\" >3,538.15</td>\n",
       "    </tr>\n",
       "    <tr>\n",
       "      <th id=\"T_62e8b_level0_row19\" class=\"row_heading level0 row19\" >season</th>\n",
       "      <td id=\"T_62e8b_row19_col0\" class=\"data row19 col0\" >1,912.23</td>\n",
       "    </tr>\n",
       "  </tbody>\n",
       "</table>\n"
      ],
      "text/plain": [
       "<pandas.io.formats.style.Styler at 0x7d80c1f29060>"
      ]
     },
     "metadata": {},
     "output_type": "display_data"
    },
    {
     "name": "stdout",
     "output_type": "stream",
     "text": [
      "\u001b[1m\u001b[34m\n",
      "RAM usage = 1.139 GB\u001b[0m\n",
      "CPU times: user 324 ms, sys: 3.91 ms, total: 328 ms\n",
      "Wall time: 325 ms\n"
     ]
    }
   ],
   "source": [
    "%%time \n",
    "\n",
    "Utils.PrintColor(f\"\\nFeature importances\\n\")\n",
    "display(model.get_feature_scores('fast').\\\n",
    "        set_index(\"Feature\").style.\\\n",
    "        format(formatter = '{:,.2f}').\\\n",
    "        bar(color = \"#b3ecff\")\n",
    "       )\n",
    "\n",
    "Utils.PrintColor(Utils.CleanMemory());"
   ]
  },
  {
   "cell_type": "markdown",
   "id": "21226dce",
   "metadata": {
    "papermill": {
     "duration": 0.010619,
     "end_time": "2024-08-01T02:56:59.106325",
     "exception": false,
     "start_time": "2024-08-01T02:56:59.095706",
     "status": "completed"
    },
    "tags": []
   },
   "source": [
    "# **SUBMISSION**"
   ]
  },
  {
   "cell_type": "code",
   "execution_count": 11,
   "id": "01a12166",
   "metadata": {
    "execution": {
     "iopub.execute_input": "2024-08-01T02:56:59.130071Z",
     "iopub.status.busy": "2024-08-01T02:56:59.129675Z",
     "iopub.status.idle": "2024-08-01T02:57:00.647719Z",
     "shell.execute_reply": "2024-08-01T02:57:00.645596Z"
    },
    "papermill": {
     "duration": 1.533491,
     "end_time": "2024-08-01T02:57:00.650847",
     "exception": false,
     "start_time": "2024-08-01T02:56:59.117356",
     "status": "completed"
    },
    "tags": []
   },
   "outputs": [
    {
     "name": "stdout",
     "output_type": "stream",
     "text": [
      "\u001b[1m\u001b[31m\n",
      "---> OOF score = 0.972060\u001b[0m\n",
      "\u001b[1m\u001b[34m\n",
      "\n",
      "---> Final submission file\n",
      "\n",
      "\u001b[0m\n"
     ]
    },
    {
     "data": {
      "text/html": [
       "<style type=\"text/css\">\n",
       "</style>\n",
       "<table id=\"T_cbff7\">\n",
       "  <thead>\n",
       "    <tr>\n",
       "      <th class=\"blank level0\" >&nbsp;</th>\n",
       "      <th id=\"T_cbff7_level0_col0\" class=\"col_heading level0 col0\" >class</th>\n",
       "    </tr>\n",
       "    <tr>\n",
       "      <th class=\"index_name level0\" >id</th>\n",
       "      <th class=\"blank col0\" >&nbsp;</th>\n",
       "    </tr>\n",
       "  </thead>\n",
       "  <tbody>\n",
       "    <tr>\n",
       "      <th id=\"T_cbff7_level0_row0\" class=\"row_heading level0 row0\" >3116945</th>\n",
       "      <td id=\"T_cbff7_row0_col0\" class=\"data row0 col0\" >e</td>\n",
       "    </tr>\n",
       "    <tr>\n",
       "      <th id=\"T_cbff7_level0_row1\" class=\"row_heading level0 row1\" >3116946</th>\n",
       "      <td id=\"T_cbff7_row1_col0\" class=\"data row1 col0\" >p</td>\n",
       "    </tr>\n",
       "    <tr>\n",
       "      <th id=\"T_cbff7_level0_row2\" class=\"row_heading level0 row2\" >3116947</th>\n",
       "      <td id=\"T_cbff7_row2_col0\" class=\"data row2 col0\" >p</td>\n",
       "    </tr>\n",
       "    <tr>\n",
       "      <th id=\"T_cbff7_level0_row3\" class=\"row_heading level0 row3\" >3116948</th>\n",
       "      <td id=\"T_cbff7_row3_col0\" class=\"data row3 col0\" >p</td>\n",
       "    </tr>\n",
       "    <tr>\n",
       "      <th id=\"T_cbff7_level0_row4\" class=\"row_heading level0 row4\" >3116949</th>\n",
       "      <td id=\"T_cbff7_row4_col0\" class=\"data row4 col0\" >e</td>\n",
       "    </tr>\n",
       "    <tr>\n",
       "      <th id=\"T_cbff7_level0_row5\" class=\"row_heading level0 row5\" >3116950</th>\n",
       "      <td id=\"T_cbff7_row5_col0\" class=\"data row5 col0\" >e</td>\n",
       "    </tr>\n",
       "    <tr>\n",
       "      <th id=\"T_cbff7_level0_row6\" class=\"row_heading level0 row6\" >3116951</th>\n",
       "      <td id=\"T_cbff7_row6_col0\" class=\"data row6 col0\" >e</td>\n",
       "    </tr>\n",
       "    <tr>\n",
       "      <th id=\"T_cbff7_level0_row7\" class=\"row_heading level0 row7\" >3116952</th>\n",
       "      <td id=\"T_cbff7_row7_col0\" class=\"data row7 col0\" >p</td>\n",
       "    </tr>\n",
       "    <tr>\n",
       "      <th id=\"T_cbff7_level0_row8\" class=\"row_heading level0 row8\" >3116953</th>\n",
       "      <td id=\"T_cbff7_row8_col0\" class=\"data row8 col0\" >p</td>\n",
       "    </tr>\n",
       "    <tr>\n",
       "      <th id=\"T_cbff7_level0_row9\" class=\"row_heading level0 row9\" >3116954</th>\n",
       "      <td id=\"T_cbff7_row9_col0\" class=\"data row9 col0\" >e</td>\n",
       "    </tr>\n",
       "  </tbody>\n",
       "</table>\n"
      ],
      "text/plain": [
       "<pandas.io.formats.style.Styler at 0x7d80c1a98790>"
      ]
     },
     "metadata": {},
     "output_type": "display_data"
    },
    {
     "name": "stdout",
     "output_type": "stream",
     "text": [
      "\u001b[1m\u001b[34m\n",
      "RAM usage = 1.143 GB\u001b[0m\n",
      "Mdl_Preds_V1.parquet\t  __notebook__.ipynb\r\n",
      "OOF_Preds_LAMAV1.parquet  submission.csv\r\n",
      "CPU times: user 306 ms, sys: 28.2 ms, total: 334 ms\n",
      "Wall time: 1.5 s\n"
     ]
    }
   ],
   "source": [
    "%%time \n",
    "\n",
    "\n",
    "score = Utils.ScoreMetric(train[target].values, \n",
    "                          np.where(oof_preds.data.flatten() > 0.6,1,0))\n",
    "Utils.PrintColor(f\"\\n---> OOF score = {score:.6f}\", color = Fore.RED)\n",
    "\n",
    "sub_fl[target] = preds.data.flatten()\n",
    "sub_fl.to_parquet(f\"Mdl_Preds_V{version_nb}.parquet\")\n",
    "\n",
    "pd.DataFrame(oof_preds.data.flatten(), \n",
    "             index = train.index, \n",
    "             columns = [f\"LAMA_V{version_nb}\"]\n",
    "            ).\\\n",
    "to_parquet(f\"OOF_Preds_LAMAV{version_nb}.parquet\")\n",
    "\n",
    "sub_fl[target] = np.where(sub_fl[target] >= 0.6, \"p\", \"e\")\n",
    "\n",
    "Utils.PrintColor(f\"\\n\\n---> Final submission file\\n\\n\")\n",
    "display(sub_fl.head(10).style.format(precision = 4))\n",
    "sub_fl.to_csv(\"submission.csv\", index = None)\n",
    "\n",
    "Utils.PrintColor(Utils.CleanMemory());\n",
    "!ls"
   ]
  }
 ],
 "metadata": {
  "kaggle": {
   "accelerator": "none",
   "dataSources": [
    {
     "databundleVersionId": 9045607,
     "sourceId": 76727,
     "sourceType": "competition"
    },
    {
     "sourceId": 189127690,
     "sourceType": "kernelVersion"
    },
    {
     "sourceId": 190668229,
     "sourceType": "kernelVersion"
    },
    {
     "sourceId": 190672036,
     "sourceType": "kernelVersion"
    }
   ],
   "dockerImageVersionId": 30673,
   "isGpuEnabled": false,
   "isInternetEnabled": true,
   "language": "python",
   "sourceType": "notebook"
  },
  "kernelspec": {
   "display_name": "Python 3",
   "language": "python",
   "name": "python3"
  },
  "language_info": {
   "codemirror_mode": {
    "name": "ipython",
    "version": 3
   },
   "file_extension": ".py",
   "mimetype": "text/x-python",
   "name": "python",
   "nbconvert_exporter": "python",
   "pygments_lexer": "ipython3",
   "version": "3.10.13"
  },
  "papermill": {
   "default_parameters": {},
   "duration": 266.392005,
   "end_time": "2024-08-01T02:57:03.415479",
   "environment_variables": {},
   "exception": null,
   "input_path": "__notebook__.ipynb",
   "output_path": "__notebook__.ipynb",
   "parameters": {},
   "start_time": "2024-08-01T02:52:37.023474",
   "version": "2.5.0"
  }
 },
 "nbformat": 4,
 "nbformat_minor": 5
}
