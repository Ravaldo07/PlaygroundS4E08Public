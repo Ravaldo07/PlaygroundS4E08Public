{
 "cells": [
  {
   "cell_type": "markdown",
   "id": "84bc0ba0",
   "metadata": {
    "papermill": {
     "duration": 0.006674,
     "end_time": "2024-08-01T03:29:40.258740",
     "exception": false,
     "start_time": "2024-08-01T03:29:40.252066",
     "status": "completed"
    },
    "tags": []
   },
   "source": [
    "# **PACKAGE IMPORTS AND INSTALLATIONS**"
   ]
  },
  {
   "cell_type": "code",
   "execution_count": 1,
   "id": "bdfc67d4",
   "metadata": {
    "execution": {
     "iopub.execute_input": "2024-08-01T03:29:40.273262Z",
     "iopub.status.busy": "2024-08-01T03:29:40.272863Z",
     "iopub.status.idle": "2024-08-01T03:32:10.438006Z",
     "shell.execute_reply": "2024-08-01T03:32:10.436904Z"
    },
    "papermill": {
     "duration": 150.17527,
     "end_time": "2024-08-01T03:32:10.440570",
     "exception": false,
     "start_time": "2024-08-01T03:29:40.265300",
     "status": "completed"
    },
    "tags": []
   },
   "outputs": [
    {
     "name": "stdout",
     "output_type": "stream",
     "text": [
      "CPU times: user 2.91 s, sys: 529 ms, total: 3.44 s\n",
      "Wall time: 2min 30s\n"
     ]
    }
   ],
   "source": [
    "%%time \n",
    "\n",
    "from IPython.display import clear_output, HTML\n",
    "from gc import collect\n",
    "\n",
    "!pip install \\\n",
    "--no-index \\\n",
    "--find-links=/kaggle/input/package-dependencies/LAMA038 lightautoml -q\n",
    "\n",
    "!pip install \\\n",
    "--no-index \\\n",
    "--find-links=/kaggle/input/packages-datawrangling-v1/Polars121 -q polars\n",
    "\n",
    "collect();\n",
    "clear_output();\n"
   ]
  },
  {
   "cell_type": "code",
   "execution_count": 2,
   "id": "dff59f59",
   "metadata": {
    "execution": {
     "iopub.execute_input": "2024-08-01T03:32:10.455651Z",
     "iopub.status.busy": "2024-08-01T03:32:10.455219Z",
     "iopub.status.idle": "2024-08-01T03:32:12.819428Z",
     "shell.execute_reply": "2024-08-01T03:32:12.818329Z"
    },
    "papermill": {
     "duration": 2.375295,
     "end_time": "2024-08-01T03:32:12.822591",
     "exception": false,
     "start_time": "2024-08-01T03:32:10.447296",
     "status": "completed"
    },
    "tags": []
   },
   "outputs": [
    {
     "name": "stdout",
     "output_type": "stream",
     "text": [
      "\n",
      "CPU times: user 1.49 s, sys: 405 ms, total: 1.89 s\n",
      "Wall time: 2.35 s\n"
     ]
    },
    {
     "data": {
      "text/plain": [
       "0"
      ]
     },
     "execution_count": 2,
     "metadata": {},
     "output_type": "execute_result"
    }
   ],
   "source": [
    "%%time \n",
    "\n",
    "from warnings import filterwarnings\n",
    "filterwarnings('ignore')\n",
    "\n",
    "from os import path, walk, getpid\n",
    "from psutil import Process\n",
    "import re\n",
    "from collections import Counter\n",
    "from itertools import product\n",
    "\n",
    "import ctypes\n",
    "libc = ctypes.CDLL(\"libc.so.6\")\n",
    "\n",
    "from IPython.display import display_html, clear_output\n",
    "from pprint import pprint\n",
    "from functools import partial\n",
    "from copy import deepcopy\n",
    "import pandas as pd, numpy as np, os, joblib\n",
    "import polars as pl\n",
    "import polars.selectors as cs\n",
    "import re\n",
    "\n",
    "from warnings import filterwarnings\n",
    "filterwarnings('ignore')\n",
    "\n",
    "import matplotlib.pyplot as plt\n",
    "import seaborn as sns\n",
    "\n",
    "from colorama import Fore, Style, init\n",
    "from warnings import filterwarnings\n",
    "filterwarnings('ignore')\n",
    "from tqdm.notebook import tqdm\n",
    "\n",
    "print()\n",
    "collect()"
   ]
  },
  {
   "cell_type": "code",
   "execution_count": 3,
   "id": "fd81adc4",
   "metadata": {
    "execution": {
     "iopub.execute_input": "2024-08-01T03:32:12.850583Z",
     "iopub.status.busy": "2024-08-01T03:32:12.849043Z",
     "iopub.status.idle": "2024-08-01T03:32:54.833101Z",
     "shell.execute_reply": "2024-08-01T03:32:54.831936Z"
    },
    "papermill": {
     "duration": 42.00181,
     "end_time": "2024-08-01T03:32:54.841212",
     "exception": false,
     "start_time": "2024-08-01T03:32:12.839402",
     "status": "completed"
    },
    "tags": []
   },
   "outputs": [
    {
     "name": "stdout",
     "output_type": "stream",
     "text": [
      "CPU times: user 37.2 s, sys: 1.28 s, total: 38.5 s\n",
      "Wall time: 42 s\n"
     ]
    }
   ],
   "source": [
    "%%time \n",
    "\n",
    "# Pipeline specific packages:-\n",
    "from sklearn.pipeline import Pipeline, make_pipeline\n",
    "from sklearn.base import BaseEstimator, TransformerMixin\n",
    "\n",
    "# AutoML package:-\n",
    "from lightautoml.automl.presets.tabular_presets import TabularAutoML\n",
    "from lightautoml.tasks import Task\n",
    "from sklearn.metrics import accuracy_score, roc_auc_score, log_loss, matthews_corrcoef"
   ]
  },
  {
   "cell_type": "code",
   "execution_count": 4,
   "id": "6b23c21d",
   "metadata": {
    "execution": {
     "iopub.execute_input": "2024-08-01T03:32:54.857396Z",
     "iopub.status.busy": "2024-08-01T03:32:54.856647Z",
     "iopub.status.idle": "2024-08-01T03:32:55.127944Z",
     "shell.execute_reply": "2024-08-01T03:32:55.126858Z"
    },
    "papermill": {
     "duration": 0.282227,
     "end_time": "2024-08-01T03:32:55.130520",
     "exception": false,
     "start_time": "2024-08-01T03:32:54.848293",
     "status": "completed"
    },
    "tags": []
   },
   "outputs": [
    {
     "name": "stdout",
     "output_type": "stream",
     "text": [
      "CPU times: user 259 ms, sys: 3.91 ms, total: 263 ms\n",
      "Wall time: 259 ms\n"
     ]
    },
    {
     "data": {
      "text/plain": [
       "0"
      ]
     },
     "execution_count": 4,
     "metadata": {},
     "output_type": "execute_result"
    }
   ],
   "source": [
    "%%time\n",
    "\n",
    "# Making sklearn pipeline outputs as dataframe:-\n",
    "from sklearn import set_config\n",
    "set_config(transform_output = \"pandas\")\n",
    "pd.set_option('display.max_columns', 50)\n",
    "pd.set_option('display.max_rows', 50)\n",
    "pd.set_option('display.precision', 3)\n",
    "np.random.seed(42)\n",
    "\n",
    "# Setting plots configuration:-\n",
    "sns.set({\"axes.facecolor\"       : \"#ffffff\",\n",
    "         \"figure.facecolor\"     : \"#ffffff\",\n",
    "         \"axes.edgecolor\"       : \"#000000\",\n",
    "         \"grid.color\"           : \"#ffffff\",\n",
    "         \"font.family\"          : ['Cambria'],\n",
    "         \"axes.labelcolor\"      : \"#000000\",\n",
    "         \"xtick.color\"          : \"#000000\",\n",
    "         \"ytick.color\"          : \"#000000\",\n",
    "         \"grid.linewidth\"       : 0.75,  \n",
    "         \"grid.linestyle\"       : \"--\",\n",
    "         \"axes.titlecolor\"      : '#0099e6',\n",
    "         'axes.titlesize'       : 8.5,\n",
    "         'axes.labelweight'     : \"bold\",\n",
    "         'legend.fontsize'      : 7.0,\n",
    "         'legend.title_fontsize': 7.0,\n",
    "         'font.size'            : 7.5,\n",
    "         'xtick.labelsize'      : 7.5,\n",
    "         'ytick.labelsize'      : 7.5,        \n",
    "        })\n",
    "\n",
    "collect()"
   ]
  },
  {
   "cell_type": "markdown",
   "id": "e3fc60c9",
   "metadata": {
    "papermill": {
     "duration": 0.006841,
     "end_time": "2024-08-01T03:32:55.145775",
     "exception": false,
     "start_time": "2024-08-01T03:32:55.138934",
     "status": "completed"
    },
    "tags": []
   },
   "source": [
    "# **APPROACH DETAILS**"
   ]
  },
  {
   "cell_type": "markdown",
   "id": "1ed4d2db",
   "metadata": {
    "papermill": {
     "duration": 0.006798,
     "end_time": "2024-08-01T03:32:55.159661",
     "exception": false,
     "start_time": "2024-08-01T03:32:55.152863",
     "status": "completed"
    },
    "tags": []
   },
   "source": [
    "**Data columns**<br>\n",
    "This is available in the original data description as [here](https://www.kaggle.com/competitions/playground-series-s4e8/discussion/523439) <br>\n",
    "\n",
    "**Competition details and notebook objectives**\n",
    "1. This is a binary-classification challenge to predict 2 classes in the target (class). **Mathews correlation** is the metric for the challenge - **this needs to be maximized**<br>\n",
    "2. In this starter notebook, we start the assignment with an auto ML solution with minimal EDA. Let's explore the dataset and build better models going ahead!<br>"
   ]
  },
  {
   "cell_type": "markdown",
   "id": "bddbe886",
   "metadata": {
    "papermill": {
     "duration": 0.006711,
     "end_time": "2024-08-01T03:32:55.173402",
     "exception": false,
     "start_time": "2024-08-01T03:32:55.166691",
     "status": "completed"
    },
    "tags": []
   },
   "source": [
    "|Version Number|Details|CV score|LB score|\n",
    "|--------| --------| :-:|:-:|\n",
    "|1       | * Auto ML without any additional transforms/ features <br> * Boosted tree models <br> * Used competition data only | | |\n",
    "|2       | * Auto ML without any additional transforms/ features <br> * Boosted tree models <br> * Included original data | | |"
   ]
  },
  {
   "cell_type": "code",
   "execution_count": 5,
   "id": "b3a18bc0",
   "metadata": {
    "_kg_hide-input": true,
    "execution": {
     "iopub.execute_input": "2024-08-01T03:32:55.189353Z",
     "iopub.status.busy": "2024-08-01T03:32:55.188973Z",
     "iopub.status.idle": "2024-08-01T03:32:55.198835Z",
     "shell.execute_reply": "2024-08-01T03:32:55.197631Z"
    },
    "papermill": {
     "duration": 0.02144,
     "end_time": "2024-08-01T03:32:55.201997",
     "exception": false,
     "start_time": "2024-08-01T03:32:55.180557",
     "status": "completed"
    },
    "tags": []
   },
   "outputs": [
    {
     "name": "stdout",
     "output_type": "stream",
     "text": [
      "\n",
      "CPU times: user 94 µs, sys: 6 µs, total: 100 µs\n",
      "Wall time: 104 µs\n"
     ]
    }
   ],
   "source": [
    "%%time\n",
    "\n",
    "class Utility:\n",
    "    \"\"\"\n",
    "    This class serves to do the below-\n",
    "    1. Define method to print in color\n",
    "    2. Define the garbage cleaning process\n",
    "    \"\"\";\n",
    "\n",
    "    def PrintColor(self,text:str, color = Fore.BLUE, style = Style.BRIGHT):\n",
    "        \"Prints color outputs using colorama using a text F-string\";\n",
    "        print(style + color + text + Style.RESET_ALL)\n",
    "\n",
    "    def ScoreMetric(self, ytrue, ypred)-> float:\n",
    "        \"\"\"\n",
    "        This method calculates the custom metric from the imported script\n",
    "        Inputs- ytrue, ypred:- input truth and predictions\n",
    "        Output- float:- competition metric\n",
    "        \"\"\";\n",
    "        return matthews_corrcoef(ytrue, ypred)\n",
    "\n",
    "    def CleanMemory(self):\n",
    "        \"This method cleans the memory off unused objects and displays the cleaned state RAM usage\";\n",
    "\n",
    "        collect();\n",
    "        libc.malloc_trim(0)\n",
    "        pid        = getpid()\n",
    "        py         = Process(pid)\n",
    "        memory_use = py.memory_info()[0] / 2. ** 30\n",
    "        return f\"\\nRAM usage = {memory_use :.4} GB\"\n",
    "        \n",
    "Utils = Utility()\n",
    "print();\n"
   ]
  },
  {
   "cell_type": "code",
   "execution_count": 6,
   "id": "e7fe4821",
   "metadata": {
    "execution": {
     "iopub.execute_input": "2024-08-01T03:32:55.218431Z",
     "iopub.status.busy": "2024-08-01T03:32:55.217734Z",
     "iopub.status.idle": "2024-08-01T03:32:55.225605Z",
     "shell.execute_reply": "2024-08-01T03:32:55.224541Z"
    },
    "papermill": {
     "duration": 0.019299,
     "end_time": "2024-08-01T03:32:55.228502",
     "exception": false,
     "start_time": "2024-08-01T03:32:55.209203",
     "status": "completed"
    },
    "tags": []
   },
   "outputs": [
    {
     "name": "stdout",
     "output_type": "stream",
     "text": [
      "CPU times: user 6 µs, sys: 0 ns, total: 6 µs\n",
      "Wall time: 10.5 µs\n"
     ]
    }
   ],
   "source": [
    "%%time \n",
    "\n",
    "# Change this to False in the actual run\n",
    "test_req = False;\n",
    "\n",
    "target     = 'class'\n",
    "episode    = 8\n",
    "mapper     = {\"e\": 0, \"p\": 1}\n",
    "state      = 42\n",
    "version_nb = 1\n",
    "cutoff     = 0.60\n",
    "\n",
    "if test_req:\n",
    "    sample_frac = 0.001\n",
    "    time_budget = 180\n",
    "    n_splits    = 3\n",
    "    algos       = [\"lgb\",]\n",
    "    \n",
    "else:\n",
    "    time_budget = 12000\n",
    "    n_splits    = 5\n",
    "    algos       = [\"lgb\",  ]"
   ]
  },
  {
   "cell_type": "markdown",
   "id": "23f3f497",
   "metadata": {
    "papermill": {
     "duration": 0.007039,
     "end_time": "2024-08-01T03:32:55.244368",
     "exception": false,
     "start_time": "2024-08-01T03:32:55.237329",
     "status": "completed"
    },
    "tags": []
   },
   "source": [
    "# **PREPROCESSING**"
   ]
  },
  {
   "cell_type": "code",
   "execution_count": 7,
   "id": "b4edd8b6",
   "metadata": {
    "_kg_hide-input": true,
    "execution": {
     "iopub.execute_input": "2024-08-01T03:32:55.260567Z",
     "iopub.status.busy": "2024-08-01T03:32:55.260140Z",
     "iopub.status.idle": "2024-08-01T03:33:02.677044Z",
     "shell.execute_reply": "2024-08-01T03:33:02.675728Z"
    },
    "papermill": {
     "duration": 7.427874,
     "end_time": "2024-08-01T03:33:02.679489",
     "exception": false,
     "start_time": "2024-08-01T03:32:55.251615",
     "status": "completed"
    },
    "tags": []
   },
   "outputs": [
    {
     "name": "stdout",
     "output_type": "stream",
     "text": [
      "\u001b[1m\u001b[34m---> Train test shape = (3116945, 21) | (2077964, 20)\u001b[0m\n",
      "\u001b[1m\u001b[34m---> Train test shape = (3178014, 21) | (2077964, 20)\u001b[0m\n",
      "\u001b[1m\u001b[34m\n",
      "\n",
      "---> Test set features\u001b[0m\n",
      "array(['capdiameter', 'capshape', 'capsurface', 'capcolor', 'doesbruiseorbleed', 'gillattachment', 'gillspacing', 'gillcolor', 'stemheight', 'stemwidth',\n",
      "       'stemroot', 'stemsurface', 'stemcolor', 'veiltype', 'veilcolor', 'hasring', 'ringtype', 'sporeprintcolor', 'habitat', 'season'], dtype=object)\n",
      "\n",
      "\n",
      "\n",
      "\n"
     ]
    },
    {
     "data": {
      "image/png": "[encoded data removed]",
      "text/plain": [
       "<Figure size 400x400 with 1 Axes>"
      ]
     },
     "metadata": {},
     "output_type": "display_data"
    },
    {
     "name": "stdout",
     "output_type": "stream",
     "text": [
      "\u001b[1m\u001b[34m\n",
      "RAM usage = 1.562 GB\u001b[0m\n",
      "CPU times: user 8.59 s, sys: 2.36 s, total: 11 s\n",
      "Wall time: 7.41 s\n"
     ]
    }
   ],
   "source": [
    "%%time \n",
    "\n",
    "train    = pd.read_parquet(f\"/kaggle/input/playgrounds4e08-dataorganization/train.parquet\")\n",
    "test     = pd.read_parquet(f\"/kaggle/input/playgrounds4e08-dataorganization/test.parquet\")\n",
    "sub_fl   = pd.read_parquet(f\"/kaggle/input/playgrounds4e08-dataorganization/sample_submission.parquet\")\n",
    "original = pd.read_parquet(f\"/kaggle/input/playgrounds4e08-dataorganization/original.parquet\")\n",
    "\n",
    "Utils.PrintColor(f\"---> Train test shape = {train.shape} | {test.shape}\");\n",
    "\n",
    "train = pd.concat([train, original], axis=0, ignore_index = True)\n",
    "train.index.name = \"id\"\n",
    "train[target] = train[target].map(mapper).astype(np.int8)\n",
    "Utils.PrintColor(f\"---> Train test shape = {train.shape} | {test.shape}\");   \n",
    "\n",
    "Utils.PrintColor(f\"\\n\\n---> Test set features\")\n",
    "strt_ftre = np.array(test.columns)\n",
    "with np.printoptions(linewidth = 160):\n",
    "    pprint(strt_ftre)\n",
    "\n",
    "print(\"\\n\\n\\n\")\n",
    "fig, ax = plt.subplots(1,1, figsize = (4,4))\n",
    "train[target].value_counts(normalize = True).plot.barh(color = 'tab:blue', ax = ax)\n",
    "ax.set_title(f\"Train target distribution plot\", color = \"maroon\")\n",
    "plt.show()\n",
    "\n",
    "Utils.PrintColor(Utils.CleanMemory())"
   ]
  },
  {
   "cell_type": "code",
   "execution_count": 8,
   "id": "b77b12b7",
   "metadata": {
    "execution": {
     "iopub.execute_input": "2024-08-01T03:33:02.697386Z",
     "iopub.status.busy": "2024-08-01T03:33:02.696962Z",
     "iopub.status.idle": "2024-08-01T03:33:02.967122Z",
     "shell.execute_reply": "2024-08-01T03:33:02.965798Z"
    },
    "papermill": {
     "duration": 0.281979,
     "end_time": "2024-08-01T03:33:02.969578",
     "exception": false,
     "start_time": "2024-08-01T03:33:02.687599",
     "status": "completed"
    },
    "tags": []
   },
   "outputs": [
    {
     "name": "stdout",
     "output_type": "stream",
     "text": [
      "\u001b[1m\u001b[34m\n",
      "---> Train test shape = (3178014, 21) | (2077964, 20)\u001b[0m\n",
      "\u001b[1m\u001b[34m\n",
      "RAM usage = 1.561 GB\u001b[0m\n",
      "CPU times: user 266 ms, sys: 0 ns, total: 266 ms\n",
      "Wall time: 263 ms\n"
     ]
    }
   ],
   "source": [
    "%%time \n",
    "\n",
    "if test_req:\n",
    "    train = train.groupby(target).sample(frac = 0.01)\n",
    "    Utils.PrintColor(f\"\\n\\n---> Train sample shape = {train.shape}\") \n",
    "    train.index.name = \"id\"\n",
    "    \n",
    "    test   = test.iloc[0:100]\n",
    "    sub_fl = sub_fl.iloc[0:100]\n",
    "    \n",
    "Utils.PrintColor(f\"\\n---> Train test shape = {train.shape} | {test.shape}\");\n",
    "Utils.PrintColor(Utils.CleanMemory())"
   ]
  },
  {
   "cell_type": "markdown",
   "id": "27bacbb4",
   "metadata": {
    "papermill": {
     "duration": 0.007866,
     "end_time": "2024-08-01T03:33:02.985846",
     "exception": false,
     "start_time": "2024-08-01T03:33:02.977980",
     "status": "completed"
    },
    "tags": []
   },
   "source": [
    "# **MODEL TRAINING**"
   ]
  },
  {
   "cell_type": "code",
   "execution_count": 9,
   "id": "31fc83dd",
   "metadata": {
    "_kg_hide-output": true,
    "execution": {
     "iopub.execute_input": "2024-08-01T03:33:03.004019Z",
     "iopub.status.busy": "2024-08-01T03:33:03.003596Z",
     "iopub.status.idle": "2024-08-01T04:11:08.021003Z",
     "shell.execute_reply": "2024-08-01T04:11:08.019372Z"
    },
    "papermill": {
     "duration": 2285.040897,
     "end_time": "2024-08-01T04:11:08.034859",
     "exception": false,
     "start_time": "2024-08-01T03:33:02.993962",
     "status": "completed"
    },
    "tags": []
   },
   "outputs": [
    {
     "name": "stdout",
     "output_type": "stream",
     "text": [
      "\u001b[1m\u001b[34m\n",
      "==================== MODEL TRAINING ====================\n",
      "\u001b[0m\n",
      "[03:33:03] Stdout logging level is INFO.\n",
      "[03:33:03] Copying TaskTimer may affect the parent PipelineTimer, so copy will create new unlimited TaskTimer\n",
      "[03:33:03] Task: binary\n",
      "\n",
      "[03:33:03] Start automl preset with listed constraints:\n",
      "[03:33:03] - time: 12000.00 seconds\n",
      "[03:33:03] - CPU: 4 cores\n",
      "[03:33:03] - memory: 16 GB\n",
      "\n",
      "[03:33:03] \u001b[1mTrain data shape: (3178014, 21)\u001b[0m\n",
      "\n",
      "[03:33:08] Layer \u001b[1m1\u001b[0m train process start. Time left 11995.04 secs\n",
      "[03:37:04] \u001b[1mSelector_LightGBM\u001b[0m fitting and predicting completed\n",
      "[03:40:50] Start fitting \u001b[1mLvl_0_Pipe_0_Mod_0_LightGBM\u001b[0m ...\n",
      "[04:03:52] Fitting \u001b[1mLvl_0_Pipe_0_Mod_0_LightGBM\u001b[0m finished. score = \u001b[1m-0.03644659429469049\u001b[0m\n",
      "[04:03:52] \u001b[1mLvl_0_Pipe_0_Mod_0_LightGBM\u001b[0m fitting and predicting completed\n",
      "[04:03:52] Time left 10150.54 secs\n",
      "\n",
      "[04:03:52] \u001b[1mLayer 1 training completed.\u001b[0m\n",
      "\n",
      "[04:03:52] \u001b[1mAutoml preset training completed in 1849.67 seconds\u001b[0m\n",
      "\n",
      "[04:03:52] Model description:\n",
      "Final prediction for new objects (level 0) = \n",
      "\t 1.00000 * (5 averaged models Lvl_0_Pipe_0_Mod_0_LightGBM) \n",
      "\n",
      "\u001b[1m\u001b[34m\n",
      "RAM usage = 1.701 GB\u001b[0m\n",
      "CPU times: user 2h 12min 17s, sys: 38.4 s, total: 2h 12min 55s\n",
      "Wall time: 38min 5s\n"
     ]
    }
   ],
   "source": [
    "%%time \n",
    "\n",
    "drop_cols = [\"id\"]\n",
    "\n",
    "Utils.PrintColor(f\"\\n{'=' * 20} MODEL TRAINING {'=' * 20}\\n\")\n",
    "\n",
    "model = TabularAutoML(task = Task('binary', loss = 'logloss', metric = 'logloss'),\n",
    "                      \n",
    "                      timeout   = time_budget,\n",
    "                      \n",
    "                      cpu_limit = 4,\n",
    "                      \n",
    "                      general_params = {\"use_algos\": [algos]},\n",
    "                      \n",
    "                      nn_params = {\"n_epochs\"       : 100,\n",
    "                                   \"bs\"             : 128,\n",
    "                                   \"num_workers\"    : 0,\n",
    "                                   \"path_to_save\"   : None,\n",
    "                                   \"freeze_defaults\": True,\n",
    "                                   \"cont_embedder\"  : \"cont\",\n",
    "                                   },\n",
    "                      \n",
    "                      nn_pipeline_params = {\"use_qnt\": False, \"use_te\": False},\n",
    "                      \n",
    "                      reader_params = {'n_jobs'        : 4,\n",
    "                                       'cv'            : n_splits,\n",
    "                                       'random_state'  : state,\n",
    "                                       'advanced_roles': False\n",
    "                                       },\n",
    "                      );\n",
    "\n",
    "oof_preds = \\\n",
    "model.fit_predict(train,\n",
    "                  roles   = {'target': target, \"drop\": drop_cols},\n",
    "                  verbose = 1\n",
    "                  );\n",
    "\n",
    "preds = model.predict(test.drop(columns = drop_cols, errors = \"ignore\"))\n",
    "\n",
    "Utils.PrintColor(Utils.CleanMemory())"
   ]
  },
  {
   "cell_type": "code",
   "execution_count": 10,
   "id": "c3f7c6f7",
   "metadata": {
    "execution": {
     "iopub.execute_input": "2024-08-01T04:11:08.057715Z",
     "iopub.status.busy": "2024-08-01T04:11:08.057263Z",
     "iopub.status.idle": "2024-08-01T04:11:08.406276Z",
     "shell.execute_reply": "2024-08-01T04:11:08.404912Z"
    },
    "papermill": {
     "duration": 0.363745,
     "end_time": "2024-08-01T04:11:08.408806",
     "exception": false,
     "start_time": "2024-08-01T04:11:08.045061",
     "status": "completed"
    },
    "tags": []
   },
   "outputs": [
    {
     "name": "stdout",
     "output_type": "stream",
     "text": [
      "\u001b[1m\u001b[34m\n",
      "Feature importances\n",
      "\u001b[0m\n"
     ]
    },
    {
     "data": {
      "text/html": [
       "<style type=\"text/css\">\n",
       "#T_49f31_row0_col0 {\n",
       "  width: 10em;\n",
       "  background: linear-gradient(90deg, #b3ecff 100.0%, transparent 100.0%);\n",
       "}\n",
       "#T_49f31_row1_col0 {\n",
       "  width: 10em;\n",
       "  background: linear-gradient(90deg, #b3ecff 99.6%, transparent 99.6%);\n",
       "}\n",
       "#T_49f31_row2_col0 {\n",
       "  width: 10em;\n",
       "  background: linear-gradient(90deg, #b3ecff 71.3%, transparent 71.3%);\n",
       "}\n",
       "#T_49f31_row3_col0 {\n",
       "  width: 10em;\n",
       "  background: linear-gradient(90deg, #b3ecff 71.1%, transparent 71.1%);\n",
       "}\n",
       "#T_49f31_row4_col0 {\n",
       "  width: 10em;\n",
       "  background: linear-gradient(90deg, #b3ecff 70.3%, transparent 70.3%);\n",
       "}\n",
       "#T_49f31_row5_col0 {\n",
       "  width: 10em;\n",
       "  background: linear-gradient(90deg, #b3ecff 65.1%, transparent 65.1%);\n",
       "}\n",
       "#T_49f31_row6_col0 {\n",
       "  width: 10em;\n",
       "  background: linear-gradient(90deg, #b3ecff 49.5%, transparent 49.5%);\n",
       "}\n",
       "#T_49f31_row7_col0 {\n",
       "  width: 10em;\n",
       "  background: linear-gradient(90deg, #b3ecff 47.4%, transparent 47.4%);\n",
       "}\n",
       "#T_49f31_row8_col0 {\n",
       "  width: 10em;\n",
       "  background: linear-gradient(90deg, #b3ecff 42.3%, transparent 42.3%);\n",
       "}\n",
       "#T_49f31_row9_col0 {\n",
       "  width: 10em;\n",
       "  background: linear-gradient(90deg, #b3ecff 33.7%, transparent 33.7%);\n",
       "}\n",
       "#T_49f31_row10_col0 {\n",
       "  width: 10em;\n",
       "  background: linear-gradient(90deg, #b3ecff 33.3%, transparent 33.3%);\n",
       "}\n",
       "#T_49f31_row11_col0 {\n",
       "  width: 10em;\n",
       "  background: linear-gradient(90deg, #b3ecff 32.4%, transparent 32.4%);\n",
       "}\n",
       "#T_49f31_row12_col0 {\n",
       "  width: 10em;\n",
       "  background: linear-gradient(90deg, #b3ecff 27.2%, transparent 27.2%);\n",
       "}\n",
       "#T_49f31_row13_col0 {\n",
       "  width: 10em;\n",
       "  background: linear-gradient(90deg, #b3ecff 24.6%, transparent 24.6%);\n",
       "}\n",
       "#T_49f31_row14_col0 {\n",
       "  width: 10em;\n",
       "  background: linear-gradient(90deg, #b3ecff 23.6%, transparent 23.6%);\n",
       "}\n",
       "#T_49f31_row15_col0 {\n",
       "  width: 10em;\n",
       "  background: linear-gradient(90deg, #b3ecff 12.4%, transparent 12.4%);\n",
       "}\n",
       "#T_49f31_row16_col0 {\n",
       "  width: 10em;\n",
       "  background: linear-gradient(90deg, #b3ecff 12.0%, transparent 12.0%);\n",
       "}\n",
       "#T_49f31_row17_col0 {\n",
       "  width: 10em;\n",
       "  background: linear-gradient(90deg, #b3ecff 11.1%, transparent 11.1%);\n",
       "}\n",
       "#T_49f31_row18_col0 {\n",
       "  width: 10em;\n",
       "  background: linear-gradient(90deg, #b3ecff 4.9%, transparent 4.9%);\n",
       "}\n",
       "#T_49f31_row19_col0 {\n",
       "  width: 10em;\n",
       "  background: linear-gradient(90deg, #b3ecff 1.7%, transparent 1.7%);\n",
       "}\n",
       "</style>\n",
       "<table id=\"T_49f31\">\n",
       "  <thead>\n",
       "    <tr>\n",
       "      <th class=\"blank level0\" >&nbsp;</th>\n",
       "      <th id=\"T_49f31_level0_col0\" class=\"col_heading level0 col0\" >Importance</th>\n",
       "    </tr>\n",
       "    <tr>\n",
       "      <th class=\"index_name level0\" >Feature</th>\n",
       "      <th class=\"blank col0\" >&nbsp;</th>\n",
       "    </tr>\n",
       "  </thead>\n",
       "  <tbody>\n",
       "    <tr>\n",
       "      <th id=\"T_49f31_level0_row0\" class=\"row_heading level0 row0\" >stemwidth</th>\n",
       "      <td id=\"T_49f31_row0_col0\" class=\"data row0 col0\" >2,905,372.38</td>\n",
       "    </tr>\n",
       "    <tr>\n",
       "      <th id=\"T_49f31_level0_row1\" class=\"row_heading level0 row1\" >capsurface</th>\n",
       "      <td id=\"T_49f31_row1_col0\" class=\"data row1 col0\" >2,894,693.70</td>\n",
       "    </tr>\n",
       "    <tr>\n",
       "      <th id=\"T_49f31_level0_row2\" class=\"row_heading level0 row2\" >gillspacing</th>\n",
       "      <td id=\"T_49f31_row2_col0\" class=\"data row2 col0\" >2,071,077.01</td>\n",
       "    </tr>\n",
       "    <tr>\n",
       "      <th id=\"T_49f31_level0_row3\" class=\"row_heading level0 row3\" >stemcolor</th>\n",
       "      <td id=\"T_49f31_row3_col0\" class=\"data row3 col0\" >2,064,543.62</td>\n",
       "    </tr>\n",
       "    <tr>\n",
       "      <th id=\"T_49f31_level0_row4\" class=\"row_heading level0 row4\" >gillattachment</th>\n",
       "      <td id=\"T_49f31_row4_col0\" class=\"data row4 col0\" >2,043,809.63</td>\n",
       "    </tr>\n",
       "    <tr>\n",
       "      <th id=\"T_49f31_level0_row5\" class=\"row_heading level0 row5\" >stemsurface</th>\n",
       "      <td id=\"T_49f31_row5_col0\" class=\"data row5 col0\" >1,891,927.32</td>\n",
       "    </tr>\n",
       "    <tr>\n",
       "      <th id=\"T_49f31_level0_row6\" class=\"row_heading level0 row6\" >stemheight</th>\n",
       "      <td id=\"T_49f31_row6_col0\" class=\"data row6 col0\" >1,438,972.12</td>\n",
       "    </tr>\n",
       "    <tr>\n",
       "      <th id=\"T_49f31_level0_row7\" class=\"row_heading level0 row7\" >ringtype</th>\n",
       "      <td id=\"T_49f31_row7_col0\" class=\"data row7 col0\" >1,376,987.74</td>\n",
       "    </tr>\n",
       "    <tr>\n",
       "      <th id=\"T_49f31_level0_row8\" class=\"row_heading level0 row8\" >stemroot</th>\n",
       "      <td id=\"T_49f31_row8_col0\" class=\"data row8 col0\" >1,230,347.55</td>\n",
       "    </tr>\n",
       "    <tr>\n",
       "      <th id=\"T_49f31_level0_row9\" class=\"row_heading level0 row9\" >gillcolor</th>\n",
       "      <td id=\"T_49f31_row9_col0\" class=\"data row9 col0\" >977,707.35</td>\n",
       "    </tr>\n",
       "    <tr>\n",
       "      <th id=\"T_49f31_level0_row10\" class=\"row_heading level0 row10\" >capcolor</th>\n",
       "      <td id=\"T_49f31_row10_col0\" class=\"data row10 col0\" >968,253.08</td>\n",
       "    </tr>\n",
       "    <tr>\n",
       "      <th id=\"T_49f31_level0_row11\" class=\"row_heading level0 row11\" >capdiameter</th>\n",
       "      <td id=\"T_49f31_row11_col0\" class=\"data row11 col0\" >942,280.99</td>\n",
       "    </tr>\n",
       "    <tr>\n",
       "      <th id=\"T_49f31_level0_row12\" class=\"row_heading level0 row12\" >habitat</th>\n",
       "      <td id=\"T_49f31_row12_col0\" class=\"data row12 col0\" >788,974.73</td>\n",
       "    </tr>\n",
       "    <tr>\n",
       "      <th id=\"T_49f31_level0_row13\" class=\"row_heading level0 row13\" >capshape</th>\n",
       "      <td id=\"T_49f31_row13_col0\" class=\"data row13 col0\" >714,034.41</td>\n",
       "    </tr>\n",
       "    <tr>\n",
       "      <th id=\"T_49f31_level0_row14\" class=\"row_heading level0 row14\" >doesbruiseorbleed</th>\n",
       "      <td id=\"T_49f31_row14_col0\" class=\"data row14 col0\" >686,252.20</td>\n",
       "    </tr>\n",
       "    <tr>\n",
       "      <th id=\"T_49f31_level0_row15\" class=\"row_heading level0 row15\" >hasring</th>\n",
       "      <td id=\"T_49f31_row15_col0\" class=\"data row15 col0\" >359,433.59</td>\n",
       "    </tr>\n",
       "    <tr>\n",
       "      <th id=\"T_49f31_level0_row16\" class=\"row_heading level0 row16\" >veilcolor</th>\n",
       "      <td id=\"T_49f31_row16_col0\" class=\"data row16 col0\" >348,267.74</td>\n",
       "    </tr>\n",
       "    <tr>\n",
       "      <th id=\"T_49f31_level0_row17\" class=\"row_heading level0 row17\" >veiltype</th>\n",
       "      <td id=\"T_49f31_row17_col0\" class=\"data row17 col0\" >322,644.95</td>\n",
       "    </tr>\n",
       "    <tr>\n",
       "      <th id=\"T_49f31_level0_row18\" class=\"row_heading level0 row18\" >sporeprintcolor</th>\n",
       "      <td id=\"T_49f31_row18_col0\" class=\"data row18 col0\" >143,738.08</td>\n",
       "    </tr>\n",
       "    <tr>\n",
       "      <th id=\"T_49f31_level0_row19\" class=\"row_heading level0 row19\" >season</th>\n",
       "      <td id=\"T_49f31_row19_col0\" class=\"data row19 col0\" >49,552.96</td>\n",
       "    </tr>\n",
       "  </tbody>\n",
       "</table>\n"
      ],
      "text/plain": [
       "<pandas.io.formats.style.Styler at 0x7ddfa8af8d90>"
      ]
     },
     "metadata": {},
     "output_type": "display_data"
    },
    {
     "name": "stdout",
     "output_type": "stream",
     "text": [
      "\u001b[1m\u001b[34m\n",
      "RAM usage = 1.702 GB\u001b[0m\n",
      "CPU times: user 331 ms, sys: 5 ms, total: 336 ms\n",
      "Wall time: 342 ms\n"
     ]
    }
   ],
   "source": [
    "%%time \n",
    "\n",
    "Utils.PrintColor(f\"\\nFeature importances\\n\")\n",
    "display(model.get_feature_scores('fast').\\\n",
    "        set_index(\"Feature\").style.\\\n",
    "        format(formatter = '{:,.2f}').\\\n",
    "        bar(color = \"#b3ecff\")\n",
    "       )\n",
    "\n",
    "Utils.PrintColor(Utils.CleanMemory());"
   ]
  },
  {
   "cell_type": "markdown",
   "id": "fab83795",
   "metadata": {
    "papermill": {
     "duration": 0.010057,
     "end_time": "2024-08-01T04:11:08.429988",
     "exception": false,
     "start_time": "2024-08-01T04:11:08.419931",
     "status": "completed"
    },
    "tags": []
   },
   "source": [
    "# **SUBMISSION**"
   ]
  },
  {
   "cell_type": "code",
   "execution_count": 11,
   "id": "44bdeca9",
   "metadata": {
    "execution": {
     "iopub.execute_input": "2024-08-01T04:11:08.452552Z",
     "iopub.status.busy": "2024-08-01T04:11:08.452079Z",
     "iopub.status.idle": "2024-08-01T04:11:14.616596Z",
     "shell.execute_reply": "2024-08-01T04:11:14.614858Z"
    },
    "papermill": {
     "duration": 6.179137,
     "end_time": "2024-08-01T04:11:14.619378",
     "exception": false,
     "start_time": "2024-08-01T04:11:08.440241",
     "status": "completed"
    },
    "tags": []
   },
   "outputs": [
    {
     "name": "stdout",
     "output_type": "stream",
     "text": [
      "\u001b[1m\u001b[31m\n",
      "---> OOF score = 0.984038\u001b[0m\n",
      "\u001b[1m\u001b[34m\n",
      "\n",
      "---> Final submission file\n",
      "\n",
      "\u001b[0m\n"
     ]
    },
    {
     "data": {
      "text/html": [
       "<style type=\"text/css\">\n",
       "</style>\n",
       "<table id=\"T_3e187\">\n",
       "  <thead>\n",
       "    <tr>\n",
       "      <th class=\"blank level0\" >&nbsp;</th>\n",
       "      <th id=\"T_3e187_level0_col0\" class=\"col_heading level0 col0\" >class</th>\n",
       "    </tr>\n",
       "    <tr>\n",
       "      <th class=\"index_name level0\" >id</th>\n",
       "      <th class=\"blank col0\" >&nbsp;</th>\n",
       "    </tr>\n",
       "  </thead>\n",
       "  <tbody>\n",
       "    <tr>\n",
       "      <th id=\"T_3e187_level0_row0\" class=\"row_heading level0 row0\" >3116945</th>\n",
       "      <td id=\"T_3e187_row0_col0\" class=\"data row0 col0\" >e</td>\n",
       "    </tr>\n",
       "    <tr>\n",
       "      <th id=\"T_3e187_level0_row1\" class=\"row_heading level0 row1\" >3116946</th>\n",
       "      <td id=\"T_3e187_row1_col0\" class=\"data row1 col0\" >p</td>\n",
       "    </tr>\n",
       "    <tr>\n",
       "      <th id=\"T_3e187_level0_row2\" class=\"row_heading level0 row2\" >3116947</th>\n",
       "      <td id=\"T_3e187_row2_col0\" class=\"data row2 col0\" >p</td>\n",
       "    </tr>\n",
       "    <tr>\n",
       "      <th id=\"T_3e187_level0_row3\" class=\"row_heading level0 row3\" >3116948</th>\n",
       "      <td id=\"T_3e187_row3_col0\" class=\"data row3 col0\" >p</td>\n",
       "    </tr>\n",
       "    <tr>\n",
       "      <th id=\"T_3e187_level0_row4\" class=\"row_heading level0 row4\" >3116949</th>\n",
       "      <td id=\"T_3e187_row4_col0\" class=\"data row4 col0\" >e</td>\n",
       "    </tr>\n",
       "    <tr>\n",
       "      <th id=\"T_3e187_level0_row5\" class=\"row_heading level0 row5\" >3116950</th>\n",
       "      <td id=\"T_3e187_row5_col0\" class=\"data row5 col0\" >e</td>\n",
       "    </tr>\n",
       "    <tr>\n",
       "      <th id=\"T_3e187_level0_row6\" class=\"row_heading level0 row6\" >3116951</th>\n",
       "      <td id=\"T_3e187_row6_col0\" class=\"data row6 col0\" >e</td>\n",
       "    </tr>\n",
       "    <tr>\n",
       "      <th id=\"T_3e187_level0_row7\" class=\"row_heading level0 row7\" >3116952</th>\n",
       "      <td id=\"T_3e187_row7_col0\" class=\"data row7 col0\" >p</td>\n",
       "    </tr>\n",
       "    <tr>\n",
       "      <th id=\"T_3e187_level0_row8\" class=\"row_heading level0 row8\" >3116953</th>\n",
       "      <td id=\"T_3e187_row8_col0\" class=\"data row8 col0\" >p</td>\n",
       "    </tr>\n",
       "    <tr>\n",
       "      <th id=\"T_3e187_level0_row9\" class=\"row_heading level0 row9\" >3116954</th>\n",
       "      <td id=\"T_3e187_row9_col0\" class=\"data row9 col0\" >e</td>\n",
       "    </tr>\n",
       "  </tbody>\n",
       "</table>\n"
      ],
      "text/plain": [
       "<pandas.io.formats.style.Styler at 0x7ddfa8be3580>"
      ]
     },
     "metadata": {},
     "output_type": "display_data"
    },
    {
     "name": "stdout",
     "output_type": "stream",
     "text": [
      "\u001b[1m\u001b[34m\n",
      "RAM usage = 1.702 GB\u001b[0m\n",
      "Mdl_Preds_V1.parquet\t  __notebook__.ipynb\r\n",
      "OOF_Preds_LAMAV1.parquet  submission.csv\r\n",
      "CPU times: user 4.66 s, sys: 262 ms, total: 4.92 s\n",
      "Wall time: 6.15 s\n"
     ]
    }
   ],
   "source": [
    "%%time \n",
    "\n",
    "\n",
    "score = Utils.ScoreMetric(train[target].values, \n",
    "                          np.where(oof_preds.data.flatten() > 0.6,1,0))\n",
    "Utils.PrintColor(f\"\\n---> OOF score = {score:.6f}\", color = Fore.RED)\n",
    "\n",
    "sub_fl[target] = preds.data.flatten()\n",
    "sub_fl.to_parquet(f\"Mdl_Preds_V{version_nb}.parquet\")\n",
    "\n",
    "pd.DataFrame(oof_preds.data.flatten(), \n",
    "             index = train.index, \n",
    "             columns = [f\"LAMA_V{version_nb}\"]\n",
    "            ).\\\n",
    "to_parquet(f\"OOF_Preds_LAMAV{version_nb}.parquet\")\n",
    "\n",
    "sub_fl[target] = np.where(sub_fl[target] >= 0.6, \"p\", \"e\")\n",
    "\n",
    "Utils.PrintColor(f\"\\n\\n---> Final submission file\\n\\n\")\n",
    "display(sub_fl.head(10).style.format(precision = 4))\n",
    "sub_fl.to_csv(\"submission.csv\", index = None)\n",
    "\n",
    "Utils.PrintColor(Utils.CleanMemory());\n",
    "!ls"
   ]
  }
 ],
 "metadata": {
  "kaggle": {
   "accelerator": "none",
   "dataSources": [
    {
     "databundleVersionId": 9045607,
     "sourceId": 76727,
     "sourceType": "competition"
    },
    {
     "sourceId": 189127690,
     "sourceType": "kernelVersion"
    },
    {
     "sourceId": 190668229,
     "sourceType": "kernelVersion"
    },
    {
     "sourceId": 190672036,
     "sourceType": "kernelVersion"
    }
   ],
   "dockerImageVersionId": 30673,
   "isGpuEnabled": false,
   "isInternetEnabled": true,
   "language": "python",
   "sourceType": "notebook"
  },
  "kernelspec": {
   "display_name": "Python 3",
   "language": "python",
   "name": "python3"
  },
  "language_info": {
   "codemirror_mode": {
    "name": "ipython",
    "version": 3
   },
   "file_extension": ".py",
   "mimetype": "text/x-python",
   "name": "python",
   "nbconvert_exporter": "python",
   "pygments_lexer": "ipython3",
   "version": "3.10.13"
  },
  "papermill": {
   "default_parameters": {},
   "duration": 2500.116573,
   "end_time": "2024-08-01T04:11:17.261885",
   "environment_variables": {},
   "exception": null,
   "input_path": "__notebook__.ipynb",
   "output_path": "__notebook__.ipynb",
   "parameters": {},
   "start_time": "2024-08-01T03:29:37.145312",
   "version": "2.5.0"
  }
 },
 "nbformat": 4,
 "nbformat_minor": 5
}
